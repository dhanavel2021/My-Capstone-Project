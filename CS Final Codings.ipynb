{
 "cells": [
  {
   "cell_type": "markdown",
   "id": "bd201c4b",
   "metadata": {},
   "source": [
    "# STUDENT ADMISSION PREDICTION"
   ]
  },
  {
   "cell_type": "markdown",
   "id": "a502805a",
   "metadata": {},
   "source": [
    "# PROBLEM DESCRIPTION :\n",
    "\n",
    "Once if the students completed their higher schoolings they are asked to \n",
    "complete their graduation, there are different branches and that would be varied according to the students wish and goal. Most of the schools will not encourage their students to participate in sports and other activities. \n",
    "Education means not only graduating but also making a student or a person fit for the society, apart from studies there is a major sector which plays a important role for the students is sports. This analysis is made to predict average accuracy of a sportsmen to get admission in a college according to the certification and marks he scored in his schoolings. \n"
   ]
  },
  {
   "cell_type": "markdown",
   "id": "b5781984",
   "metadata": {},
   "source": [
    "# IMPORTING LIBRARIES "
   ]
  },
  {
   "cell_type": "code",
   "execution_count": 1,
   "id": "6b8dfd6d",
   "metadata": {},
   "outputs": [],
   "source": [
    "import pandas as pd\n",
    "import matplotlib.pyplot as plt\n",
    "from sklearn.model_selection import train_test_split as tts\n",
    "import seaborn as sns\n",
    "from sklearn.metrics import accuracy_score, classification_report, confusion_matrix\n",
    "import warnings"
   ]
  },
  {
   "cell_type": "markdown",
   "id": "08116cb6",
   "metadata": {},
   "source": [
    "# Importing Dataset From Database Using SQL"
   ]
  },
  {
   "cell_type": "code",
   "execution_count": 2,
   "id": "5906691f",
   "metadata": {},
   "outputs": [],
   "source": [
    "import mysql.connector as mysql"
   ]
  },
  {
   "cell_type": "code",
   "execution_count": 3,
   "id": "0e02053e",
   "metadata": {},
   "outputs": [],
   "source": [
    "db=mysql.connect(host=\"localhost\",user=\"root\",password=\"9443547607@Dd\",database=\"capstone\", auth_plugin='mysql_native_password')"
   ]
  },
  {
   "cell_type": "code",
   "execution_count": 4,
   "id": "1d337ad4",
   "metadata": {},
   "outputs": [
    {
     "name": "stdout",
     "output_type": "stream",
     "text": [
      "<mysql.connector.connection_cext.CMySQLConnection object at 0x0000019781312490>\n"
     ]
    }
   ],
   "source": [
    "print(db)"
   ]
  },
  {
   "cell_type": "code",
   "execution_count": 5,
   "id": "3b0022e0",
   "metadata": {},
   "outputs": [],
   "source": [
    "myc=db.cursor()\n",
    "myc=db.cursor(buffered=True, dictionary=True)"
   ]
  },
  {
   "cell_type": "code",
   "execution_count": 6,
   "id": "c2d221a7",
   "metadata": {},
   "outputs": [],
   "source": [
    "myc.execute('SELECT * FROM capstone.`final csv`')"
   ]
  },
  {
   "cell_type": "code",
   "execution_count": 7,
   "id": "f414b564",
   "metadata": {},
   "outputs": [],
   "source": [
    "df=pd.DataFrame(myc.fetchall())"
   ]
  },
  {
   "cell_type": "code",
   "execution_count": 8,
   "id": "341c1ea5",
   "metadata": {},
   "outputs": [
    {
     "data": {
      "text/html": [
       "<div>\n",
       "<style scoped>\n",
       "    .dataframe tbody tr th:only-of-type {\n",
       "        vertical-align: middle;\n",
       "    }\n",
       "\n",
       "    .dataframe tbody tr th {\n",
       "        vertical-align: top;\n",
       "    }\n",
       "\n",
       "    .dataframe thead th {\n",
       "        text-align: right;\n",
       "    }\n",
       "</style>\n",
       "<table border=\"1\" class=\"dataframe\">\n",
       "  <thead>\n",
       "    <tr style=\"text-align: right;\">\n",
       "      <th></th>\n",
       "      <th>AGE</th>\n",
       "      <th>SPORT_PARTICIPANT</th>\n",
       "      <th>EDUCATIONAL_PERCENTAGE</th>\n",
       "      <th>FITNESS</th>\n",
       "      <th>HANDICAP</th>\n",
       "      <th>SEX</th>\n",
       "      <th>POSSIBILITY_OF_ADMISSION</th>\n",
       "    </tr>\n",
       "  </thead>\n",
       "  <tbody>\n",
       "    <tr>\n",
       "      <th>0</th>\n",
       "      <td>19</td>\n",
       "      <td>0</td>\n",
       "      <td>69</td>\n",
       "      <td>BELOW AVERAGE</td>\n",
       "      <td>NO</td>\n",
       "      <td>FEMALE</td>\n",
       "      <td>0</td>\n",
       "    </tr>\n",
       "    <tr>\n",
       "      <th>1</th>\n",
       "      <td>19</td>\n",
       "      <td>1</td>\n",
       "      <td>87</td>\n",
       "      <td>GOOD</td>\n",
       "      <td>NO</td>\n",
       "      <td>MALE</td>\n",
       "      <td>1</td>\n",
       "    </tr>\n",
       "    <tr>\n",
       "      <th>2</th>\n",
       "      <td>21</td>\n",
       "      <td>0</td>\n",
       "      <td>76</td>\n",
       "      <td>MODERATE</td>\n",
       "      <td>NO</td>\n",
       "      <td>MALE</td>\n",
       "      <td>0</td>\n",
       "    </tr>\n",
       "    <tr>\n",
       "      <th>3</th>\n",
       "      <td>21</td>\n",
       "      <td>0</td>\n",
       "      <td>69</td>\n",
       "      <td>BELOW AVERAGE</td>\n",
       "      <td>NO</td>\n",
       "      <td>FEMALE</td>\n",
       "      <td>0</td>\n",
       "    </tr>\n",
       "    <tr>\n",
       "      <th>4</th>\n",
       "      <td>24</td>\n",
       "      <td>1</td>\n",
       "      <td>87</td>\n",
       "      <td>GOOD</td>\n",
       "      <td>NO</td>\n",
       "      <td>FEMALE</td>\n",
       "      <td>1</td>\n",
       "    </tr>\n",
       "    <tr>\n",
       "      <th>...</th>\n",
       "      <td>...</td>\n",
       "      <td>...</td>\n",
       "      <td>...</td>\n",
       "      <td>...</td>\n",
       "      <td>...</td>\n",
       "      <td>...</td>\n",
       "      <td>...</td>\n",
       "    </tr>\n",
       "    <tr>\n",
       "      <th>537</th>\n",
       "      <td>24</td>\n",
       "      <td>1</td>\n",
       "      <td>69</td>\n",
       "      <td>GOOD</td>\n",
       "      <td>YES</td>\n",
       "      <td>MALE</td>\n",
       "      <td>1</td>\n",
       "    </tr>\n",
       "    <tr>\n",
       "      <th>538</th>\n",
       "      <td>24</td>\n",
       "      <td>0</td>\n",
       "      <td>68</td>\n",
       "      <td>BELOW AVERAGE</td>\n",
       "      <td>NO</td>\n",
       "      <td>MALE</td>\n",
       "      <td>0</td>\n",
       "    </tr>\n",
       "    <tr>\n",
       "      <th>539</th>\n",
       "      <td>22</td>\n",
       "      <td>1</td>\n",
       "      <td>75</td>\n",
       "      <td>GOOD</td>\n",
       "      <td>YES</td>\n",
       "      <td>MALE</td>\n",
       "      <td>1</td>\n",
       "    </tr>\n",
       "    <tr>\n",
       "      <th>540</th>\n",
       "      <td>23</td>\n",
       "      <td>0</td>\n",
       "      <td>80</td>\n",
       "      <td>MODERATE</td>\n",
       "      <td>YES</td>\n",
       "      <td>MALE</td>\n",
       "      <td>0</td>\n",
       "    </tr>\n",
       "    <tr>\n",
       "      <th>541</th>\n",
       "      <td>22</td>\n",
       "      <td>1</td>\n",
       "      <td>90</td>\n",
       "      <td>MODERATE</td>\n",
       "      <td>NO</td>\n",
       "      <td>FEMALE</td>\n",
       "      <td>1</td>\n",
       "    </tr>\n",
       "  </tbody>\n",
       "</table>\n",
       "<p>542 rows × 7 columns</p>\n",
       "</div>"
      ],
      "text/plain": [
       "     AGE  SPORT_PARTICIPANT  EDUCATIONAL_PERCENTAGE        FITNESS HANDICAP  \\\n",
       "0     19                  0                      69  BELOW AVERAGE       NO   \n",
       "1     19                  1                      87           GOOD       NO   \n",
       "2     21                  0                      76       MODERATE       NO   \n",
       "3     21                  0                      69  BELOW AVERAGE       NO   \n",
       "4     24                  1                      87           GOOD       NO   \n",
       "..   ...                ...                     ...            ...      ...   \n",
       "537   24                  1                      69           GOOD      YES   \n",
       "538   24                  0                      68  BELOW AVERAGE       NO   \n",
       "539   22                  1                      75           GOOD      YES   \n",
       "540   23                  0                      80       MODERATE      YES   \n",
       "541   22                  1                      90       MODERATE       NO   \n",
       "\n",
       "        SEX  POSSIBILITY_OF_ADMISSION  \n",
       "0    FEMALE                         0  \n",
       "1      MALE                         1  \n",
       "2      MALE                         0  \n",
       "3    FEMALE                         0  \n",
       "4    FEMALE                         1  \n",
       "..      ...                       ...  \n",
       "537    MALE                         1  \n",
       "538    MALE                         0  \n",
       "539    MALE                         1  \n",
       "540    MALE                         0  \n",
       "541  FEMALE                         1  \n",
       "\n",
       "[542 rows x 7 columns]"
      ]
     },
     "execution_count": 8,
     "metadata": {},
     "output_type": "execute_result"
    }
   ],
   "source": [
    "df"
   ]
  },
  {
   "cell_type": "code",
   "execution_count": 9,
   "id": "98753d6e",
   "metadata": {},
   "outputs": [
    {
     "data": {
      "text/html": [
       "<div>\n",
       "<style scoped>\n",
       "    .dataframe tbody tr th:only-of-type {\n",
       "        vertical-align: middle;\n",
       "    }\n",
       "\n",
       "    .dataframe tbody tr th {\n",
       "        vertical-align: top;\n",
       "    }\n",
       "\n",
       "    .dataframe thead th {\n",
       "        text-align: right;\n",
       "    }\n",
       "</style>\n",
       "<table border=\"1\" class=\"dataframe\">\n",
       "  <thead>\n",
       "    <tr style=\"text-align: right;\">\n",
       "      <th></th>\n",
       "      <th>AGE</th>\n",
       "      <th>SPORT_PARTICIPANT</th>\n",
       "      <th>EDUCATIONAL_PERCENTAGE</th>\n",
       "      <th>FITNESS</th>\n",
       "      <th>HANDICAP</th>\n",
       "      <th>SEX</th>\n",
       "      <th>POSSIBILITY_OF_ADMISSION</th>\n",
       "    </tr>\n",
       "  </thead>\n",
       "  <tbody>\n",
       "    <tr>\n",
       "      <th>0</th>\n",
       "      <td>19</td>\n",
       "      <td>0</td>\n",
       "      <td>69</td>\n",
       "      <td>BELOW AVERAGE</td>\n",
       "      <td>NO</td>\n",
       "      <td>FEMALE</td>\n",
       "      <td>0</td>\n",
       "    </tr>\n",
       "    <tr>\n",
       "      <th>1</th>\n",
       "      <td>19</td>\n",
       "      <td>1</td>\n",
       "      <td>87</td>\n",
       "      <td>GOOD</td>\n",
       "      <td>NO</td>\n",
       "      <td>MALE</td>\n",
       "      <td>1</td>\n",
       "    </tr>\n",
       "    <tr>\n",
       "      <th>2</th>\n",
       "      <td>21</td>\n",
       "      <td>0</td>\n",
       "      <td>76</td>\n",
       "      <td>MODERATE</td>\n",
       "      <td>NO</td>\n",
       "      <td>MALE</td>\n",
       "      <td>0</td>\n",
       "    </tr>\n",
       "    <tr>\n",
       "      <th>3</th>\n",
       "      <td>21</td>\n",
       "      <td>0</td>\n",
       "      <td>69</td>\n",
       "      <td>BELOW AVERAGE</td>\n",
       "      <td>NO</td>\n",
       "      <td>FEMALE</td>\n",
       "      <td>0</td>\n",
       "    </tr>\n",
       "    <tr>\n",
       "      <th>4</th>\n",
       "      <td>24</td>\n",
       "      <td>1</td>\n",
       "      <td>87</td>\n",
       "      <td>GOOD</td>\n",
       "      <td>NO</td>\n",
       "      <td>FEMALE</td>\n",
       "      <td>1</td>\n",
       "    </tr>\n",
       "  </tbody>\n",
       "</table>\n",
       "</div>"
      ],
      "text/plain": [
       "   AGE  SPORT_PARTICIPANT  EDUCATIONAL_PERCENTAGE        FITNESS HANDICAP  \\\n",
       "0   19                  0                      69  BELOW AVERAGE       NO   \n",
       "1   19                  1                      87           GOOD       NO   \n",
       "2   21                  0                      76       MODERATE       NO   \n",
       "3   21                  0                      69  BELOW AVERAGE       NO   \n",
       "4   24                  1                      87           GOOD       NO   \n",
       "\n",
       "      SEX  POSSIBILITY_OF_ADMISSION  \n",
       "0  FEMALE                         0  \n",
       "1    MALE                         1  \n",
       "2    MALE                         0  \n",
       "3  FEMALE                         0  \n",
       "4  FEMALE                         1  "
      ]
     },
     "execution_count": 9,
     "metadata": {},
     "output_type": "execute_result"
    }
   ],
   "source": [
    "df.head()"
   ]
  },
  {
   "cell_type": "code",
   "execution_count": 10,
   "id": "b918f969",
   "metadata": {},
   "outputs": [
    {
     "data": {
      "text/plain": [
       "array([271], dtype=int64)"
      ]
     },
     "execution_count": 10,
     "metadata": {},
     "output_type": "execute_result"
    }
   ],
   "source": [
    "df['POSSIBILITY_OF_ADMISSION'].value_counts().unique()"
   ]
  },
  {
   "cell_type": "code",
   "execution_count": 11,
   "id": "7fd99ec2",
   "metadata": {},
   "outputs": [
    {
     "data": {
      "text/plain": [
       "(542, 7)"
      ]
     },
     "execution_count": 11,
     "metadata": {},
     "output_type": "execute_result"
    }
   ],
   "source": [
    "df.shape"
   ]
  },
  {
   "cell_type": "markdown",
   "id": "fb2e4c14",
   "metadata": {},
   "source": [
    "# CHECKING FOR NULL VALUES\n"
   ]
  },
  {
   "cell_type": "code",
   "execution_count": 12,
   "id": "bcd6a51b",
   "metadata": {},
   "outputs": [
    {
     "data": {
      "text/plain": [
       "AGE                         False\n",
       "SPORT_PARTICIPANT           False\n",
       "EDUCATIONAL_PERCENTAGE      False\n",
       "FITNESS                     False\n",
       "HANDICAP                    False\n",
       "SEX                         False\n",
       "POSSIBILITY_OF_ADMISSION    False\n",
       "dtype: bool"
      ]
     },
     "execution_count": 12,
     "metadata": {},
     "output_type": "execute_result"
    }
   ],
   "source": [
    "df.sum().isna()"
   ]
  },
  {
   "cell_type": "code",
   "execution_count": 13,
   "id": "20200e75",
   "metadata": {},
   "outputs": [
    {
     "name": "stdout",
     "output_type": "stream",
     "text": [
      "<class 'pandas.core.frame.DataFrame'>\n",
      "RangeIndex: 542 entries, 0 to 541\n",
      "Data columns (total 7 columns):\n",
      " #   Column                    Non-Null Count  Dtype \n",
      "---  ------                    --------------  ----- \n",
      " 0   AGE                       542 non-null    int64 \n",
      " 1   SPORT_PARTICIPANT         542 non-null    int64 \n",
      " 2   EDUCATIONAL_PERCENTAGE    542 non-null    int64 \n",
      " 3   FITNESS                   542 non-null    object\n",
      " 4   HANDICAP                  542 non-null    object\n",
      " 5   SEX                       542 non-null    object\n",
      " 6   POSSIBILITY_OF_ADMISSION  542 non-null    int64 \n",
      "dtypes: int64(4), object(3)\n",
      "memory usage: 29.8+ KB\n"
     ]
    }
   ],
   "source": [
    "df.info()"
   ]
  },
  {
   "cell_type": "code",
   "execution_count": 14,
   "id": "6fddc1c8",
   "metadata": {},
   "outputs": [
    {
     "data": {
      "text/html": [
       "<div>\n",
       "<style scoped>\n",
       "    .dataframe tbody tr th:only-of-type {\n",
       "        vertical-align: middle;\n",
       "    }\n",
       "\n",
       "    .dataframe tbody tr th {\n",
       "        vertical-align: top;\n",
       "    }\n",
       "\n",
       "    .dataframe thead th {\n",
       "        text-align: right;\n",
       "    }\n",
       "</style>\n",
       "<table border=\"1\" class=\"dataframe\">\n",
       "  <thead>\n",
       "    <tr style=\"text-align: right;\">\n",
       "      <th></th>\n",
       "      <th>AGE</th>\n",
       "      <th>SPORT_PARTICIPANT</th>\n",
       "      <th>EDUCATIONAL_PERCENTAGE</th>\n",
       "      <th>FITNESS</th>\n",
       "      <th>HANDICAP</th>\n",
       "      <th>SEX</th>\n",
       "      <th>POSSIBILITY_OF_ADMISSION</th>\n",
       "    </tr>\n",
       "  </thead>\n",
       "  <tbody>\n",
       "    <tr>\n",
       "      <th>0</th>\n",
       "      <td>False</td>\n",
       "      <td>False</td>\n",
       "      <td>False</td>\n",
       "      <td>False</td>\n",
       "      <td>False</td>\n",
       "      <td>False</td>\n",
       "      <td>False</td>\n",
       "    </tr>\n",
       "    <tr>\n",
       "      <th>1</th>\n",
       "      <td>False</td>\n",
       "      <td>False</td>\n",
       "      <td>False</td>\n",
       "      <td>False</td>\n",
       "      <td>False</td>\n",
       "      <td>False</td>\n",
       "      <td>False</td>\n",
       "    </tr>\n",
       "    <tr>\n",
       "      <th>2</th>\n",
       "      <td>False</td>\n",
       "      <td>False</td>\n",
       "      <td>False</td>\n",
       "      <td>False</td>\n",
       "      <td>False</td>\n",
       "      <td>False</td>\n",
       "      <td>False</td>\n",
       "    </tr>\n",
       "    <tr>\n",
       "      <th>3</th>\n",
       "      <td>False</td>\n",
       "      <td>False</td>\n",
       "      <td>False</td>\n",
       "      <td>False</td>\n",
       "      <td>False</td>\n",
       "      <td>False</td>\n",
       "      <td>False</td>\n",
       "    </tr>\n",
       "    <tr>\n",
       "      <th>4</th>\n",
       "      <td>False</td>\n",
       "      <td>False</td>\n",
       "      <td>False</td>\n",
       "      <td>False</td>\n",
       "      <td>False</td>\n",
       "      <td>False</td>\n",
       "      <td>False</td>\n",
       "    </tr>\n",
       "    <tr>\n",
       "      <th>...</th>\n",
       "      <td>...</td>\n",
       "      <td>...</td>\n",
       "      <td>...</td>\n",
       "      <td>...</td>\n",
       "      <td>...</td>\n",
       "      <td>...</td>\n",
       "      <td>...</td>\n",
       "    </tr>\n",
       "    <tr>\n",
       "      <th>537</th>\n",
       "      <td>False</td>\n",
       "      <td>False</td>\n",
       "      <td>False</td>\n",
       "      <td>False</td>\n",
       "      <td>False</td>\n",
       "      <td>False</td>\n",
       "      <td>False</td>\n",
       "    </tr>\n",
       "    <tr>\n",
       "      <th>538</th>\n",
       "      <td>False</td>\n",
       "      <td>False</td>\n",
       "      <td>False</td>\n",
       "      <td>False</td>\n",
       "      <td>False</td>\n",
       "      <td>False</td>\n",
       "      <td>False</td>\n",
       "    </tr>\n",
       "    <tr>\n",
       "      <th>539</th>\n",
       "      <td>False</td>\n",
       "      <td>False</td>\n",
       "      <td>False</td>\n",
       "      <td>False</td>\n",
       "      <td>False</td>\n",
       "      <td>False</td>\n",
       "      <td>False</td>\n",
       "    </tr>\n",
       "    <tr>\n",
       "      <th>540</th>\n",
       "      <td>False</td>\n",
       "      <td>False</td>\n",
       "      <td>False</td>\n",
       "      <td>False</td>\n",
       "      <td>False</td>\n",
       "      <td>False</td>\n",
       "      <td>False</td>\n",
       "    </tr>\n",
       "    <tr>\n",
       "      <th>541</th>\n",
       "      <td>False</td>\n",
       "      <td>False</td>\n",
       "      <td>False</td>\n",
       "      <td>False</td>\n",
       "      <td>False</td>\n",
       "      <td>False</td>\n",
       "      <td>False</td>\n",
       "    </tr>\n",
       "  </tbody>\n",
       "</table>\n",
       "<p>542 rows × 7 columns</p>\n",
       "</div>"
      ],
      "text/plain": [
       "       AGE  SPORT_PARTICIPANT  EDUCATIONAL_PERCENTAGE  FITNESS  HANDICAP  \\\n",
       "0    False              False                   False    False     False   \n",
       "1    False              False                   False    False     False   \n",
       "2    False              False                   False    False     False   \n",
       "3    False              False                   False    False     False   \n",
       "4    False              False                   False    False     False   \n",
       "..     ...                ...                     ...      ...       ...   \n",
       "537  False              False                   False    False     False   \n",
       "538  False              False                   False    False     False   \n",
       "539  False              False                   False    False     False   \n",
       "540  False              False                   False    False     False   \n",
       "541  False              False                   False    False     False   \n",
       "\n",
       "       SEX  POSSIBILITY_OF_ADMISSION  \n",
       "0    False                     False  \n",
       "1    False                     False  \n",
       "2    False                     False  \n",
       "3    False                     False  \n",
       "4    False                     False  \n",
       "..     ...                       ...  \n",
       "537  False                     False  \n",
       "538  False                     False  \n",
       "539  False                     False  \n",
       "540  False                     False  \n",
       "541  False                     False  \n",
       "\n",
       "[542 rows x 7 columns]"
      ]
     },
     "execution_count": 14,
     "metadata": {},
     "output_type": "execute_result"
    }
   ],
   "source": [
    "df.isna()"
   ]
  },
  {
   "cell_type": "code",
   "execution_count": 15,
   "id": "476eea94",
   "metadata": {},
   "outputs": [
    {
     "data": {
      "text/plain": [
       "AGE                         False\n",
       "SPORT_PARTICIPANT           False\n",
       "EDUCATIONAL_PERCENTAGE      False\n",
       "FITNESS                     False\n",
       "HANDICAP                    False\n",
       "SEX                         False\n",
       "POSSIBILITY_OF_ADMISSION    False\n",
       "dtype: bool"
      ]
     },
     "execution_count": 15,
     "metadata": {},
     "output_type": "execute_result"
    }
   ],
   "source": [
    "df.count().isna()"
   ]
  },
  {
   "cell_type": "markdown",
   "id": "c317306b",
   "metadata": {},
   "source": [
    "# DATA PREPROCESSING\n"
   ]
  },
  {
   "cell_type": "code",
   "execution_count": 16,
   "id": "2393ce17",
   "metadata": {},
   "outputs": [
    {
     "data": {
      "text/plain": [
       "22    111\n",
       "24     98\n",
       "21     88\n",
       "23     86\n",
       "19     83\n",
       "20     76\n",
       "Name: AGE, dtype: int64"
      ]
     },
     "execution_count": 16,
     "metadata": {},
     "output_type": "execute_result"
    }
   ],
   "source": [
    "df['AGE'].value_counts()"
   ]
  },
  {
   "cell_type": "code",
   "execution_count": 17,
   "id": "a6305d3d",
   "metadata": {},
   "outputs": [
    {
     "data": {
      "text/plain": [
       "0    326\n",
       "1    216\n",
       "Name: SPORT_PARTICIPANT, dtype: int64"
      ]
     },
     "execution_count": 17,
     "metadata": {},
     "output_type": "execute_result"
    }
   ],
   "source": [
    "df['SPORT_PARTICIPANT'].value_counts()"
   ]
  },
  {
   "cell_type": "code",
   "execution_count": 18,
   "id": "21362cae",
   "metadata": {},
   "outputs": [
    {
     "data": {
      "text/plain": [
       "87    23\n",
       "90    22\n",
       "85    22\n",
       "94    20\n",
       "71    19\n",
       "95    18\n",
       "78    17\n",
       "73    17\n",
       "69    16\n",
       "59    16\n",
       "62    16\n",
       "77    15\n",
       "75    15\n",
       "93    15\n",
       "76    15\n",
       "61    14\n",
       "91    13\n",
       "92    12\n",
       "79    12\n",
       "64    12\n",
       "68    12\n",
       "70    12\n",
       "66    12\n",
       "56    12\n",
       "51    12\n",
       "65    11\n",
       "57    11\n",
       "50    11\n",
       "52    11\n",
       "58    11\n",
       "86    10\n",
       "89    10\n",
       "88     9\n",
       "54     9\n",
       "67     8\n",
       "55     8\n",
       "74     8\n",
       "80     8\n",
       "60     8\n",
       "72     8\n",
       "53     8\n",
       "63     4\n",
       "Name: EDUCATIONAL_PERCENTAGE, dtype: int64"
      ]
     },
     "execution_count": 18,
     "metadata": {},
     "output_type": "execute_result"
    }
   ],
   "source": [
    "df['EDUCATIONAL_PERCENTAGE'].value_counts()"
   ]
  },
  {
   "cell_type": "code",
   "execution_count": 19,
   "id": "896c4c91",
   "metadata": {},
   "outputs": [
    {
     "data": {
      "text/plain": [
       "GOOD             215\n",
       "BELOW AVERAGE    164\n",
       "MODERATE         163\n",
       "Name: FITNESS, dtype: int64"
      ]
     },
     "execution_count": 19,
     "metadata": {},
     "output_type": "execute_result"
    }
   ],
   "source": [
    "df['FITNESS'].value_counts()"
   ]
  },
  {
   "cell_type": "code",
   "execution_count": 20,
   "id": "50250aba",
   "metadata": {},
   "outputs": [
    {
     "data": {
      "text/plain": [
       "NO     493\n",
       "YES     49\n",
       "Name: HANDICAP, dtype: int64"
      ]
     },
     "execution_count": 20,
     "metadata": {},
     "output_type": "execute_result"
    }
   ],
   "source": [
    "df['HANDICAP'].value_counts()"
   ]
  },
  {
   "cell_type": "code",
   "execution_count": 21,
   "id": "366e1ccf",
   "metadata": {},
   "outputs": [
    {
     "data": {
      "text/plain": [
       "MALE      299\n",
       "FEMALE    243\n",
       "Name: SEX, dtype: int64"
      ]
     },
     "execution_count": 21,
     "metadata": {},
     "output_type": "execute_result"
    }
   ],
   "source": [
    "df['SEX'].value_counts()"
   ]
  },
  {
   "cell_type": "code",
   "execution_count": 22,
   "id": "6234cfc5",
   "metadata": {},
   "outputs": [
    {
     "data": {
      "text/plain": [
       "0    271\n",
       "1    271\n",
       "Name: POSSIBILITY_OF_ADMISSION, dtype: int64"
      ]
     },
     "execution_count": 22,
     "metadata": {},
     "output_type": "execute_result"
    }
   ],
   "source": [
    "df['POSSIBILITY_OF_ADMISSION'].value_counts()"
   ]
  },
  {
   "cell_type": "code",
   "execution_count": 23,
   "id": "3f16e578",
   "metadata": {},
   "outputs": [],
   "source": [
    "df1=df"
   ]
  },
  {
   "cell_type": "markdown",
   "id": "b841d143",
   "metadata": {},
   "source": [
    "# CONVERTING NON-NUMERICAL DATA INTO CATEGORICAL NUMBERIC DATA"
   ]
  },
  {
   "cell_type": "code",
   "execution_count": 24,
   "id": "d3b4c764",
   "metadata": {},
   "outputs": [
    {
     "data": {
      "text/plain": [
       "0    215\n",
       "2    164\n",
       "1    163\n",
       "Name: FITNESS, dtype: int64"
      ]
     },
     "execution_count": 24,
     "metadata": {},
     "output_type": "execute_result"
    }
   ],
   "source": [
    "df1['FITNESS']=df1['FITNESS'].astype('category')\n",
    "df1['FITNESS']=df1['FITNESS'].cat.reorder_categories(['GOOD','MODERATE','BELOW AVERAGE'])\n",
    "df1['FITNESS']=df1['FITNESS'].cat.codes\n",
    "df1['FITNESS'].value_counts()"
   ]
  },
  {
   "cell_type": "code",
   "execution_count": 25,
   "id": "dcfb1617",
   "metadata": {},
   "outputs": [
    {
     "data": {
      "text/plain": [
       "1    493\n",
       "0     49\n",
       "Name: HANDICAP, dtype: int64"
      ]
     },
     "execution_count": 25,
     "metadata": {},
     "output_type": "execute_result"
    }
   ],
   "source": [
    "df1['HANDICAP']=df1['HANDICAP'].astype('category')\n",
    "df1['HANDICAP']=df1['HANDICAP'].cat.reorder_categories(['YES','NO'])\n",
    "df1['HANDICAP']=df1['HANDICAP'].cat.codes\n",
    "df1['HANDICAP'].value_counts()"
   ]
  },
  {
   "cell_type": "code",
   "execution_count": 26,
   "id": "7f45dc3b",
   "metadata": {},
   "outputs": [
    {
     "data": {
      "text/plain": [
       "0    299\n",
       "1    243\n",
       "Name: SEX, dtype: int64"
      ]
     },
     "execution_count": 26,
     "metadata": {},
     "output_type": "execute_result"
    }
   ],
   "source": [
    "df1['SEX']=df1['SEX'].astype('category')\n",
    "df1['SEX']=df1['SEX'].cat.reorder_categories(['MALE','FEMALE'])\n",
    "df1['SEX']=df1['SEX'].cat.codes\n",
    "df1['SEX'].value_counts()"
   ]
  },
  {
   "cell_type": "markdown",
   "id": "17471617",
   "metadata": {},
   "source": [
    "# EXPLORATORY DATA ANALYSIS\n"
   ]
  },
  {
   "cell_type": "code",
   "execution_count": 27,
   "id": "715ab05a",
   "metadata": {},
   "outputs": [
    {
     "data": {
      "text/html": [
       "<div>\n",
       "<style scoped>\n",
       "    .dataframe tbody tr th:only-of-type {\n",
       "        vertical-align: middle;\n",
       "    }\n",
       "\n",
       "    .dataframe tbody tr th {\n",
       "        vertical-align: top;\n",
       "    }\n",
       "\n",
       "    .dataframe thead th {\n",
       "        text-align: right;\n",
       "    }\n",
       "</style>\n",
       "<table border=\"1\" class=\"dataframe\">\n",
       "  <thead>\n",
       "    <tr style=\"text-align: right;\">\n",
       "      <th></th>\n",
       "      <th>AGE</th>\n",
       "      <th>SPORT_PARTICIPANT</th>\n",
       "      <th>EDUCATIONAL_PERCENTAGE</th>\n",
       "      <th>FITNESS</th>\n",
       "      <th>HANDICAP</th>\n",
       "      <th>SEX</th>\n",
       "      <th>POSSIBILITY_OF_ADMISSION</th>\n",
       "    </tr>\n",
       "  </thead>\n",
       "  <tbody>\n",
       "    <tr>\n",
       "      <th>0</th>\n",
       "      <td>19</td>\n",
       "      <td>0</td>\n",
       "      <td>69</td>\n",
       "      <td>2</td>\n",
       "      <td>1</td>\n",
       "      <td>1</td>\n",
       "      <td>0</td>\n",
       "    </tr>\n",
       "    <tr>\n",
       "      <th>1</th>\n",
       "      <td>19</td>\n",
       "      <td>1</td>\n",
       "      <td>87</td>\n",
       "      <td>0</td>\n",
       "      <td>1</td>\n",
       "      <td>0</td>\n",
       "      <td>1</td>\n",
       "    </tr>\n",
       "    <tr>\n",
       "      <th>2</th>\n",
       "      <td>21</td>\n",
       "      <td>0</td>\n",
       "      <td>76</td>\n",
       "      <td>1</td>\n",
       "      <td>1</td>\n",
       "      <td>0</td>\n",
       "      <td>0</td>\n",
       "    </tr>\n",
       "    <tr>\n",
       "      <th>3</th>\n",
       "      <td>21</td>\n",
       "      <td>0</td>\n",
       "      <td>69</td>\n",
       "      <td>2</td>\n",
       "      <td>1</td>\n",
       "      <td>1</td>\n",
       "      <td>0</td>\n",
       "    </tr>\n",
       "    <tr>\n",
       "      <th>4</th>\n",
       "      <td>24</td>\n",
       "      <td>1</td>\n",
       "      <td>87</td>\n",
       "      <td>0</td>\n",
       "      <td>1</td>\n",
       "      <td>1</td>\n",
       "      <td>1</td>\n",
       "    </tr>\n",
       "    <tr>\n",
       "      <th>...</th>\n",
       "      <td>...</td>\n",
       "      <td>...</td>\n",
       "      <td>...</td>\n",
       "      <td>...</td>\n",
       "      <td>...</td>\n",
       "      <td>...</td>\n",
       "      <td>...</td>\n",
       "    </tr>\n",
       "    <tr>\n",
       "      <th>537</th>\n",
       "      <td>24</td>\n",
       "      <td>1</td>\n",
       "      <td>69</td>\n",
       "      <td>0</td>\n",
       "      <td>0</td>\n",
       "      <td>0</td>\n",
       "      <td>1</td>\n",
       "    </tr>\n",
       "    <tr>\n",
       "      <th>538</th>\n",
       "      <td>24</td>\n",
       "      <td>0</td>\n",
       "      <td>68</td>\n",
       "      <td>2</td>\n",
       "      <td>1</td>\n",
       "      <td>0</td>\n",
       "      <td>0</td>\n",
       "    </tr>\n",
       "    <tr>\n",
       "      <th>539</th>\n",
       "      <td>22</td>\n",
       "      <td>1</td>\n",
       "      <td>75</td>\n",
       "      <td>0</td>\n",
       "      <td>0</td>\n",
       "      <td>0</td>\n",
       "      <td>1</td>\n",
       "    </tr>\n",
       "    <tr>\n",
       "      <th>540</th>\n",
       "      <td>23</td>\n",
       "      <td>0</td>\n",
       "      <td>80</td>\n",
       "      <td>1</td>\n",
       "      <td>0</td>\n",
       "      <td>0</td>\n",
       "      <td>0</td>\n",
       "    </tr>\n",
       "    <tr>\n",
       "      <th>541</th>\n",
       "      <td>22</td>\n",
       "      <td>1</td>\n",
       "      <td>90</td>\n",
       "      <td>1</td>\n",
       "      <td>1</td>\n",
       "      <td>1</td>\n",
       "      <td>1</td>\n",
       "    </tr>\n",
       "  </tbody>\n",
       "</table>\n",
       "<p>542 rows × 7 columns</p>\n",
       "</div>"
      ],
      "text/plain": [
       "     AGE  SPORT_PARTICIPANT  EDUCATIONAL_PERCENTAGE  FITNESS  HANDICAP  SEX  \\\n",
       "0     19                  0                      69        2         1    1   \n",
       "1     19                  1                      87        0         1    0   \n",
       "2     21                  0                      76        1         1    0   \n",
       "3     21                  0                      69        2         1    1   \n",
       "4     24                  1                      87        0         1    1   \n",
       "..   ...                ...                     ...      ...       ...  ...   \n",
       "537   24                  1                      69        0         0    0   \n",
       "538   24                  0                      68        2         1    0   \n",
       "539   22                  1                      75        0         0    0   \n",
       "540   23                  0                      80        1         0    0   \n",
       "541   22                  1                      90        1         1    1   \n",
       "\n",
       "     POSSIBILITY_OF_ADMISSION  \n",
       "0                           0  \n",
       "1                           1  \n",
       "2                           0  \n",
       "3                           0  \n",
       "4                           1  \n",
       "..                        ...  \n",
       "537                         1  \n",
       "538                         0  \n",
       "539                         1  \n",
       "540                         0  \n",
       "541                         1  \n",
       "\n",
       "[542 rows x 7 columns]"
      ]
     },
     "execution_count": 27,
     "metadata": {},
     "output_type": "execute_result"
    }
   ],
   "source": [
    "df1"
   ]
  },
  {
   "cell_type": "code",
   "execution_count": 28,
   "id": "995adea4",
   "metadata": {},
   "outputs": [
    {
     "data": {
      "text/html": [
       "<div>\n",
       "<style scoped>\n",
       "    .dataframe tbody tr th:only-of-type {\n",
       "        vertical-align: middle;\n",
       "    }\n",
       "\n",
       "    .dataframe tbody tr th {\n",
       "        vertical-align: top;\n",
       "    }\n",
       "\n",
       "    .dataframe thead th {\n",
       "        text-align: right;\n",
       "    }\n",
       "</style>\n",
       "<table border=\"1\" class=\"dataframe\">\n",
       "  <thead>\n",
       "    <tr style=\"text-align: right;\">\n",
       "      <th></th>\n",
       "      <th>AGE</th>\n",
       "      <th>SPORT_PARTICIPANT</th>\n",
       "      <th>EDUCATIONAL_PERCENTAGE</th>\n",
       "      <th>FITNESS</th>\n",
       "      <th>HANDICAP</th>\n",
       "      <th>SEX</th>\n",
       "      <th>POSSIBILITY_OF_ADMISSION</th>\n",
       "    </tr>\n",
       "  </thead>\n",
       "  <tbody>\n",
       "    <tr>\n",
       "      <th>count</th>\n",
       "      <td>542.000000</td>\n",
       "      <td>542.000000</td>\n",
       "      <td>542.000000</td>\n",
       "      <td>542.000000</td>\n",
       "      <td>542.000000</td>\n",
       "      <td>542.000000</td>\n",
       "      <td>542.000000</td>\n",
       "    </tr>\n",
       "    <tr>\n",
       "      <th>mean</th>\n",
       "      <td>21.618081</td>\n",
       "      <td>0.398524</td>\n",
       "      <td>73.562731</td>\n",
       "      <td>0.905904</td>\n",
       "      <td>0.909594</td>\n",
       "      <td>0.448339</td>\n",
       "      <td>0.500000</td>\n",
       "    </tr>\n",
       "    <tr>\n",
       "      <th>std</th>\n",
       "      <td>1.686054</td>\n",
       "      <td>0.490047</td>\n",
       "      <td>13.617658</td>\n",
       "      <td>0.831675</td>\n",
       "      <td>0.287027</td>\n",
       "      <td>0.497783</td>\n",
       "      <td>0.500462</td>\n",
       "    </tr>\n",
       "    <tr>\n",
       "      <th>min</th>\n",
       "      <td>19.000000</td>\n",
       "      <td>0.000000</td>\n",
       "      <td>50.000000</td>\n",
       "      <td>0.000000</td>\n",
       "      <td>0.000000</td>\n",
       "      <td>0.000000</td>\n",
       "      <td>0.000000</td>\n",
       "    </tr>\n",
       "    <tr>\n",
       "      <th>25%</th>\n",
       "      <td>20.000000</td>\n",
       "      <td>0.000000</td>\n",
       "      <td>62.000000</td>\n",
       "      <td>0.000000</td>\n",
       "      <td>1.000000</td>\n",
       "      <td>0.000000</td>\n",
       "      <td>0.000000</td>\n",
       "    </tr>\n",
       "    <tr>\n",
       "      <th>50%</th>\n",
       "      <td>22.000000</td>\n",
       "      <td>0.000000</td>\n",
       "      <td>73.000000</td>\n",
       "      <td>1.000000</td>\n",
       "      <td>1.000000</td>\n",
       "      <td>0.000000</td>\n",
       "      <td>0.500000</td>\n",
       "    </tr>\n",
       "    <tr>\n",
       "      <th>75%</th>\n",
       "      <td>23.000000</td>\n",
       "      <td>1.000000</td>\n",
       "      <td>87.000000</td>\n",
       "      <td>2.000000</td>\n",
       "      <td>1.000000</td>\n",
       "      <td>1.000000</td>\n",
       "      <td>1.000000</td>\n",
       "    </tr>\n",
       "    <tr>\n",
       "      <th>max</th>\n",
       "      <td>24.000000</td>\n",
       "      <td>1.000000</td>\n",
       "      <td>95.000000</td>\n",
       "      <td>2.000000</td>\n",
       "      <td>1.000000</td>\n",
       "      <td>1.000000</td>\n",
       "      <td>1.000000</td>\n",
       "    </tr>\n",
       "  </tbody>\n",
       "</table>\n",
       "</div>"
      ],
      "text/plain": [
       "              AGE  SPORT_PARTICIPANT  EDUCATIONAL_PERCENTAGE     FITNESS  \\\n",
       "count  542.000000         542.000000              542.000000  542.000000   \n",
       "mean    21.618081           0.398524               73.562731    0.905904   \n",
       "std      1.686054           0.490047               13.617658    0.831675   \n",
       "min     19.000000           0.000000               50.000000    0.000000   \n",
       "25%     20.000000           0.000000               62.000000    0.000000   \n",
       "50%     22.000000           0.000000               73.000000    1.000000   \n",
       "75%     23.000000           1.000000               87.000000    2.000000   \n",
       "max     24.000000           1.000000               95.000000    2.000000   \n",
       "\n",
       "         HANDICAP         SEX  POSSIBILITY_OF_ADMISSION  \n",
       "count  542.000000  542.000000                542.000000  \n",
       "mean     0.909594    0.448339                  0.500000  \n",
       "std      0.287027    0.497783                  0.500462  \n",
       "min      0.000000    0.000000                  0.000000  \n",
       "25%      1.000000    0.000000                  0.000000  \n",
       "50%      1.000000    0.000000                  0.500000  \n",
       "75%      1.000000    1.000000                  1.000000  \n",
       "max      1.000000    1.000000                  1.000000  "
      ]
     },
     "execution_count": 28,
     "metadata": {},
     "output_type": "execute_result"
    }
   ],
   "source": [
    "df1.describe()"
   ]
  },
  {
   "cell_type": "code",
   "execution_count": 29,
   "id": "77d5ecf0",
   "metadata": {},
   "outputs": [
    {
     "data": {
      "text/html": [
       "<div>\n",
       "<style scoped>\n",
       "    .dataframe tbody tr th:only-of-type {\n",
       "        vertical-align: middle;\n",
       "    }\n",
       "\n",
       "    .dataframe tbody tr th {\n",
       "        vertical-align: top;\n",
       "    }\n",
       "\n",
       "    .dataframe thead th {\n",
       "        text-align: right;\n",
       "    }\n",
       "</style>\n",
       "<table border=\"1\" class=\"dataframe\">\n",
       "  <thead>\n",
       "    <tr style=\"text-align: right;\">\n",
       "      <th></th>\n",
       "      <th>AGE</th>\n",
       "      <th>SPORT_PARTICIPANT</th>\n",
       "      <th>EDUCATIONAL_PERCENTAGE</th>\n",
       "      <th>FITNESS</th>\n",
       "      <th>HANDICAP</th>\n",
       "      <th>SEX</th>\n",
       "      <th>POSSIBILITY_OF_ADMISSION</th>\n",
       "    </tr>\n",
       "  </thead>\n",
       "  <tbody>\n",
       "    <tr>\n",
       "      <th>AGE</th>\n",
       "      <td>1.000000</td>\n",
       "      <td>0.045849</td>\n",
       "      <td>0.025237</td>\n",
       "      <td>-0.046766</td>\n",
       "      <td>-0.006547</td>\n",
       "      <td>-0.066498</td>\n",
       "      <td>0.055860</td>\n",
       "    </tr>\n",
       "    <tr>\n",
       "      <th>SPORT_PARTICIPANT</th>\n",
       "      <td>0.045849</td>\n",
       "      <td>1.000000</td>\n",
       "      <td>0.706447</td>\n",
       "      <td>-0.882922</td>\n",
       "      <td>-0.006207</td>\n",
       "      <td>0.061822</td>\n",
       "      <td>0.738619</td>\n",
       "    </tr>\n",
       "    <tr>\n",
       "      <th>EDUCATIONAL_PERCENTAGE</th>\n",
       "      <td>0.025237</td>\n",
       "      <td>0.706447</td>\n",
       "      <td>1.000000</td>\n",
       "      <td>-0.618614</td>\n",
       "      <td>0.023444</td>\n",
       "      <td>0.090601</td>\n",
       "      <td>0.549908</td>\n",
       "    </tr>\n",
       "    <tr>\n",
       "      <th>FITNESS</th>\n",
       "      <td>-0.046766</td>\n",
       "      <td>-0.882922</td>\n",
       "      <td>-0.618614</td>\n",
       "      <td>1.000000</td>\n",
       "      <td>0.010758</td>\n",
       "      <td>-0.049715</td>\n",
       "      <td>-0.668366</td>\n",
       "    </tr>\n",
       "    <tr>\n",
       "      <th>HANDICAP</th>\n",
       "      <td>-0.006547</td>\n",
       "      <td>-0.006207</td>\n",
       "      <td>0.023444</td>\n",
       "      <td>0.010758</td>\n",
       "      <td>1.000000</td>\n",
       "      <td>-0.000406</td>\n",
       "      <td>-0.006434</td>\n",
       "    </tr>\n",
       "    <tr>\n",
       "      <th>SEX</th>\n",
       "      <td>-0.066498</td>\n",
       "      <td>0.061822</td>\n",
       "      <td>0.090601</td>\n",
       "      <td>-0.049715</td>\n",
       "      <td>-0.000406</td>\n",
       "      <td>1.000000</td>\n",
       "      <td>0.040809</td>\n",
       "    </tr>\n",
       "    <tr>\n",
       "      <th>POSSIBILITY_OF_ADMISSION</th>\n",
       "      <td>0.055860</td>\n",
       "      <td>0.738619</td>\n",
       "      <td>0.549908</td>\n",
       "      <td>-0.668366</td>\n",
       "      <td>-0.006434</td>\n",
       "      <td>0.040809</td>\n",
       "      <td>1.000000</td>\n",
       "    </tr>\n",
       "  </tbody>\n",
       "</table>\n",
       "</div>"
      ],
      "text/plain": [
       "                               AGE  SPORT_PARTICIPANT  EDUCATIONAL_PERCENTAGE  \\\n",
       "AGE                       1.000000           0.045849                0.025237   \n",
       "SPORT_PARTICIPANT         0.045849           1.000000                0.706447   \n",
       "EDUCATIONAL_PERCENTAGE    0.025237           0.706447                1.000000   \n",
       "FITNESS                  -0.046766          -0.882922               -0.618614   \n",
       "HANDICAP                 -0.006547          -0.006207                0.023444   \n",
       "SEX                      -0.066498           0.061822                0.090601   \n",
       "POSSIBILITY_OF_ADMISSION  0.055860           0.738619                0.549908   \n",
       "\n",
       "                           FITNESS  HANDICAP       SEX  \\\n",
       "AGE                      -0.046766 -0.006547 -0.066498   \n",
       "SPORT_PARTICIPANT        -0.882922 -0.006207  0.061822   \n",
       "EDUCATIONAL_PERCENTAGE   -0.618614  0.023444  0.090601   \n",
       "FITNESS                   1.000000  0.010758 -0.049715   \n",
       "HANDICAP                  0.010758  1.000000 -0.000406   \n",
       "SEX                      -0.049715 -0.000406  1.000000   \n",
       "POSSIBILITY_OF_ADMISSION -0.668366 -0.006434  0.040809   \n",
       "\n",
       "                          POSSIBILITY_OF_ADMISSION  \n",
       "AGE                                       0.055860  \n",
       "SPORT_PARTICIPANT                         0.738619  \n",
       "EDUCATIONAL_PERCENTAGE                    0.549908  \n",
       "FITNESS                                  -0.668366  \n",
       "HANDICAP                                 -0.006434  \n",
       "SEX                                       0.040809  \n",
       "POSSIBILITY_OF_ADMISSION                  1.000000  "
      ]
     },
     "execution_count": 29,
     "metadata": {},
     "output_type": "execute_result"
    }
   ],
   "source": [
    "df1.corr()"
   ]
  },
  {
   "cell_type": "code",
   "execution_count": 30,
   "id": "6f68fbc8",
   "metadata": {},
   "outputs": [
    {
     "data": {
      "text/plain": [
       "Index(['AGE', 'SPORT_PARTICIPANT', 'EDUCATIONAL_PERCENTAGE', 'FITNESS',\n",
       "       'HANDICAP', 'SEX', 'POSSIBILITY_OF_ADMISSION'],\n",
       "      dtype='object')"
      ]
     },
     "execution_count": 30,
     "metadata": {},
     "output_type": "execute_result"
    }
   ],
   "source": [
    "df.columns"
   ]
  },
  {
   "cell_type": "code",
   "execution_count": 31,
   "id": "6cf16262",
   "metadata": {},
   "outputs": [
    {
     "data": {
      "image/png": "[encoded data removed]",
      "text/plain": [
       "<Figure size 1440x720 with 9 Axes>"
      ]
     },
     "metadata": {
      "needs_background": "light"
     },
     "output_type": "display_data"
    }
   ],
   "source": [
    "df.hist(xrot=20,figsize=(20,10),color = \"cyan\")\n",
    "plt.show()"
   ]
  },
  {
   "cell_type": "code",
   "execution_count": 32,
   "id": "badd2be3",
   "metadata": {},
   "outputs": [
    {
     "name": "stderr",
     "output_type": "stream",
     "text": [
      "C:\\Users\\DHANAVEL\\anaconda3\\lib\\site-packages\\seaborn\\_decorators.py:36: FutureWarning: Pass the following variable as a keyword arg: x. From version 0.12, the only valid positional argument will be `data`, and passing other arguments without an explicit keyword will result in an error or misinterpretation.\n",
      "  warnings.warn(\n"
     ]
    },
    {
     "data": {
      "image/png": "[encoded data removed]",
      "text/plain": [
       "<Figure size 432x432 with 1 Axes>"
      ]
     },
     "metadata": {
      "needs_background": "light"
     },
     "output_type": "display_data"
    }
   ],
   "source": [
    "sns.countplot(df['AGE'])\n",
    "fig = plt.gcf()\n",
    "fig.set_size_inches(6,6)\n",
    "plt.title('AGE COUNT')\n",
    "plt.show()\n",
    "warnings.filterwarnings('ignore')"
   ]
  },
  {
   "cell_type": "code",
   "execution_count": 33,
   "id": "fe583312",
   "metadata": {},
   "outputs": [
    {
     "data": {
      "image/png": "[encoded data removed]",
      "text/plain": [
       "<Figure size 432x432 with 1 Axes>"
      ]
     },
     "metadata": {
      "needs_background": "light"
     },
     "output_type": "display_data"
    }
   ],
   "source": [
    "sns.countplot(df['SPORT_PARTICIPANT'])\n",
    "fig = plt.gcf()\n",
    "fig.set_size_inches(6,6)\n",
    "plt.title('SPORT_PARTICIPANT')\n",
    "plt.show()\n",
    "warnings.filterwarnings('ignore')"
   ]
  },
  {
   "cell_type": "code",
   "execution_count": 34,
   "id": "26806f66",
   "metadata": {},
   "outputs": [
    {
     "data": {
      "image/png": "[encoded data removed]",
      "text/plain": [
       "<Figure size 432x432 with 1 Axes>"
      ]
     },
     "metadata": {
      "needs_background": "light"
     },
     "output_type": "display_data"
    }
   ],
   "source": [
    "sns.countplot(df['HANDICAP'])\n",
    "fig = plt.gcf()\n",
    "fig.set_size_inches(6,6)\n",
    "plt.title('HANDICAP')\n",
    "plt.show()\n",
    "warnings.filterwarnings('ignore')"
   ]
  },
  {
   "cell_type": "code",
   "execution_count": 35,
   "id": "d6777183",
   "metadata": {},
   "outputs": [
    {
     "data": {
      "image/png": "[encoded data removed]",
      "text/plain": [
       "<Figure size 432x432 with 1 Axes>"
      ]
     },
     "metadata": {
      "needs_background": "light"
     },
     "output_type": "display_data"
    }
   ],
   "source": [
    "sns.countplot(df['FITNESS'])\n",
    "fig = plt.gcf()\n",
    "fig.set_size_inches(6,6)\n",
    "plt.title('FITNESS')\n",
    "plt.show()\n",
    "warnings.filterwarnings('ignore')"
   ]
  },
  {
   "cell_type": "code",
   "execution_count": 36,
   "id": "4238029c",
   "metadata": {},
   "outputs": [
    {
     "data": {
      "image/png": "[encoded data removed]",
      "text/plain": [
       "<Figure size 432x432 with 1 Axes>"
      ]
     },
     "metadata": {
      "needs_background": "light"
     },
     "output_type": "display_data"
    }
   ],
   "source": [
    "sns.countplot(df['HANDICAP'])\n",
    "fig = plt.gcf()\n",
    "fig.set_size_inches(6,6)\n",
    "plt.title('HANDICAP')\n",
    "plt.show()\n",
    "warnings.filterwarnings('ignore')"
   ]
  },
  {
   "cell_type": "code",
   "execution_count": 37,
   "id": "0018b43b",
   "metadata": {},
   "outputs": [
    {
     "data": {
      "text/plain": [
       "<matplotlib.collections.PathCollection at 0x197829651c0>"
      ]
     },
     "execution_count": 37,
     "metadata": {},
     "output_type": "execute_result"
    },
    {
     "data": {
      "image/png": "[encoded data removed]",
      "text/plain": [
       "<Figure size 432x288 with 1 Axes>"
      ]
     },
     "metadata": {
      "needs_background": "light"
     },
     "output_type": "display_data"
    }
   ],
   "source": [
    "plt.scatter(df['SPORT_PARTICIPANT'],df['EDUCATIONAL_PERCENTAGE'])"
   ]
  },
  {
   "cell_type": "markdown",
   "id": "fea83001",
   "metadata": {},
   "source": [
    "# Splitting Attributes"
   ]
  },
  {
   "cell_type": "code",
   "execution_count": 38,
   "id": "ae9b5ceb",
   "metadata": {},
   "outputs": [],
   "source": [
    "x=df.drop(['POSSIBILITY_OF_ADMISSION'],axis=1)\n",
    "y=df['POSSIBILITY_OF_ADMISSION']\n",
    "\n",
    "xtrain, xtest, ytrain, ytest=tts(x,y,test_size=.2,random_state=0)"
   ]
  },
  {
   "cell_type": "markdown",
   "id": "a3337989",
   "metadata": {},
   "source": [
    "# MODEL SELECTION"
   ]
  },
  {
   "cell_type": "markdown",
   "id": "c5adcd4d",
   "metadata": {},
   "source": [
    "# 1) Desision Tree Model"
   ]
  },
  {
   "cell_type": "code",
   "execution_count": 39,
   "id": "3b5ae591",
   "metadata": {},
   "outputs": [],
   "source": [
    "from sklearn.tree import DecisionTreeClassifier"
   ]
  },
  {
   "cell_type": "code",
   "execution_count": 40,
   "id": "7dcb1fa5",
   "metadata": {},
   "outputs": [
    {
     "data": {
      "text/plain": [
       "DecisionTreeClassifier()"
      ]
     },
     "execution_count": 40,
     "metadata": {},
     "output_type": "execute_result"
    }
   ],
   "source": [
    "m=DecisionTreeClassifier()\n",
    "m.fit(xtrain, ytrain)"
   ]
  },
  {
   "cell_type": "code",
   "execution_count": 41,
   "id": "8566649c",
   "metadata": {},
   "outputs": [],
   "source": [
    "p=m.predict(xtest)"
   ]
  },
  {
   "cell_type": "code",
   "execution_count": 42,
   "id": "df497478",
   "metadata": {},
   "outputs": [
    {
     "data": {
      "text/plain": [
       "array([[0.        , 1.        ],\n",
       "       [0.        , 1.        ],\n",
       "       [0.        , 1.        ],\n",
       "       [0.        , 1.        ],\n",
       "       [0.        , 1.        ],\n",
       "       [1.        , 0.        ],\n",
       "       [1.        , 0.        ],\n",
       "       [0.        , 1.        ],\n",
       "       [1.        , 0.        ],\n",
       "       [1.        , 0.        ],\n",
       "       [0.        , 1.        ],\n",
       "       [0.        , 1.        ],\n",
       "       [1.        , 0.        ],\n",
       "       [1.        , 0.        ],\n",
       "       [1.        , 0.        ],\n",
       "       [1.        , 0.        ],\n",
       "       [0.        , 1.        ],\n",
       "       [0.        , 1.        ],\n",
       "       [0.        , 1.        ],\n",
       "       [0.        , 1.        ],\n",
       "       [0.        , 1.        ],\n",
       "       [1.        , 0.        ],\n",
       "       [1.        , 0.        ],\n",
       "       [0.        , 1.        ],\n",
       "       [1.        , 0.        ],\n",
       "       [1.        , 0.        ],\n",
       "       [1.        , 0.        ],\n",
       "       [1.        , 0.        ],\n",
       "       [0.        , 1.        ],\n",
       "       [1.        , 0.        ],\n",
       "       [0.        , 1.        ],\n",
       "       [1.        , 0.        ],\n",
       "       [0.        , 1.        ],\n",
       "       [0.        , 1.        ],\n",
       "       [0.        , 1.        ],\n",
       "       [0.        , 1.        ],\n",
       "       [0.        , 1.        ],\n",
       "       [1.        , 0.        ],\n",
       "       [0.66666667, 0.33333333],\n",
       "       [0.        , 1.        ],\n",
       "       [0.        , 1.        ],\n",
       "       [0.        , 1.        ],\n",
       "       [0.        , 1.        ],\n",
       "       [0.        , 1.        ],\n",
       "       [1.        , 0.        ],\n",
       "       [1.        , 0.        ],\n",
       "       [1.        , 0.        ],\n",
       "       [0.        , 1.        ],\n",
       "       [0.        , 1.        ],\n",
       "       [1.        , 0.        ],\n",
       "       [0.        , 1.        ],\n",
       "       [1.        , 0.        ],\n",
       "       [0.        , 1.        ],\n",
       "       [0.        , 1.        ],\n",
       "       [1.        , 0.        ],\n",
       "       [1.        , 0.        ],\n",
       "       [0.        , 1.        ],\n",
       "       [1.        , 0.        ],\n",
       "       [1.        , 0.        ],\n",
       "       [0.        , 1.        ],\n",
       "       [0.        , 1.        ],\n",
       "       [0.        , 1.        ],\n",
       "       [1.        , 0.        ],\n",
       "       [1.        , 0.        ],\n",
       "       [0.        , 1.        ],\n",
       "       [0.        , 1.        ],\n",
       "       [1.        , 0.        ],\n",
       "       [1.        , 0.        ],\n",
       "       [1.        , 0.        ],\n",
       "       [0.        , 1.        ],\n",
       "       [0.        , 1.        ],\n",
       "       [0.        , 1.        ],\n",
       "       [1.        , 0.        ],\n",
       "       [1.        , 0.        ],\n",
       "       [1.        , 0.        ],\n",
       "       [1.        , 0.        ],\n",
       "       [1.        , 0.        ],\n",
       "       [1.        , 0.        ],\n",
       "       [0.5       , 0.5       ],\n",
       "       [0.        , 1.        ],\n",
       "       [0.        , 1.        ],\n",
       "       [0.        , 1.        ],\n",
       "       [0.        , 1.        ],\n",
       "       [0.33333333, 0.66666667],\n",
       "       [0.        , 1.        ],\n",
       "       [0.        , 1.        ],\n",
       "       [1.        , 0.        ],\n",
       "       [0.        , 1.        ],\n",
       "       [0.        , 1.        ],\n",
       "       [1.        , 0.        ],\n",
       "       [0.        , 1.        ],\n",
       "       [0.        , 1.        ],\n",
       "       [1.        , 0.        ],\n",
       "       [0.        , 1.        ],\n",
       "       [1.        , 0.        ],\n",
       "       [0.        , 1.        ],\n",
       "       [0.        , 1.        ],\n",
       "       [0.        , 1.        ],\n",
       "       [1.        , 0.        ],\n",
       "       [1.        , 0.        ],\n",
       "       [0.        , 1.        ],\n",
       "       [0.        , 1.        ],\n",
       "       [0.        , 1.        ],\n",
       "       [0.        , 1.        ],\n",
       "       [0.5       , 0.5       ],\n",
       "       [0.        , 1.        ],\n",
       "       [0.        , 1.        ],\n",
       "       [1.        , 0.        ],\n",
       "       [1.        , 0.        ]])"
      ]
     },
     "execution_count": 42,
     "metadata": {},
     "output_type": "execute_result"
    }
   ],
   "source": [
    "m.predict_proba(xtest)"
   ]
  },
  {
   "cell_type": "code",
   "execution_count": 43,
   "id": "58c5adb9",
   "metadata": {},
   "outputs": [
    {
     "data": {
      "text/plain": [
       "0.8165137614678899"
      ]
     },
     "execution_count": 43,
     "metadata": {},
     "output_type": "execute_result"
    }
   ],
   "source": [
    "accuracy_score(ytest,p)"
   ]
  },
  {
   "cell_type": "code",
   "execution_count": 44,
   "id": "3358d40f",
   "metadata": {},
   "outputs": [
    {
     "data": {
      "text/plain": [
       "0.9630484988452656"
      ]
     },
     "execution_count": 44,
     "metadata": {},
     "output_type": "execute_result"
    }
   ],
   "source": [
    "m.score(xtrain, ytrain)"
   ]
  },
  {
   "cell_type": "code",
   "execution_count": 45,
   "id": "fc5d5fd4",
   "metadata": {},
   "outputs": [
    {
     "data": {
      "text/plain": [
       "Text(0.5, 15.0, 'Predicted Value')"
      ]
     },
     "execution_count": 45,
     "metadata": {},
     "output_type": "execute_result"
    },
    {
     "data": {
      "image/png": "[encoded data removed]",
      "text/plain": [
       "<Figure size 432x288 with 2 Axes>"
      ]
     },
     "metadata": {
      "needs_background": "light"
     },
     "output_type": "display_data"
    }
   ],
   "source": [
    "cm=confusion_matrix(ytest,p)\n",
    "sns.heatmap(pd.DataFrame(cm),annot=True,fmt='g')\n",
    "sns.set(rc={'figure.figsize':(3,3)})\n",
    "plt.tight_layout()\n",
    "plt.title('Confusion_Matrix',y=1.1)\n",
    "plt.ylabel('Actual Values')\n",
    "plt.xlabel('Predicted Value')"
   ]
  },
  {
   "cell_type": "code",
   "execution_count": 46,
   "id": "6c02141d",
   "metadata": {},
   "outputs": [
    {
     "name": "stdout",
     "output_type": "stream",
     "text": [
      "              precision    recall  f1-score   support\n",
      "\n",
      "           0       0.88      0.75      0.81        56\n",
      "           1       0.77      0.89      0.82        53\n",
      "\n",
      "    accuracy                           0.82       109\n",
      "   macro avg       0.82      0.82      0.82       109\n",
      "weighted avg       0.82      0.82      0.82       109\n",
      "\n"
     ]
    }
   ],
   "source": [
    "z=classification_report(ytest,p)\n",
    "print(z)"
   ]
  },
  {
   "cell_type": "markdown",
   "id": "8438e57a",
   "metadata": {},
   "source": [
    "# Applying Hyper Parameter Tunning\n",
    "\n",
    "# Grid Search CV"
   ]
  },
  {
   "cell_type": "code",
   "execution_count": 47,
   "id": "77dae377",
   "metadata": {},
   "outputs": [],
   "source": [
    "dg={'criterion': ['gini', 'entropy'],\n",
    "    'max_depth' : range(2,32,1),\n",
    "    'min_samples_leaf' : range(1,10,1),\n",
    "    'min_samples_split': range(2,10,1),\n",
    "    'splitter' : ['best', 'random']\n",
    "}"
   ]
  },
  {
   "cell_type": "code",
   "execution_count": 48,
   "id": "37428c36",
   "metadata": {},
   "outputs": [],
   "source": [
    "from sklearn.model_selection import GridSearchCV\n",
    "gsd= GridSearchCV(estimator=m,\n",
    "                     param_grid=dg,\n",
    "                     cv=5,\n",
    "                    n_jobs =2, verbose=1)"
   ]
  },
  {
   "cell_type": "code",
   "execution_count": 49,
   "id": "8c3ccf90",
   "metadata": {},
   "outputs": [
    {
     "name": "stdout",
     "output_type": "stream",
     "text": [
      "Fitting 5 folds for each of 8640 candidates, totalling 43200 fits\n"
     ]
    },
    {
     "data": {
      "text/plain": [
       "GridSearchCV(cv=5, estimator=DecisionTreeClassifier(), n_jobs=2,\n",
       "             param_grid={'criterion': ['gini', 'entropy'],\n",
       "                         'max_depth': range(2, 32),\n",
       "                         'min_samples_leaf': range(1, 10),\n",
       "                         'min_samples_split': range(2, 10),\n",
       "                         'splitter': ['best', 'random']},\n",
       "             verbose=1)"
      ]
     },
     "execution_count": 49,
     "metadata": {},
     "output_type": "execute_result"
    }
   ],
   "source": [
    "gsd.fit(xtrain,ytrain)"
   ]
  },
  {
   "cell_type": "code",
   "execution_count": 50,
   "id": "1ced1d60",
   "metadata": {},
   "outputs": [
    {
     "name": "stdout",
     "output_type": "stream",
     "text": [
      "{'criterion': 'entropy', 'max_depth': 3, 'min_samples_leaf': 1, 'min_samples_split': 2, 'splitter': 'best'}\n"
     ]
    }
   ],
   "source": [
    "bpd= gsd.best_params_\n",
    "print(bpd)"
   ]
  },
  {
   "cell_type": "code",
   "execution_count": 51,
   "id": "d3ce4d0b",
   "metadata": {},
   "outputs": [
    {
     "data": {
      "text/plain": [
       "0.8615610799251536"
      ]
     },
     "execution_count": 51,
     "metadata": {},
     "output_type": "execute_result"
    }
   ],
   "source": [
    "gsd.best_score_"
   ]
  },
  {
   "cell_type": "code",
   "execution_count": 52,
   "id": "b49bced6",
   "metadata": {},
   "outputs": [
    {
     "data": {
      "text/plain": [
       "DecisionTreeClassifier(max_depth=25)"
      ]
     },
     "execution_count": 52,
     "metadata": {},
     "output_type": "execute_result"
    }
   ],
   "source": [
    "clf = DecisionTreeClassifier(criterion = 'gini', max_depth = 25, min_samples_leaf= 1, min_samples_split= 2, splitter ='best')\n",
    "clf.fit(xtrain,ytrain)"
   ]
  },
  {
   "cell_type": "markdown",
   "id": "e7581b16",
   "metadata": {},
   "source": [
    "# 2) Random Forest Model"
   ]
  },
  {
   "cell_type": "code",
   "execution_count": 53,
   "id": "66546af9",
   "metadata": {},
   "outputs": [],
   "source": [
    "from sklearn.ensemble import RandomForestClassifier"
   ]
  },
  {
   "cell_type": "code",
   "execution_count": 54,
   "id": "158bcfdf",
   "metadata": {},
   "outputs": [
    {
     "data": {
      "text/plain": [
       "RandomForestClassifier()"
      ]
     },
     "execution_count": 54,
     "metadata": {},
     "output_type": "execute_result"
    }
   ],
   "source": [
    "rm=RandomForestClassifier()\n",
    "rm.fit(xtrain, ytrain)"
   ]
  },
  {
   "cell_type": "code",
   "execution_count": 55,
   "id": "04292792",
   "metadata": {},
   "outputs": [],
   "source": [
    "rp=rm.predict(xtest)"
   ]
  },
  {
   "cell_type": "code",
   "execution_count": 56,
   "id": "8c773b97",
   "metadata": {},
   "outputs": [
    {
     "data": {
      "text/plain": [
       "array([[0.86      , 0.14      ],\n",
       "       [0.        , 1.        ],\n",
       "       [0.        , 1.        ],\n",
       "       [0.        , 1.        ],\n",
       "       [0.46      , 0.54      ],\n",
       "       [0.84      , 0.16      ],\n",
       "       [0.37      , 0.63      ],\n",
       "       [0.00333333, 0.99666667],\n",
       "       [0.8255    , 0.1745    ],\n",
       "       [0.98      , 0.02      ],\n",
       "       [0.67666667, 0.32333333],\n",
       "       [0.        , 1.        ],\n",
       "       [0.97      , 0.03      ],\n",
       "       [0.67333333, 0.32666667],\n",
       "       [1.        , 0.        ],\n",
       "       [0.98      , 0.02      ],\n",
       "       [0.        , 1.        ],\n",
       "       [0.        , 1.        ],\n",
       "       [0.        , 1.        ],\n",
       "       [0.36      , 0.64      ],\n",
       "       [0.61833333, 0.38166667],\n",
       "       [0.86333333, 0.13666667],\n",
       "       [0.28583333, 0.71416667],\n",
       "       [0.43333333, 0.56666667],\n",
       "       [1.        , 0.        ],\n",
       "       [0.99      , 0.01      ],\n",
       "       [0.91816667, 0.08183333],\n",
       "       [1.        , 0.        ],\n",
       "       [0.        , 1.        ],\n",
       "       [0.5675    , 0.4325    ],\n",
       "       [0.        , 1.        ],\n",
       "       [0.95      , 0.05      ],\n",
       "       [0.        , 1.        ],\n",
       "       [0.        , 1.        ],\n",
       "       [0.        , 1.        ],\n",
       "       [0.65      , 0.35      ],\n",
       "       [0.9       , 0.1       ],\n",
       "       [0.94      , 0.06      ],\n",
       "       [0.72022222, 0.27977778],\n",
       "       [0.66      , 0.34      ],\n",
       "       [0.        , 1.        ],\n",
       "       [0.55483333, 0.44516667],\n",
       "       [0.02      , 0.98      ],\n",
       "       [0.2       , 0.8       ],\n",
       "       [0.80016667, 0.19983333],\n",
       "       [0.57183333, 0.42816667],\n",
       "       [0.7       , 0.3       ],\n",
       "       [0.        , 1.        ],\n",
       "       [0.85      , 0.15      ],\n",
       "       [0.78066667, 0.21933333],\n",
       "       [0.31      , 0.69      ],\n",
       "       [0.855     , 0.145     ],\n",
       "       [0.        , 1.        ],\n",
       "       [0.        , 1.        ],\n",
       "       [0.93      , 0.07      ],\n",
       "       [0.4825    , 0.5175    ],\n",
       "       [0.54      , 0.46      ],\n",
       "       [0.85666667, 0.14333333],\n",
       "       [0.72083333, 0.27916667],\n",
       "       [0.        , 1.        ],\n",
       "       [0.        , 1.        ],\n",
       "       [0.        , 1.        ],\n",
       "       [0.92166667, 0.07833333],\n",
       "       [0.895     , 0.105     ],\n",
       "       [0.        , 1.        ],\n",
       "       [0.56      , 0.44      ],\n",
       "       [0.44333333, 0.55666667],\n",
       "       [1.        , 0.        ],\n",
       "       [0.7625    , 0.2375    ],\n",
       "       [0.        , 1.        ],\n",
       "       [0.        , 1.        ],\n",
       "       [0.        , 1.        ],\n",
       "       [0.99      , 0.01      ],\n",
       "       [1.        , 0.        ],\n",
       "       [0.8625    , 0.1375    ],\n",
       "       [0.82833333, 0.17166667],\n",
       "       [0.88      , 0.12      ],\n",
       "       [0.972     , 0.028     ],\n",
       "       [0.5195    , 0.4805    ],\n",
       "       [0.        , 1.        ],\n",
       "       [0.38      , 0.62      ],\n",
       "       [0.        , 1.        ],\n",
       "       [0.        , 1.        ],\n",
       "       [0.35508333, 0.64491667],\n",
       "       [0.        , 1.        ],\n",
       "       [0.        , 1.        ],\n",
       "       [0.80316667, 0.19683333],\n",
       "       [0.        , 1.        ],\n",
       "       [0.41      , 0.59      ],\n",
       "       [0.7215    , 0.2785    ],\n",
       "       [0.        , 1.        ],\n",
       "       [0.        , 1.        ],\n",
       "       [0.93      , 0.07      ],\n",
       "       [0.        , 1.        ],\n",
       "       [1.        , 0.        ],\n",
       "       [0.44333333, 0.55666667],\n",
       "       [0.32833333, 0.67166667],\n",
       "       [0.        , 1.        ],\n",
       "       [0.71      , 0.29      ],\n",
       "       [0.944     , 0.056     ],\n",
       "       [0.29      , 0.71      ],\n",
       "       [0.74      , 0.26      ],\n",
       "       [0.06      , 0.94      ],\n",
       "       [0.30583333, 0.69416667],\n",
       "       [0.88666667, 0.11333333],\n",
       "       [0.        , 1.        ],\n",
       "       [0.        , 1.        ],\n",
       "       [0.86633333, 0.13366667],\n",
       "       [0.28583333, 0.71416667]])"
      ]
     },
     "execution_count": 56,
     "metadata": {},
     "output_type": "execute_result"
    }
   ],
   "source": [
    "rm.predict_proba(xtest)"
   ]
  },
  {
   "cell_type": "code",
   "execution_count": 57,
   "id": "77f059e1",
   "metadata": {},
   "outputs": [
    {
     "data": {
      "text/plain": [
       "0.8532110091743119"
      ]
     },
     "execution_count": 57,
     "metadata": {},
     "output_type": "execute_result"
    }
   ],
   "source": [
    "accuracy_score(ytest,rp)"
   ]
  },
  {
   "cell_type": "code",
   "execution_count": 58,
   "id": "162b49f0",
   "metadata": {},
   "outputs": [
    {
     "data": {
      "text/plain": [
       "0.9630484988452656"
      ]
     },
     "execution_count": 58,
     "metadata": {},
     "output_type": "execute_result"
    }
   ],
   "source": [
    "rm.score(xtrain, ytrain)"
   ]
  },
  {
   "cell_type": "code",
   "execution_count": 59,
   "id": "7818e1a4",
   "metadata": {},
   "outputs": [
    {
     "data": {
      "text/plain": [
       "Text(0.5, 3.5, 'Predicted Value')"
      ]
     },
     "execution_count": 59,
     "metadata": {},
     "output_type": "execute_result"
    },
    {
     "data": {
      "image/png": "[encoded data removed]",
      "text/plain": [
       "<Figure size 216x216 with 2 Axes>"
      ]
     },
     "metadata": {},
     "output_type": "display_data"
    }
   ],
   "source": [
    "cr=confusion_matrix(ytest,rp)\n",
    "sns.heatmap(pd.DataFrame(cr),annot=True,fmt='g')\n",
    "sns.set(rc={'figure.figsize':(6,6)})\n",
    "plt.tight_layout()\n",
    "plt.title('Confusion_Matrix',y=1.1)\n",
    "plt.ylabel('Actual Values')\n",
    "plt.xlabel('Predicted Value')"
   ]
  },
  {
   "cell_type": "code",
   "execution_count": 60,
   "id": "9fbfbd3b",
   "metadata": {},
   "outputs": [
    {
     "name": "stdout",
     "output_type": "stream",
     "text": [
      "              precision    recall  f1-score   support\n",
      "\n",
      "           0       0.87      0.84      0.85        56\n",
      "           1       0.84      0.87      0.85        53\n",
      "\n",
      "    accuracy                           0.85       109\n",
      "   macro avg       0.85      0.85      0.85       109\n",
      "weighted avg       0.85      0.85      0.85       109\n",
      "\n"
     ]
    }
   ],
   "source": [
    "z1=classification_report(ytest,rp)\n",
    "print(z1)"
   ]
  },
  {
   "cell_type": "markdown",
   "id": "d31ea64d",
   "metadata": {},
   "source": [
    "# Hyper Parameter Tunning\n",
    "\n",
    "# Grid Search CV"
   ]
  },
  {
   "cell_type": "code",
   "execution_count": 61,
   "id": "a2190c30",
   "metadata": {},
   "outputs": [],
   "source": [
    "gr = { \n",
    "    'n_estimators': [200, 500],\n",
    "    'max_features': ['auto', 'sqrt', 'log2'],\n",
    "    'max_depth' : [4,5,6,7,8],\n",
    "    'criterion' :['gini', 'entropy']\n",
    "}"
   ]
  },
  {
   "cell_type": "code",
   "execution_count": 62,
   "id": "b7e7059c",
   "metadata": {},
   "outputs": [
    {
     "data": {
      "text/plain": [
       "GridSearchCV(cv=5, estimator=RandomForestClassifier(),\n",
       "             param_grid={'criterion': ['gini', 'entropy'],\n",
       "                         'max_depth': [4, 5, 6, 7, 8],\n",
       "                         'max_features': ['auto', 'sqrt', 'log2'],\n",
       "                         'n_estimators': [200, 500]})"
      ]
     },
     "execution_count": 62,
     "metadata": {},
     "output_type": "execute_result"
    }
   ],
   "source": [
    "gsr= GridSearchCV(estimator=rm, param_grid=gr, cv= 5)\n",
    "gsr.fit(xtrain, ytrain)"
   ]
  },
  {
   "cell_type": "code",
   "execution_count": 63,
   "id": "f855e27e",
   "metadata": {},
   "outputs": [
    {
     "name": "stdout",
     "output_type": "stream",
     "text": [
      "{'criterion': 'entropy', 'max_depth': 5, 'max_features': 'auto', 'n_estimators': 200}\n"
     ]
    }
   ],
   "source": [
    "bgr= gsr.best_params_\n",
    "print(bgr)"
   ]
  },
  {
   "cell_type": "code",
   "execution_count": 64,
   "id": "23a8e64c",
   "metadata": {},
   "outputs": [
    {
     "data": {
      "text/plain": [
       "0.8638599304998664"
      ]
     },
     "execution_count": 64,
     "metadata": {},
     "output_type": "execute_result"
    }
   ],
   "source": [
    "gsr.best_score_"
   ]
  },
  {
   "cell_type": "markdown",
   "id": "fd78c2ed",
   "metadata": {},
   "source": [
    "# 3)Gradient Boosting"
   ]
  },
  {
   "cell_type": "code",
   "execution_count": 65,
   "id": "2f6f5b0a",
   "metadata": {},
   "outputs": [],
   "source": [
    "from sklearn.ensemble import GradientBoostingClassifier"
   ]
  },
  {
   "cell_type": "code",
   "execution_count": 66,
   "id": "3d512d5d",
   "metadata": {},
   "outputs": [],
   "source": [
    "gm=GradientBoostingClassifier()"
   ]
  },
  {
   "cell_type": "code",
   "execution_count": 67,
   "id": "4857684c",
   "metadata": {},
   "outputs": [
    {
     "data": {
      "text/plain": [
       "GradientBoostingClassifier()"
      ]
     },
     "execution_count": 67,
     "metadata": {},
     "output_type": "execute_result"
    }
   ],
   "source": [
    "gm.fit(xtrain, ytrain)"
   ]
  },
  {
   "cell_type": "code",
   "execution_count": 68,
   "id": "7febe119",
   "metadata": {},
   "outputs": [],
   "source": [
    "gp=gm.predict(xtest)"
   ]
  },
  {
   "cell_type": "code",
   "execution_count": 69,
   "id": "c78ccc4e",
   "metadata": {},
   "outputs": [
    {
     "data": {
      "text/plain": [
       "array([[0.86178138, 0.13821862],\n",
       "       [0.00485118, 0.99514882],\n",
       "       [0.00761108, 0.99238892],\n",
       "       [0.00461895, 0.99538105],\n",
       "       [0.22412092, 0.77587908],\n",
       "       [0.5254701 , 0.4745299 ],\n",
       "       [0.87675643, 0.12324357],\n",
       "       [0.00409428, 0.99590572],\n",
       "       [0.74149019, 0.25850981],\n",
       "       [0.92184088, 0.07815912],\n",
       "       [0.50529533, 0.49470467],\n",
       "       [0.00409428, 0.99590572],\n",
       "       [0.90245409, 0.09754591],\n",
       "       [0.887205  , 0.112795  ],\n",
       "       [0.87161374, 0.12838626],\n",
       "       [0.87042218, 0.12957782],\n",
       "       [0.00996238, 0.99003762],\n",
       "       [0.00448863, 0.99551137],\n",
       "       [0.00461895, 0.99538105],\n",
       "       [0.10048592, 0.89951408],\n",
       "       [0.71023194, 0.28976806],\n",
       "       [0.6922852 , 0.3077148 ],\n",
       "       [0.5569192 , 0.4430808 ],\n",
       "       [0.6480271 , 0.3519729 ],\n",
       "       [0.89400518, 0.10599482],\n",
       "       [0.861354  , 0.138646  ],\n",
       "       [0.69637441, 0.30362559],\n",
       "       [0.83836519, 0.16163481],\n",
       "       [0.00461895, 0.99538105],\n",
       "       [0.66657207, 0.33342793],\n",
       "       [0.00329584, 0.99670416],\n",
       "       [0.85531409, 0.14468591],\n",
       "       [0.00704329, 0.99295671],\n",
       "       [0.00485118, 0.99514882],\n",
       "       [0.00448863, 0.99551137],\n",
       "       [0.53832104, 0.46167896],\n",
       "       [0.82424327, 0.17575673],\n",
       "       [0.93647292, 0.06352708],\n",
       "       [0.75638032, 0.24361968],\n",
       "       [0.60124228, 0.39875772],\n",
       "       [0.00459013, 0.99540987],\n",
       "       [0.73185465, 0.26814535],\n",
       "       [0.01115764, 0.98884236],\n",
       "       [0.02297546, 0.97702454],\n",
       "       [0.91869566, 0.08130434],\n",
       "       [0.90648797, 0.09351203],\n",
       "       [0.88314288, 0.11685712],\n",
       "       [0.00502893, 0.99497107],\n",
       "       [0.87216861, 0.12783139],\n",
       "       [0.94929561, 0.05070439],\n",
       "       [0.7042121 , 0.2957879 ],\n",
       "       [0.76373172, 0.23626828],\n",
       "       [0.00485118, 0.99514882],\n",
       "       [0.02088498, 0.97911502],\n",
       "       [0.97528066, 0.02471934],\n",
       "       [0.91221175, 0.08778825],\n",
       "       [0.36805538, 0.63194462],\n",
       "       [0.70961874, 0.29038126],\n",
       "       [0.76744222, 0.23255778],\n",
       "       [0.00485118, 0.99514882],\n",
       "       [0.00409428, 0.99590572],\n",
       "       [0.00329584, 0.99670416],\n",
       "       [0.86142566, 0.13857434],\n",
       "       [0.73161538, 0.26838462],\n",
       "       [0.00704329, 0.99295671],\n",
       "       [0.83844037, 0.16155963],\n",
       "       [0.87123854, 0.12876146],\n",
       "       [0.88324685, 0.11675315],\n",
       "       [0.90136172, 0.09863828],\n",
       "       [0.01230393, 0.98769607],\n",
       "       [0.00485118, 0.99514882],\n",
       "       [0.00461895, 0.99538105],\n",
       "       [0.82151631, 0.17848369],\n",
       "       [0.96849014, 0.03150986],\n",
       "       [0.68853332, 0.31146668],\n",
       "       [0.79526831, 0.20473169],\n",
       "       [0.69501536, 0.30498464],\n",
       "       [0.69637441, 0.30362559],\n",
       "       [0.73180483, 0.26819517],\n",
       "       [0.00704329, 0.99295671],\n",
       "       [0.7042121 , 0.2957879 ],\n",
       "       [0.00459013, 0.99540987],\n",
       "       [0.00704329, 0.99295671],\n",
       "       [0.20663418, 0.79336582],\n",
       "       [0.00684503, 0.99315497],\n",
       "       [0.00409428, 0.99590572],\n",
       "       [0.79068105, 0.20931895],\n",
       "       [0.00461895, 0.99538105],\n",
       "       [0.64276374, 0.35723626],\n",
       "       [0.71447264, 0.28552736],\n",
       "       [0.00329584, 0.99670416],\n",
       "       [0.00502893, 0.99497107],\n",
       "       [0.81265691, 0.18734309],\n",
       "       [0.00409428, 0.99590572],\n",
       "       [0.93628845, 0.06371155],\n",
       "       [0.75995116, 0.24004884],\n",
       "       [0.63081349, 0.36918651],\n",
       "       [0.00502893, 0.99497107],\n",
       "       [0.82987052, 0.17012948],\n",
       "       [0.72930586, 0.27069414],\n",
       "       [0.19919047, 0.80080953],\n",
       "       [0.75267962, 0.24732038],\n",
       "       [0.01966174, 0.98033826],\n",
       "       [0.74551799, 0.25448201],\n",
       "       [0.67672574, 0.32327426],\n",
       "       [0.00459013, 0.99540987],\n",
       "       [0.00996238, 0.99003762],\n",
       "       [0.76739569, 0.23260431],\n",
       "       [0.5569192 , 0.4430808 ]])"
      ]
     },
     "execution_count": 69,
     "metadata": {},
     "output_type": "execute_result"
    }
   ],
   "source": [
    "gm.predict_proba(xtest)"
   ]
  },
  {
   "cell_type": "code",
   "execution_count": 70,
   "id": "b9de5e8f",
   "metadata": {},
   "outputs": [
    {
     "data": {
      "text/plain": [
       "0.8807339449541285"
      ]
     },
     "execution_count": 70,
     "metadata": {},
     "output_type": "execute_result"
    }
   ],
   "source": [
    "accuracy_score(ytest,gp)"
   ]
  },
  {
   "cell_type": "code",
   "execution_count": 71,
   "id": "a4e37f6d",
   "metadata": {},
   "outputs": [
    {
     "data": {
      "text/plain": [
       "0.8868360277136259"
      ]
     },
     "execution_count": 71,
     "metadata": {},
     "output_type": "execute_result"
    }
   ],
   "source": [
    "gm.score(xtrain, ytrain)"
   ]
  },
  {
   "cell_type": "code",
   "execution_count": 72,
   "id": "63e1bfcc",
   "metadata": {},
   "outputs": [
    {
     "data": {
      "text/plain": [
       "Text(0.5, 30.5, 'Predicted Value')"
      ]
     },
     "execution_count": 72,
     "metadata": {},
     "output_type": "execute_result"
    },
    {
     "data": {
      "image/png": "[encoded data removed]",
      "text/plain": [
       "<Figure size 432x432 with 2 Axes>"
      ]
     },
     "metadata": {},
     "output_type": "display_data"
    }
   ],
   "source": [
    "cg=confusion_matrix(ytest,gp)\n",
    "sns.heatmap(pd.DataFrame(cg),annot=True,fmt='g')\n",
    "sns.set(rc={'figure.figsize':(3,3)})\n",
    "plt.tight_layout()\n",
    "plt.title('Confusion_Matrix',y=1.1)\n",
    "plt.ylabel('Actual Values')\n",
    "plt.xlabel('Predicted Value')"
   ]
  },
  {
   "cell_type": "code",
   "execution_count": 73,
   "id": "525de6c5",
   "metadata": {},
   "outputs": [
    {
     "name": "stdout",
     "output_type": "stream",
     "text": [
      "              precision    recall  f1-score   support\n",
      "\n",
      "           0       0.83      0.96      0.89        56\n",
      "           1       0.95      0.79      0.87        53\n",
      "\n",
      "    accuracy                           0.88       109\n",
      "   macro avg       0.89      0.88      0.88       109\n",
      "weighted avg       0.89      0.88      0.88       109\n",
      "\n"
     ]
    }
   ],
   "source": [
    "zz=classification_report(ytest,gp)\n",
    "print(zz)"
   ]
  },
  {
   "cell_type": "markdown",
   "id": "db0e967a",
   "metadata": {},
   "source": [
    "# 4)Support Vector Machine"
   ]
  },
  {
   "cell_type": "code",
   "execution_count": 74,
   "id": "ad6b2515",
   "metadata": {},
   "outputs": [],
   "source": [
    "from sklearn.svm import SVC"
   ]
  },
  {
   "cell_type": "code",
   "execution_count": 75,
   "id": "a5149dea",
   "metadata": {},
   "outputs": [],
   "source": [
    "sm=SVC()"
   ]
  },
  {
   "cell_type": "code",
   "execution_count": 76,
   "id": "a5a6a055",
   "metadata": {},
   "outputs": [
    {
     "data": {
      "text/plain": [
       "SVC()"
      ]
     },
     "execution_count": 76,
     "metadata": {},
     "output_type": "execute_result"
    }
   ],
   "source": [
    "sm.fit(xtrain, ytrain)"
   ]
  },
  {
   "cell_type": "code",
   "execution_count": 77,
   "id": "a85b7e0e",
   "metadata": {},
   "outputs": [],
   "source": [
    "sp=sm.predict(xtest)"
   ]
  },
  {
   "cell_type": "code",
   "execution_count": 78,
   "id": "c5ed537e",
   "metadata": {},
   "outputs": [
    {
     "data": {
      "text/plain": [
       "0.8532110091743119"
      ]
     },
     "execution_count": 78,
     "metadata": {},
     "output_type": "execute_result"
    }
   ],
   "source": [
    "accuracy_score(ytest,sp)"
   ]
  },
  {
   "cell_type": "code",
   "execution_count": 79,
   "id": "e0c2020a",
   "metadata": {},
   "outputs": [
    {
     "data": {
      "text/plain": [
       "0.7990762124711316"
      ]
     },
     "execution_count": 79,
     "metadata": {},
     "output_type": "execute_result"
    }
   ],
   "source": [
    "sm.score(xtrain, ytrain)"
   ]
  },
  {
   "cell_type": "code",
   "execution_count": 80,
   "id": "0e28a877",
   "metadata": {},
   "outputs": [
    {
     "data": {
      "text/plain": [
       "Text(0.5, 3.5, 'Predicted Value')"
      ]
     },
     "execution_count": 80,
     "metadata": {},
     "output_type": "execute_result"
    },
    {
     "data": {
      "image/png": "[encoded data removed]",
      "text/plain": [
       "<Figure size 216x216 with 2 Axes>"
      ]
     },
     "metadata": {},
     "output_type": "display_data"
    }
   ],
   "source": [
    "sr=confusion_matrix(ytest,sp)\n",
    "sns.heatmap(pd.DataFrame(sr),annot=True,fmt='g')\n",
    "sns.set(rc={'figure.figsize':(3,3)})\n",
    "plt.tight_layout()\n",
    "plt.title('Confusion_Matrix',y=1.1)\n",
    "plt.ylabel('Actual Values')\n",
    "plt.xlabel('Predicted Value')"
   ]
  },
  {
   "cell_type": "code",
   "execution_count": 81,
   "id": "96cc5cee",
   "metadata": {},
   "outputs": [
    {
     "name": "stdout",
     "output_type": "stream",
     "text": [
      "              precision    recall  f1-score   support\n",
      "\n",
      "           0       0.78      1.00      0.88        56\n",
      "           1       1.00      0.70      0.82        53\n",
      "\n",
      "    accuracy                           0.85       109\n",
      "   macro avg       0.89      0.85      0.85       109\n",
      "weighted avg       0.89      0.85      0.85       109\n",
      "\n"
     ]
    }
   ],
   "source": [
    "z2=classification_report(ytest, sp)\n",
    "print(z2)"
   ]
  },
  {
   "cell_type": "markdown",
   "id": "3cfc7c90",
   "metadata": {},
   "source": [
    "# 5)KNN"
   ]
  },
  {
   "cell_type": "code",
   "execution_count": 82,
   "id": "a61796a6",
   "metadata": {},
   "outputs": [],
   "source": [
    "from sklearn.neighbors import KNeighborsClassifier"
   ]
  },
  {
   "cell_type": "code",
   "execution_count": 83,
   "id": "a938f71e",
   "metadata": {},
   "outputs": [
    {
     "data": {
      "text/plain": [
       "KNeighborsClassifier()"
      ]
     },
     "execution_count": 83,
     "metadata": {},
     "output_type": "execute_result"
    }
   ],
   "source": [
    "km=KNeighborsClassifier()\n",
    "km.fit(xtrain, ytrain)"
   ]
  },
  {
   "cell_type": "code",
   "execution_count": 84,
   "id": "7795be34",
   "metadata": {},
   "outputs": [],
   "source": [
    "kp=km.predict(xtest)"
   ]
  },
  {
   "cell_type": "code",
   "execution_count": 85,
   "id": "e4b6bc36",
   "metadata": {},
   "outputs": [
    {
     "data": {
      "text/plain": [
       "0.8532110091743119"
      ]
     },
     "execution_count": 85,
     "metadata": {},
     "output_type": "execute_result"
    }
   ],
   "source": [
    "accuracy_score(ytest,kp)"
   ]
  },
  {
   "cell_type": "code",
   "execution_count": 86,
   "id": "73c20714",
   "metadata": {},
   "outputs": [
    {
     "data": {
      "text/plain": [
       "0.8498845265588915"
      ]
     },
     "execution_count": 86,
     "metadata": {},
     "output_type": "execute_result"
    }
   ],
   "source": [
    "km.score(xtrain, ytrain)"
   ]
  },
  {
   "cell_type": "code",
   "execution_count": 87,
   "id": "ee49d14c",
   "metadata": {},
   "outputs": [
    {
     "data": {
      "text/plain": [
       "Text(0.5, 3.5, 'Predicted Value')"
      ]
     },
     "execution_count": 87,
     "metadata": {},
     "output_type": "execute_result"
    },
    {
     "data": {
      "image/png": "[encoded data removed]",
      "text/plain": [
       "<Figure size 216x216 with 2 Axes>"
      ]
     },
     "metadata": {},
     "output_type": "display_data"
    }
   ],
   "source": [
    "kr=confusion_matrix(ytest,kp)\n",
    "sns.heatmap(pd.DataFrame(kr),annot=True,fmt='g')\n",
    "sns.set(rc={'figure.figsize':(3,3)})\n",
    "plt.tight_layout()\n",
    "plt.title('Confusion_Matrix',y=1.1)\n",
    "plt.ylabel('Actual Values')\n",
    "plt.xlabel('Predicted Value')\n"
   ]
  },
  {
   "cell_type": "code",
   "execution_count": 88,
   "id": "edab0e5a",
   "metadata": {},
   "outputs": [
    {
     "name": "stdout",
     "output_type": "stream",
     "text": [
      "              precision    recall  f1-score   support\n",
      "\n",
      "           0       0.82      0.91      0.86        56\n",
      "           1       0.89      0.79      0.84        53\n",
      "\n",
      "    accuracy                           0.85       109\n",
      "   macro avg       0.86      0.85      0.85       109\n",
      "weighted avg       0.86      0.85      0.85       109\n",
      "\n"
     ]
    }
   ],
   "source": [
    "zzz=classification_report(ytest, kp)\n",
    "print(zzz)"
   ]
  },
  {
   "cell_type": "markdown",
   "id": "5d310fda",
   "metadata": {},
   "source": [
    "# 6) Naive Bayes"
   ]
  },
  {
   "cell_type": "code",
   "execution_count": 89,
   "id": "5298ffeb",
   "metadata": {},
   "outputs": [],
   "source": [
    "from sklearn.naive_bayes import GaussianNB"
   ]
  },
  {
   "cell_type": "code",
   "execution_count": 90,
   "id": "d4e34dbf",
   "metadata": {},
   "outputs": [],
   "source": [
    "nm=GaussianNB()"
   ]
  },
  {
   "cell_type": "code",
   "execution_count": 91,
   "id": "62f296e6",
   "metadata": {},
   "outputs": [
    {
     "data": {
      "text/plain": [
       "GaussianNB()"
      ]
     },
     "execution_count": 91,
     "metadata": {},
     "output_type": "execute_result"
    }
   ],
   "source": [
    "nm.fit(xtrain, ytrain)"
   ]
  },
  {
   "cell_type": "code",
   "execution_count": 92,
   "id": "013a427f",
   "metadata": {},
   "outputs": [],
   "source": [
    "np=gm.predict(xtest)"
   ]
  },
  {
   "cell_type": "code",
   "execution_count": 93,
   "id": "238af535",
   "metadata": {},
   "outputs": [
    {
     "data": {
      "text/plain": [
       "0.8807339449541285"
      ]
     },
     "execution_count": 93,
     "metadata": {},
     "output_type": "execute_result"
    }
   ],
   "source": [
    "accuracy_score(ytest,np)"
   ]
  },
  {
   "cell_type": "code",
   "execution_count": 94,
   "id": "28941c81",
   "metadata": {},
   "outputs": [
    {
     "data": {
      "text/plain": [
       "0.8568129330254042"
      ]
     },
     "execution_count": 94,
     "metadata": {},
     "output_type": "execute_result"
    }
   ],
   "source": [
    "nm.score(xtrain, ytrain)"
   ]
  },
  {
   "cell_type": "code",
   "execution_count": 95,
   "id": "0b7d9918",
   "metadata": {},
   "outputs": [
    {
     "data": {
      "text/plain": [
       "Text(0.5, 3.5, 'Predicted Value')"
      ]
     },
     "execution_count": 95,
     "metadata": {},
     "output_type": "execute_result"
    },
    {
     "data": {
      "image/png": "[encoded data removed]",
      "text/plain": [
       "<Figure size 216x216 with 2 Axes>"
      ]
     },
     "metadata": {},
     "output_type": "display_data"
    }
   ],
   "source": [
    "nr=confusion_matrix(ytest,np)\n",
    "sns.heatmap(pd.DataFrame(nr),annot=True,fmt='g')\n",
    "sns.set(rc={'figure.figsize':(3,3)})\n",
    "plt.tight_layout()\n",
    "plt.title('Confusion_Matrix',y=1.1)\n",
    "plt.ylabel('Actual Values')\n",
    "plt.xlabel('Predicted Value')"
   ]
  },
  {
   "cell_type": "code",
   "execution_count": 96,
   "id": "e8ca9061",
   "metadata": {},
   "outputs": [
    {
     "name": "stdout",
     "output_type": "stream",
     "text": [
      "              precision    recall  f1-score   support\n",
      "\n",
      "           0       0.83      0.96      0.89        56\n",
      "           1       0.95      0.79      0.87        53\n",
      "\n",
      "    accuracy                           0.88       109\n",
      "   macro avg       0.89      0.88      0.88       109\n",
      "weighted avg       0.89      0.88      0.88       109\n",
      "\n"
     ]
    }
   ],
   "source": [
    "z3=classification_report(ytest,np)\n",
    "print(z3)"
   ]
  },
  {
   "cell_type": "markdown",
   "id": "5a104cd3",
   "metadata": {},
   "source": [
    "#  7) Logistic Regression"
   ]
  },
  {
   "cell_type": "code",
   "execution_count": 97,
   "id": "4f02df5a",
   "metadata": {},
   "outputs": [],
   "source": [
    "from sklearn.linear_model import LogisticRegression"
   ]
  },
  {
   "cell_type": "code",
   "execution_count": 98,
   "id": "bb5f8f57",
   "metadata": {},
   "outputs": [
    {
     "data": {
      "text/plain": [
       "LogisticRegression()"
      ]
     },
     "execution_count": 98,
     "metadata": {},
     "output_type": "execute_result"
    }
   ],
   "source": [
    "lm=LogisticRegression()\n",
    "lm.fit(xtrain, ytrain)"
   ]
  },
  {
   "cell_type": "code",
   "execution_count": 99,
   "id": "c27e83bf",
   "metadata": {},
   "outputs": [],
   "source": [
    "lp=lm.predict(xtest)"
   ]
  },
  {
   "cell_type": "code",
   "execution_count": 100,
   "id": "f94d70aa",
   "metadata": {},
   "outputs": [
    {
     "data": {
      "text/plain": [
       "0.8807339449541285"
      ]
     },
     "execution_count": 100,
     "metadata": {},
     "output_type": "execute_result"
    }
   ],
   "source": [
    "accuracy_score(ytest, lp)"
   ]
  },
  {
   "cell_type": "code",
   "execution_count": 101,
   "id": "6e62bd49",
   "metadata": {},
   "outputs": [
    {
     "data": {
      "text/plain": [
       "0.8568129330254042"
      ]
     },
     "execution_count": 101,
     "metadata": {},
     "output_type": "execute_result"
    }
   ],
   "source": [
    "lm.score(xtrain, ytrain)"
   ]
  },
  {
   "cell_type": "code",
   "execution_count": 102,
   "id": "3c068a65",
   "metadata": {},
   "outputs": [
    {
     "data": {
      "text/plain": [
       "Text(0.5, 3.5, 'Predicted Value')"
      ]
     },
     "execution_count": 102,
     "metadata": {},
     "output_type": "execute_result"
    },
    {
     "data": {
      "image/png": "[encoded data removed]",
      "text/plain": [
       "<Figure size 216x216 with 2 Axes>"
      ]
     },
     "metadata": {},
     "output_type": "display_data"
    }
   ],
   "source": [
    "lr=confusion_matrix(ytest,lp)\n",
    "sns.heatmap(pd.DataFrame(lr),annot=True,fmt='g')\n",
    "sns.set(rc={'figure.figsize':(3,3)})\n",
    "plt.tight_layout()\n",
    "plt.title('Confusion_Matrix',y=1.1)\n",
    "plt.ylabel('Actual Values')\n",
    "plt.xlabel('Predicted Value')"
   ]
  },
  {
   "cell_type": "code",
   "execution_count": 103,
   "id": "96b58688",
   "metadata": {},
   "outputs": [
    {
     "name": "stdout",
     "output_type": "stream",
     "text": [
      "              precision    recall  f1-score   support\n",
      "\n",
      "           0       0.83      0.96      0.89        56\n",
      "           1       0.95      0.79      0.87        53\n",
      "\n",
      "    accuracy                           0.88       109\n",
      "   macro avg       0.89      0.88      0.88       109\n",
      "weighted avg       0.89      0.88      0.88       109\n",
      "\n"
     ]
    }
   ],
   "source": [
    "z4=classification_report(ytest, lp)\n",
    "print(z4)"
   ]
  },
  {
   "cell_type": "markdown",
   "id": "85d8ba07",
   "metadata": {},
   "source": [
    "# Accuracy Scores of Different Models"
   ]
  },
  {
   "cell_type": "code",
   "execution_count": 104,
   "id": "9097b0dc",
   "metadata": {},
   "outputs": [
    {
     "name": "stdout",
     "output_type": "stream",
     "text": [
      "Accuracy Score Of Decision Tree Classifier 0.8165137614678899\n",
      "\n",
      "Best Score In Grid Search CV after Hyper Parameter Tunning 0.8615610799251536\n",
      "\n",
      "Accuracy Score Of Random Forest Classifier 0.8532110091743119\n",
      "\n",
      "Best Score In Grid Search CV after Hyper Parameter Tunning 0.8638599304998664\n",
      "\n",
      "Accuracy Score Of Gradient Boosting Classifier 0.8807339449541285\n",
      "\n",
      "Accuracy Score Of Support Vector Machine 0.8532110091743119\n",
      "\n",
      "Accuracy Score Of KNeighbors Classifier 0.8532110091743119\n",
      "\n",
      "Accuracy Score Of Naive Bayes 0.8807339449541285\n",
      "\n",
      "Accuracy Score Of Logistic Regression 0.8807339449541285\n"
     ]
    }
   ],
   "source": [
    "print('Accuracy Score Of Decision Tree Classifier',accuracy_score(ytest,p))\n",
    "print()\n",
    "print('Best Score In Grid Search CV after Hyper Parameter Tunning',gsd.best_score_)\n",
    "print()\n",
    "print('Accuracy Score Of Random Forest Classifier',accuracy_score(ytest,rp))\n",
    "print()\n",
    "print('Best Score In Grid Search CV after Hyper Parameter Tunning',gsr.best_score_)\n",
    "print()\n",
    "print('Accuracy Score Of Gradient Boosting Classifier',accuracy_score(ytest,gp))\n",
    "print()\n",
    "print('Accuracy Score Of Support Vector Machine',accuracy_score(ytest,sp))\n",
    "print()\n",
    "print('Accuracy Score Of KNeighbors Classifier',accuracy_score(ytest,kp))\n",
    "print()\n",
    "print('Accuracy Score Of Naive Bayes',accuracy_score(ytest,np))\n",
    "print()\n",
    "print('Accuracy Score Of Logistic Regression',accuracy_score(ytest,lp))"
   ]
  },
  {
   "cell_type": "markdown",
   "id": "6e40d8a0",
   "metadata": {},
   "source": [
    "# Integrating Power BI "
   ]
  },
  {
   "cell_type": "code",
   "execution_count": 105,
   "id": "25339d94",
   "metadata": {},
   "outputs": [
    {
     "name": "stdout",
     "output_type": "stream",
     "text": [
      "Requirement already satisfied: powerbiclient in c:\\users\\dhanavel\\anaconda3\\lib\\site-packages (1.0.0)\n",
      "Requirement already satisfied: ipywidgets>=7.0.0 in c:\\users\\dhanavel\\anaconda3\\lib\\site-packages (from powerbiclient) (7.6.5)\n",
      "Requirement already satisfied: requests>=2.25.1 in c:\\users\\dhanavel\\anaconda3\\lib\\site-packages (from powerbiclient) (2.26.0)\n",
      "Requirement already satisfied: jupyter-ui-poll>=0.1.2 in c:\\users\\dhanavel\\anaconda3\\lib\\site-packages (from powerbiclient) (0.2.1)\n",
      "Requirement already satisfied: msal>=1.8.0 in c:\\users\\dhanavel\\anaconda3\\lib\\site-packages (from powerbiclient) (1.18.0)\n",
      "Requirement already satisfied: nbformat>=4.2.0 in c:\\users\\dhanavel\\anaconda3\\lib\\site-packages (from ipywidgets>=7.0.0->powerbiclient) (5.1.3)\n",
      "Requirement already satisfied: ipykernel>=4.5.1 in c:\\users\\dhanavel\\anaconda3\\lib\\site-packages (from ipywidgets>=7.0.0->powerbiclient) (6.4.1)\n",
      "Requirement already satisfied: ipython>=4.0.0 in c:\\users\\dhanavel\\anaconda3\\lib\\site-packages (from ipywidgets>=7.0.0->powerbiclient) (7.29.0)\n",
      "Requirement already satisfied: jupyterlab-widgets>=1.0.0 in c:\\users\\dhanavel\\anaconda3\\lib\\site-packages (from ipywidgets>=7.0.0->powerbiclient) (1.0.0)\n",
      "Requirement already satisfied: widgetsnbextension~=3.5.0 in c:\\users\\dhanavel\\anaconda3\\lib\\site-packages (from ipywidgets>=7.0.0->powerbiclient) (3.5.1)\n",
      "Requirement already satisfied: traitlets>=4.3.1 in c:\\users\\dhanavel\\anaconda3\\lib\\site-packages (from ipywidgets>=7.0.0->powerbiclient) (5.1.0)\n",
      "Requirement already satisfied: ipython-genutils~=0.2.0 in c:\\users\\dhanavel\\anaconda3\\lib\\site-packages (from ipywidgets>=7.0.0->powerbiclient) (0.2.0)\n",
      "Requirement already satisfied: tornado<7.0,>=4.2 in c:\\users\\dhanavel\\anaconda3\\lib\\site-packages (from ipykernel>=4.5.1->ipywidgets>=7.0.0->powerbiclient) (6.1)\n",
      "Requirement already satisfied: matplotlib-inline<0.2.0,>=0.1.0 in c:\\users\\dhanavel\\anaconda3\\lib\\site-packages (from ipykernel>=4.5.1->ipywidgets>=7.0.0->powerbiclient) (0.1.2)\n",
      "Requirement already satisfied: jupyter-client<8.0 in c:\\users\\dhanavel\\anaconda3\\lib\\site-packages (from ipykernel>=4.5.1->ipywidgets>=7.0.0->powerbiclient) (6.1.12)\n",
      "Requirement already satisfied: debugpy<2.0,>=1.0.0 in c:\\users\\dhanavel\\anaconda3\\lib\\site-packages (from ipykernel>=4.5.1->ipywidgets>=7.0.0->powerbiclient) (1.4.1)\n",
      "Requirement already satisfied: backcall in c:\\users\\dhanavel\\anaconda3\\lib\\site-packages (from ipython>=4.0.0->ipywidgets>=7.0.0->powerbiclient) (0.2.0)\n",
      "Requirement already satisfied: pickleshare in c:\\users\\dhanavel\\anaconda3\\lib\\site-packages (from ipython>=4.0.0->ipywidgets>=7.0.0->powerbiclient) (0.7.5)\n",
      "Requirement already satisfied: jedi>=0.16 in c:\\users\\dhanavel\\anaconda3\\lib\\site-packages (from ipython>=4.0.0->ipywidgets>=7.0.0->powerbiclient) (0.18.0)\n",
      "Requirement already satisfied: colorama in c:\\users\\dhanavel\\anaconda3\\lib\\site-packages (from ipython>=4.0.0->ipywidgets>=7.0.0->powerbiclient) (0.4.4)\n",
      "Requirement already satisfied: prompt-toolkit!=3.0.0,!=3.0.1,<3.1.0,>=2.0.0 in c:\\users\\dhanavel\\anaconda3\\lib\\site-packages (from ipython>=4.0.0->ipywidgets>=7.0.0->powerbiclient) (3.0.20)\n",
      "Requirement already satisfied: decorator in c:\\users\\dhanavel\\anaconda3\\lib\\site-packages (from ipython>=4.0.0->ipywidgets>=7.0.0->powerbiclient) (5.1.0)\n",
      "Requirement already satisfied: setuptools>=18.5 in c:\\users\\dhanavel\\anaconda3\\lib\\site-packages (from ipython>=4.0.0->ipywidgets>=7.0.0->powerbiclient) (58.0.4)\n",
      "Requirement already satisfied: pygments in c:\\users\\dhanavel\\anaconda3\\lib\\site-packages (from ipython>=4.0.0->ipywidgets>=7.0.0->powerbiclient) (2.10.0)\n",
      "Requirement already satisfied: parso<0.9.0,>=0.8.0 in c:\\users\\dhanavel\\anaconda3\\lib\\site-packages (from jedi>=0.16->ipython>=4.0.0->ipywidgets>=7.0.0->powerbiclient) (0.8.2)\n",
      "Requirement already satisfied: pyzmq>=13 in c:\\users\\dhanavel\\anaconda3\\lib\\site-packages (from jupyter-client<8.0->ipykernel>=4.5.1->ipywidgets>=7.0.0->powerbiclient) (22.2.1)\n",
      "Requirement already satisfied: python-dateutil>=2.1 in c:\\users\\dhanavel\\anaconda3\\lib\\site-packages (from jupyter-client<8.0->ipykernel>=4.5.1->ipywidgets>=7.0.0->powerbiclient) (2.8.2)\n",
      "Requirement already satisfied: jupyter-core>=4.6.0 in c:\\users\\dhanavel\\anaconda3\\lib\\site-packages (from jupyter-client<8.0->ipykernel>=4.5.1->ipywidgets>=7.0.0->powerbiclient) (4.8.1)\n",
      "Requirement already satisfied: pywin32>=1.0 in c:\\users\\dhanavel\\anaconda3\\lib\\site-packages (from jupyter-core>=4.6.0->jupyter-client<8.0->ipykernel>=4.5.1->ipywidgets>=7.0.0->powerbiclient) (228)\n",
      "Requirement already satisfied: PyJWT[crypto]<3,>=1.0.0 in c:\\users\\dhanavel\\anaconda3\\lib\\site-packages (from msal>=1.8.0->powerbiclient) (2.1.0)\n",
      "Requirement already satisfied: cryptography<40,>=0.6 in c:\\users\\dhanavel\\anaconda3\\lib\\site-packages (from msal>=1.8.0->powerbiclient) (3.4.8)\n",
      "Requirement already satisfied: cffi>=1.12 in c:\\users\\dhanavel\\anaconda3\\lib\\site-packages (from cryptography<40,>=0.6->msal>=1.8.0->powerbiclient) (1.14.6)\n",
      "Requirement already satisfied: pycparser in c:\\users\\dhanavel\\anaconda3\\lib\\site-packages (from cffi>=1.12->cryptography<40,>=0.6->msal>=1.8.0->powerbiclient) (2.20)\n",
      "Requirement already satisfied: jsonschema!=2.5.0,>=2.4 in c:\\users\\dhanavel\\anaconda3\\lib\\site-packages (from nbformat>=4.2.0->ipywidgets>=7.0.0->powerbiclient) (3.2.0)\n",
      "Requirement already satisfied: pyrsistent>=0.14.0 in c:\\users\\dhanavel\\anaconda3\\lib\\site-packages (from jsonschema!=2.5.0,>=2.4->nbformat>=4.2.0->ipywidgets>=7.0.0->powerbiclient) (0.18.0)\n",
      "Requirement already satisfied: attrs>=17.4.0 in c:\\users\\dhanavel\\anaconda3\\lib\\site-packages (from jsonschema!=2.5.0,>=2.4->nbformat>=4.2.0->ipywidgets>=7.0.0->powerbiclient) (21.2.0)\n",
      "Requirement already satisfied: six>=1.11.0 in c:\\users\\dhanavel\\anaconda3\\lib\\site-packages (from jsonschema!=2.5.0,>=2.4->nbformat>=4.2.0->ipywidgets>=7.0.0->powerbiclient) (1.16.0)\n",
      "Requirement already satisfied: wcwidth in c:\\users\\dhanavel\\anaconda3\\lib\\site-packages (from prompt-toolkit!=3.0.0,!=3.0.1,<3.1.0,>=2.0.0->ipython>=4.0.0->ipywidgets>=7.0.0->powerbiclient) (0.2.5)\n",
      "Requirement already satisfied: certifi>=2017.4.17 in c:\\users\\dhanavel\\anaconda3\\lib\\site-packages (from requests>=2.25.1->powerbiclient) (2021.10.8)\n",
      "Requirement already satisfied: idna<4,>=2.5 in c:\\users\\dhanavel\\anaconda3\\lib\\site-packages (from requests>=2.25.1->powerbiclient) (3.2)\n",
      "Requirement already satisfied: urllib3<1.27,>=1.21.1 in c:\\users\\dhanavel\\anaconda3\\lib\\site-packages (from requests>=2.25.1->powerbiclient) (1.26.7)\n",
      "Requirement already satisfied: charset-normalizer~=2.0.0 in c:\\users\\dhanavel\\anaconda3\\lib\\site-packages (from requests>=2.25.1->powerbiclient) (2.0.4)\n",
      "Requirement already satisfied: notebook>=4.4.1 in c:\\users\\dhanavel\\anaconda3\\lib\\site-packages (from widgetsnbextension~=3.5.0->ipywidgets>=7.0.0->powerbiclient) (6.4.5)\n",
      "Requirement already satisfied: argon2-cffi in c:\\users\\dhanavel\\anaconda3\\lib\\site-packages (from notebook>=4.4.1->widgetsnbextension~=3.5.0->ipywidgets>=7.0.0->powerbiclient) (20.1.0)\n",
      "Requirement already satisfied: nbconvert in c:\\users\\dhanavel\\anaconda3\\lib\\site-packages (from notebook>=4.4.1->widgetsnbextension~=3.5.0->ipywidgets>=7.0.0->powerbiclient) (6.1.0)\n",
      "Requirement already satisfied: Send2Trash>=1.5.0 in c:\\users\\dhanavel\\anaconda3\\lib\\site-packages (from notebook>=4.4.1->widgetsnbextension~=3.5.0->ipywidgets>=7.0.0->powerbiclient) (1.8.0)\n",
      "Requirement already satisfied: terminado>=0.8.3 in c:\\users\\dhanavel\\anaconda3\\lib\\site-packages (from notebook>=4.4.1->widgetsnbextension~=3.5.0->ipywidgets>=7.0.0->powerbiclient) (0.9.4)\n",
      "Requirement already satisfied: prometheus-client in c:\\users\\dhanavel\\anaconda3\\lib\\site-packages (from notebook>=4.4.1->widgetsnbextension~=3.5.0->ipywidgets>=7.0.0->powerbiclient) (0.11.0)\n",
      "Requirement already satisfied: jinja2 in c:\\users\\dhanavel\\anaconda3\\lib\\site-packages (from notebook>=4.4.1->widgetsnbextension~=3.5.0->ipywidgets>=7.0.0->powerbiclient) (2.11.3)\n",
      "Requirement already satisfied: pywinpty>=0.5 in c:\\users\\dhanavel\\anaconda3\\lib\\site-packages (from terminado>=0.8.3->notebook>=4.4.1->widgetsnbextension~=3.5.0->ipywidgets>=7.0.0->powerbiclient) (0.5.7)\n",
      "Requirement already satisfied: MarkupSafe>=0.23 in c:\\users\\dhanavel\\anaconda3\\lib\\site-packages (from jinja2->notebook>=4.4.1->widgetsnbextension~=3.5.0->ipywidgets>=7.0.0->powerbiclient) (1.1.1)\n",
      "Requirement already satisfied: testpath in c:\\users\\dhanavel\\anaconda3\\lib\\site-packages (from nbconvert->notebook>=4.4.1->widgetsnbextension~=3.5.0->ipywidgets>=7.0.0->powerbiclient) (0.5.0)\n",
      "Requirement already satisfied: jupyterlab-pygments in c:\\users\\dhanavel\\anaconda3\\lib\\site-packages (from nbconvert->notebook>=4.4.1->widgetsnbextension~=3.5.0->ipywidgets>=7.0.0->powerbiclient) (0.1.2)\n",
      "Requirement already satisfied: entrypoints>=0.2.2 in c:\\users\\dhanavel\\anaconda3\\lib\\site-packages (from nbconvert->notebook>=4.4.1->widgetsnbextension~=3.5.0->ipywidgets>=7.0.0->powerbiclient) (0.3)\n",
      "Requirement already satisfied: bleach in c:\\users\\dhanavel\\anaconda3\\lib\\site-packages (from nbconvert->notebook>=4.4.1->widgetsnbextension~=3.5.0->ipywidgets>=7.0.0->powerbiclient) (4.0.0)\n",
      "Requirement already satisfied: mistune<2,>=0.8.1 in c:\\users\\dhanavel\\anaconda3\\lib\\site-packages (from nbconvert->notebook>=4.4.1->widgetsnbextension~=3.5.0->ipywidgets>=7.0.0->powerbiclient) (0.8.4)\n",
      "Requirement already satisfied: defusedxml in c:\\users\\dhanavel\\anaconda3\\lib\\site-packages (from nbconvert->notebook>=4.4.1->widgetsnbextension~=3.5.0->ipywidgets>=7.0.0->powerbiclient) (0.7.1)\n",
      "Requirement already satisfied: nbclient<0.6.0,>=0.5.0 in c:\\users\\dhanavel\\anaconda3\\lib\\site-packages (from nbconvert->notebook>=4.4.1->widgetsnbextension~=3.5.0->ipywidgets>=7.0.0->powerbiclient) (0.5.3)\n",
      "Requirement already satisfied: pandocfilters>=1.4.1 in c:\\users\\dhanavel\\anaconda3\\lib\\site-packages (from nbconvert->notebook>=4.4.1->widgetsnbextension~=3.5.0->ipywidgets>=7.0.0->powerbiclient) (1.4.3)\n",
      "Requirement already satisfied: nest-asyncio in c:\\users\\dhanavel\\anaconda3\\lib\\site-packages (from nbclient<0.6.0,>=0.5.0->nbconvert->notebook>=4.4.1->widgetsnbextension~=3.5.0->ipywidgets>=7.0.0->powerbiclient) (1.5.1)\n",
      "Requirement already satisfied: async-generator in c:\\users\\dhanavel\\anaconda3\\lib\\site-packages (from nbclient<0.6.0,>=0.5.0->nbconvert->notebook>=4.4.1->widgetsnbextension~=3.5.0->ipywidgets>=7.0.0->powerbiclient) (1.10)\n",
      "Requirement already satisfied: packaging in c:\\users\\dhanavel\\anaconda3\\lib\\site-packages (from bleach->nbconvert->notebook>=4.4.1->widgetsnbextension~=3.5.0->ipywidgets>=7.0.0->powerbiclient) (21.0)\n",
      "Requirement already satisfied: webencodings in c:\\users\\dhanavel\\anaconda3\\lib\\site-packages (from bleach->nbconvert->notebook>=4.4.1->widgetsnbextension~=3.5.0->ipywidgets>=7.0.0->powerbiclient) (0.5.1)\n",
      "Requirement already satisfied: pyparsing>=2.0.2 in c:\\users\\dhanavel\\anaconda3\\lib\\site-packages (from packaging->bleach->nbconvert->notebook>=4.4.1->widgetsnbextension~=3.5.0->ipywidgets>=7.0.0->powerbiclient) (3.0.4)\n"
     ]
    }
   ],
   "source": [
    "!pip install powerbiclient"
   ]
  },
  {
   "cell_type": "code",
   "execution_count": 106,
   "id": "5db0ec4f",
   "metadata": {},
   "outputs": [],
   "source": [
    "from powerbiclient import Report,models"
   ]
  },
  {
   "cell_type": "code",
   "execution_count": 107,
   "id": "222ef667",
   "metadata": {},
   "outputs": [
    {
     "name": "stdout",
     "output_type": "stream",
     "text": [
      "Performing interactive authentication. Please follow the instructions on the terminal.\n",
      " To sign in, use a web browser to open the page https://microsoft.com/devicelogin and enter the code HZK3W93ZJ to authenticate.\n"
     ]
    },
    {
     "ename": "ConnectionError",
     "evalue": "('Connection aborted.', TimeoutError(10060, 'A connection attempt failed because the connected party did not properly respond after a period of time, or established connection failed because connected host has failed to respond', None, 10060, None))",
     "output_type": "error",
     "traceback": [
      "\u001b[1;31m---------------------------------------------------------------------------\u001b[0m",
      "\u001b[1;31mTimeoutError\u001b[0m                              Traceback (most recent call last)",
      "\u001b[1;32m~\\anaconda3\\lib\\site-packages\\urllib3\\connectionpool.py\u001b[0m in \u001b[0;36murlopen\u001b[1;34m(self, method, url, body, headers, retries, redirect, assert_same_host, timeout, pool_timeout, release_conn, chunked, body_pos, **response_kw)\u001b[0m\n\u001b[0;32m    698\u001b[0m             \u001b[1;31m# Make the request on the httplib connection object.\u001b[0m\u001b[1;33m\u001b[0m\u001b[1;33m\u001b[0m\u001b[0m\n\u001b[1;32m--> 699\u001b[1;33m             httplib_response = self._make_request(\n\u001b[0m\u001b[0;32m    700\u001b[0m                 \u001b[0mconn\u001b[0m\u001b[1;33m,\u001b[0m\u001b[1;33m\u001b[0m\u001b[1;33m\u001b[0m\u001b[0m\n",
      "\u001b[1;32m~\\anaconda3\\lib\\site-packages\\urllib3\\connectionpool.py\u001b[0m in \u001b[0;36m_make_request\u001b[1;34m(self, conn, method, url, timeout, chunked, **httplib_request_kw)\u001b[0m\n\u001b[0;32m    444\u001b[0m                     \u001b[1;31m# Otherwise it looks like a bug in the code.\u001b[0m\u001b[1;33m\u001b[0m\u001b[1;33m\u001b[0m\u001b[0m\n\u001b[1;32m--> 445\u001b[1;33m                     \u001b[0msix\u001b[0m\u001b[1;33m.\u001b[0m\u001b[0mraise_from\u001b[0m\u001b[1;33m(\u001b[0m\u001b[0me\u001b[0m\u001b[1;33m,\u001b[0m \u001b[1;32mNone\u001b[0m\u001b[1;33m)\u001b[0m\u001b[1;33m\u001b[0m\u001b[1;33m\u001b[0m\u001b[0m\n\u001b[0m\u001b[0;32m    446\u001b[0m         \u001b[1;32mexcept\u001b[0m \u001b[1;33m(\u001b[0m\u001b[0mSocketTimeout\u001b[0m\u001b[1;33m,\u001b[0m \u001b[0mBaseSSLError\u001b[0m\u001b[1;33m,\u001b[0m \u001b[0mSocketError\u001b[0m\u001b[1;33m)\u001b[0m \u001b[1;32mas\u001b[0m \u001b[0me\u001b[0m\u001b[1;33m:\u001b[0m\u001b[1;33m\u001b[0m\u001b[1;33m\u001b[0m\u001b[0m\n",
      "\u001b[1;32m~\\anaconda3\\lib\\site-packages\\urllib3\\packages\\six.py\u001b[0m in \u001b[0;36mraise_from\u001b[1;34m(value, from_value)\u001b[0m\n",
      "\u001b[1;32m~\\anaconda3\\lib\\site-packages\\urllib3\\connectionpool.py\u001b[0m in \u001b[0;36m_make_request\u001b[1;34m(self, conn, method, url, timeout, chunked, **httplib_request_kw)\u001b[0m\n\u001b[0;32m    439\u001b[0m                 \u001b[1;32mtry\u001b[0m\u001b[1;33m:\u001b[0m\u001b[1;33m\u001b[0m\u001b[1;33m\u001b[0m\u001b[0m\n\u001b[1;32m--> 440\u001b[1;33m                     \u001b[0mhttplib_response\u001b[0m \u001b[1;33m=\u001b[0m \u001b[0mconn\u001b[0m\u001b[1;33m.\u001b[0m\u001b[0mgetresponse\u001b[0m\u001b[1;33m(\u001b[0m\u001b[1;33m)\u001b[0m\u001b[1;33m\u001b[0m\u001b[1;33m\u001b[0m\u001b[0m\n\u001b[0m\u001b[0;32m    441\u001b[0m                 \u001b[1;32mexcept\u001b[0m \u001b[0mBaseException\u001b[0m \u001b[1;32mas\u001b[0m \u001b[0me\u001b[0m\u001b[1;33m:\u001b[0m\u001b[1;33m\u001b[0m\u001b[1;33m\u001b[0m\u001b[0m\n",
      "\u001b[1;32m~\\anaconda3\\lib\\http\\client.py\u001b[0m in \u001b[0;36mgetresponse\u001b[1;34m(self)\u001b[0m\n\u001b[0;32m   1370\u001b[0m             \u001b[1;32mtry\u001b[0m\u001b[1;33m:\u001b[0m\u001b[1;33m\u001b[0m\u001b[1;33m\u001b[0m\u001b[0m\n\u001b[1;32m-> 1371\u001b[1;33m                 \u001b[0mresponse\u001b[0m\u001b[1;33m.\u001b[0m\u001b[0mbegin\u001b[0m\u001b[1;33m(\u001b[0m\u001b[1;33m)\u001b[0m\u001b[1;33m\u001b[0m\u001b[1;33m\u001b[0m\u001b[0m\n\u001b[0m\u001b[0;32m   1372\u001b[0m             \u001b[1;32mexcept\u001b[0m \u001b[0mConnectionError\u001b[0m\u001b[1;33m:\u001b[0m\u001b[1;33m\u001b[0m\u001b[1;33m\u001b[0m\u001b[0m\n",
      "\u001b[1;32m~\\anaconda3\\lib\\http\\client.py\u001b[0m in \u001b[0;36mbegin\u001b[1;34m(self)\u001b[0m\n\u001b[0;32m    318\u001b[0m         \u001b[1;32mwhile\u001b[0m \u001b[1;32mTrue\u001b[0m\u001b[1;33m:\u001b[0m\u001b[1;33m\u001b[0m\u001b[1;33m\u001b[0m\u001b[0m\n\u001b[1;32m--> 319\u001b[1;33m             \u001b[0mversion\u001b[0m\u001b[1;33m,\u001b[0m \u001b[0mstatus\u001b[0m\u001b[1;33m,\u001b[0m \u001b[0mreason\u001b[0m \u001b[1;33m=\u001b[0m \u001b[0mself\u001b[0m\u001b[1;33m.\u001b[0m\u001b[0m_read_status\u001b[0m\u001b[1;33m(\u001b[0m\u001b[1;33m)\u001b[0m\u001b[1;33m\u001b[0m\u001b[1;33m\u001b[0m\u001b[0m\n\u001b[0m\u001b[0;32m    320\u001b[0m             \u001b[1;32mif\u001b[0m \u001b[0mstatus\u001b[0m \u001b[1;33m!=\u001b[0m \u001b[0mCONTINUE\u001b[0m\u001b[1;33m:\u001b[0m\u001b[1;33m\u001b[0m\u001b[1;33m\u001b[0m\u001b[0m\n",
      "\u001b[1;32m~\\anaconda3\\lib\\http\\client.py\u001b[0m in \u001b[0;36m_read_status\u001b[1;34m(self)\u001b[0m\n\u001b[0;32m    279\u001b[0m     \u001b[1;32mdef\u001b[0m \u001b[0m_read_status\u001b[0m\u001b[1;33m(\u001b[0m\u001b[0mself\u001b[0m\u001b[1;33m)\u001b[0m\u001b[1;33m:\u001b[0m\u001b[1;33m\u001b[0m\u001b[1;33m\u001b[0m\u001b[0m\n\u001b[1;32m--> 280\u001b[1;33m         \u001b[0mline\u001b[0m \u001b[1;33m=\u001b[0m \u001b[0mstr\u001b[0m\u001b[1;33m(\u001b[0m\u001b[0mself\u001b[0m\u001b[1;33m.\u001b[0m\u001b[0mfp\u001b[0m\u001b[1;33m.\u001b[0m\u001b[0mreadline\u001b[0m\u001b[1;33m(\u001b[0m\u001b[0m_MAXLINE\u001b[0m \u001b[1;33m+\u001b[0m \u001b[1;36m1\u001b[0m\u001b[1;33m)\u001b[0m\u001b[1;33m,\u001b[0m \u001b[1;34m\"iso-8859-1\"\u001b[0m\u001b[1;33m)\u001b[0m\u001b[1;33m\u001b[0m\u001b[1;33m\u001b[0m\u001b[0m\n\u001b[0m\u001b[0;32m    281\u001b[0m         \u001b[1;32mif\u001b[0m \u001b[0mlen\u001b[0m\u001b[1;33m(\u001b[0m\u001b[0mline\u001b[0m\u001b[1;33m)\u001b[0m \u001b[1;33m>\u001b[0m \u001b[0m_MAXLINE\u001b[0m\u001b[1;33m:\u001b[0m\u001b[1;33m\u001b[0m\u001b[1;33m\u001b[0m\u001b[0m\n",
      "\u001b[1;32m~\\anaconda3\\lib\\socket.py\u001b[0m in \u001b[0;36mreadinto\u001b[1;34m(self, b)\u001b[0m\n\u001b[0;32m    703\u001b[0m             \u001b[1;32mtry\u001b[0m\u001b[1;33m:\u001b[0m\u001b[1;33m\u001b[0m\u001b[1;33m\u001b[0m\u001b[0m\n\u001b[1;32m--> 704\u001b[1;33m                 \u001b[1;32mreturn\u001b[0m \u001b[0mself\u001b[0m\u001b[1;33m.\u001b[0m\u001b[0m_sock\u001b[0m\u001b[1;33m.\u001b[0m\u001b[0mrecv_into\u001b[0m\u001b[1;33m(\u001b[0m\u001b[0mb\u001b[0m\u001b[1;33m)\u001b[0m\u001b[1;33m\u001b[0m\u001b[1;33m\u001b[0m\u001b[0m\n\u001b[0m\u001b[0;32m    705\u001b[0m             \u001b[1;32mexcept\u001b[0m \u001b[0mtimeout\u001b[0m\u001b[1;33m:\u001b[0m\u001b[1;33m\u001b[0m\u001b[1;33m\u001b[0m\u001b[0m\n",
      "\u001b[1;32m~\\anaconda3\\lib\\ssl.py\u001b[0m in \u001b[0;36mrecv_into\u001b[1;34m(self, buffer, nbytes, flags)\u001b[0m\n\u001b[0;32m   1240\u001b[0m                   self.__class__)\n\u001b[1;32m-> 1241\u001b[1;33m             \u001b[1;32mreturn\u001b[0m \u001b[0mself\u001b[0m\u001b[1;33m.\u001b[0m\u001b[0mread\u001b[0m\u001b[1;33m(\u001b[0m\u001b[0mnbytes\u001b[0m\u001b[1;33m,\u001b[0m \u001b[0mbuffer\u001b[0m\u001b[1;33m)\u001b[0m\u001b[1;33m\u001b[0m\u001b[1;33m\u001b[0m\u001b[0m\n\u001b[0m\u001b[0;32m   1242\u001b[0m         \u001b[1;32melse\u001b[0m\u001b[1;33m:\u001b[0m\u001b[1;33m\u001b[0m\u001b[1;33m\u001b[0m\u001b[0m\n",
      "\u001b[1;32m~\\anaconda3\\lib\\ssl.py\u001b[0m in \u001b[0;36mread\u001b[1;34m(self, len, buffer)\u001b[0m\n\u001b[0;32m   1098\u001b[0m             \u001b[1;32mif\u001b[0m \u001b[0mbuffer\u001b[0m \u001b[1;32mis\u001b[0m \u001b[1;32mnot\u001b[0m \u001b[1;32mNone\u001b[0m\u001b[1;33m:\u001b[0m\u001b[1;33m\u001b[0m\u001b[1;33m\u001b[0m\u001b[0m\n\u001b[1;32m-> 1099\u001b[1;33m                 \u001b[1;32mreturn\u001b[0m \u001b[0mself\u001b[0m\u001b[1;33m.\u001b[0m\u001b[0m_sslobj\u001b[0m\u001b[1;33m.\u001b[0m\u001b[0mread\u001b[0m\u001b[1;33m(\u001b[0m\u001b[0mlen\u001b[0m\u001b[1;33m,\u001b[0m \u001b[0mbuffer\u001b[0m\u001b[1;33m)\u001b[0m\u001b[1;33m\u001b[0m\u001b[1;33m\u001b[0m\u001b[0m\n\u001b[0m\u001b[0;32m   1100\u001b[0m             \u001b[1;32melse\u001b[0m\u001b[1;33m:\u001b[0m\u001b[1;33m\u001b[0m\u001b[1;33m\u001b[0m\u001b[0m\n",
      "\u001b[1;31mTimeoutError\u001b[0m: [WinError 10060] A connection attempt failed because the connected party did not properly respond after a period of time, or established connection failed because connected host has failed to respond",
      "\nDuring handling of the above exception, another exception occurred:\n",
      "\u001b[1;31mProtocolError\u001b[0m                             Traceback (most recent call last)",
      "\u001b[1;32m~\\anaconda3\\lib\\site-packages\\requests\\adapters.py\u001b[0m in \u001b[0;36msend\u001b[1;34m(self, request, stream, timeout, verify, cert, proxies)\u001b[0m\n\u001b[0;32m    438\u001b[0m             \u001b[1;32mif\u001b[0m \u001b[1;32mnot\u001b[0m \u001b[0mchunked\u001b[0m\u001b[1;33m:\u001b[0m\u001b[1;33m\u001b[0m\u001b[1;33m\u001b[0m\u001b[0m\n\u001b[1;32m--> 439\u001b[1;33m                 resp = conn.urlopen(\n\u001b[0m\u001b[0;32m    440\u001b[0m                     \u001b[0mmethod\u001b[0m\u001b[1;33m=\u001b[0m\u001b[0mrequest\u001b[0m\u001b[1;33m.\u001b[0m\u001b[0mmethod\u001b[0m\u001b[1;33m,\u001b[0m\u001b[1;33m\u001b[0m\u001b[1;33m\u001b[0m\u001b[0m\n",
      "\u001b[1;32m~\\anaconda3\\lib\\site-packages\\urllib3\\connectionpool.py\u001b[0m in \u001b[0;36murlopen\u001b[1;34m(self, method, url, body, headers, retries, redirect, assert_same_host, timeout, pool_timeout, release_conn, chunked, body_pos, **response_kw)\u001b[0m\n\u001b[0;32m    754\u001b[0m \u001b[1;33m\u001b[0m\u001b[0m\n\u001b[1;32m--> 755\u001b[1;33m             retries = retries.increment(\n\u001b[0m\u001b[0;32m    756\u001b[0m                 \u001b[0mmethod\u001b[0m\u001b[1;33m,\u001b[0m \u001b[0murl\u001b[0m\u001b[1;33m,\u001b[0m \u001b[0merror\u001b[0m\u001b[1;33m=\u001b[0m\u001b[0me\u001b[0m\u001b[1;33m,\u001b[0m \u001b[0m_pool\u001b[0m\u001b[1;33m=\u001b[0m\u001b[0mself\u001b[0m\u001b[1;33m,\u001b[0m \u001b[0m_stacktrace\u001b[0m\u001b[1;33m=\u001b[0m\u001b[0msys\u001b[0m\u001b[1;33m.\u001b[0m\u001b[0mexc_info\u001b[0m\u001b[1;33m(\u001b[0m\u001b[1;33m)\u001b[0m\u001b[1;33m[\u001b[0m\u001b[1;36m2\u001b[0m\u001b[1;33m]\u001b[0m\u001b[1;33m\u001b[0m\u001b[1;33m\u001b[0m\u001b[0m\n",
      "\u001b[1;32m~\\anaconda3\\lib\\site-packages\\urllib3\\util\\retry.py\u001b[0m in \u001b[0;36mincrement\u001b[1;34m(self, method, url, response, error, _pool, _stacktrace)\u001b[0m\n\u001b[0;32m    531\u001b[0m             \u001b[1;32mif\u001b[0m \u001b[0mread\u001b[0m \u001b[1;32mis\u001b[0m \u001b[1;32mFalse\u001b[0m \u001b[1;32mor\u001b[0m \u001b[1;32mnot\u001b[0m \u001b[0mself\u001b[0m\u001b[1;33m.\u001b[0m\u001b[0m_is_method_retryable\u001b[0m\u001b[1;33m(\u001b[0m\u001b[0mmethod\u001b[0m\u001b[1;33m)\u001b[0m\u001b[1;33m:\u001b[0m\u001b[1;33m\u001b[0m\u001b[1;33m\u001b[0m\u001b[0m\n\u001b[1;32m--> 532\u001b[1;33m                 \u001b[1;32mraise\u001b[0m \u001b[0msix\u001b[0m\u001b[1;33m.\u001b[0m\u001b[0mreraise\u001b[0m\u001b[1;33m(\u001b[0m\u001b[0mtype\u001b[0m\u001b[1;33m(\u001b[0m\u001b[0merror\u001b[0m\u001b[1;33m)\u001b[0m\u001b[1;33m,\u001b[0m \u001b[0merror\u001b[0m\u001b[1;33m,\u001b[0m \u001b[0m_stacktrace\u001b[0m\u001b[1;33m)\u001b[0m\u001b[1;33m\u001b[0m\u001b[1;33m\u001b[0m\u001b[0m\n\u001b[0m\u001b[0;32m    533\u001b[0m             \u001b[1;32melif\u001b[0m \u001b[0mread\u001b[0m \u001b[1;32mis\u001b[0m \u001b[1;32mnot\u001b[0m \u001b[1;32mNone\u001b[0m\u001b[1;33m:\u001b[0m\u001b[1;33m\u001b[0m\u001b[1;33m\u001b[0m\u001b[0m\n",
      "\u001b[1;32m~\\anaconda3\\lib\\site-packages\\urllib3\\packages\\six.py\u001b[0m in \u001b[0;36mreraise\u001b[1;34m(tp, value, tb)\u001b[0m\n\u001b[0;32m    768\u001b[0m             \u001b[1;32mif\u001b[0m \u001b[0mvalue\u001b[0m\u001b[1;33m.\u001b[0m\u001b[0m__traceback__\u001b[0m \u001b[1;32mis\u001b[0m \u001b[1;32mnot\u001b[0m \u001b[0mtb\u001b[0m\u001b[1;33m:\u001b[0m\u001b[1;33m\u001b[0m\u001b[1;33m\u001b[0m\u001b[0m\n\u001b[1;32m--> 769\u001b[1;33m                 \u001b[1;32mraise\u001b[0m \u001b[0mvalue\u001b[0m\u001b[1;33m.\u001b[0m\u001b[0mwith_traceback\u001b[0m\u001b[1;33m(\u001b[0m\u001b[0mtb\u001b[0m\u001b[1;33m)\u001b[0m\u001b[1;33m\u001b[0m\u001b[1;33m\u001b[0m\u001b[0m\n\u001b[0m\u001b[0;32m    770\u001b[0m             \u001b[1;32mraise\u001b[0m \u001b[0mvalue\u001b[0m\u001b[1;33m\u001b[0m\u001b[1;33m\u001b[0m\u001b[0m\n",
      "\u001b[1;32m~\\anaconda3\\lib\\site-packages\\urllib3\\connectionpool.py\u001b[0m in \u001b[0;36murlopen\u001b[1;34m(self, method, url, body, headers, retries, redirect, assert_same_host, timeout, pool_timeout, release_conn, chunked, body_pos, **response_kw)\u001b[0m\n\u001b[0;32m    698\u001b[0m             \u001b[1;31m# Make the request on the httplib connection object.\u001b[0m\u001b[1;33m\u001b[0m\u001b[1;33m\u001b[0m\u001b[0m\n\u001b[1;32m--> 699\u001b[1;33m             httplib_response = self._make_request(\n\u001b[0m\u001b[0;32m    700\u001b[0m                 \u001b[0mconn\u001b[0m\u001b[1;33m,\u001b[0m\u001b[1;33m\u001b[0m\u001b[1;33m\u001b[0m\u001b[0m\n",
      "\u001b[1;32m~\\anaconda3\\lib\\site-packages\\urllib3\\connectionpool.py\u001b[0m in \u001b[0;36m_make_request\u001b[1;34m(self, conn, method, url, timeout, chunked, **httplib_request_kw)\u001b[0m\n\u001b[0;32m    444\u001b[0m                     \u001b[1;31m# Otherwise it looks like a bug in the code.\u001b[0m\u001b[1;33m\u001b[0m\u001b[1;33m\u001b[0m\u001b[0m\n\u001b[1;32m--> 445\u001b[1;33m                     \u001b[0msix\u001b[0m\u001b[1;33m.\u001b[0m\u001b[0mraise_from\u001b[0m\u001b[1;33m(\u001b[0m\u001b[0me\u001b[0m\u001b[1;33m,\u001b[0m \u001b[1;32mNone\u001b[0m\u001b[1;33m)\u001b[0m\u001b[1;33m\u001b[0m\u001b[1;33m\u001b[0m\u001b[0m\n\u001b[0m\u001b[0;32m    446\u001b[0m         \u001b[1;32mexcept\u001b[0m \u001b[1;33m(\u001b[0m\u001b[0mSocketTimeout\u001b[0m\u001b[1;33m,\u001b[0m \u001b[0mBaseSSLError\u001b[0m\u001b[1;33m,\u001b[0m \u001b[0mSocketError\u001b[0m\u001b[1;33m)\u001b[0m \u001b[1;32mas\u001b[0m \u001b[0me\u001b[0m\u001b[1;33m:\u001b[0m\u001b[1;33m\u001b[0m\u001b[1;33m\u001b[0m\u001b[0m\n",
      "\u001b[1;32m~\\anaconda3\\lib\\site-packages\\urllib3\\packages\\six.py\u001b[0m in \u001b[0;36mraise_from\u001b[1;34m(value, from_value)\u001b[0m\n",
      "\u001b[1;32m~\\anaconda3\\lib\\site-packages\\urllib3\\connectionpool.py\u001b[0m in \u001b[0;36m_make_request\u001b[1;34m(self, conn, method, url, timeout, chunked, **httplib_request_kw)\u001b[0m\n\u001b[0;32m    439\u001b[0m                 \u001b[1;32mtry\u001b[0m\u001b[1;33m:\u001b[0m\u001b[1;33m\u001b[0m\u001b[1;33m\u001b[0m\u001b[0m\n\u001b[1;32m--> 440\u001b[1;33m                     \u001b[0mhttplib_response\u001b[0m \u001b[1;33m=\u001b[0m \u001b[0mconn\u001b[0m\u001b[1;33m.\u001b[0m\u001b[0mgetresponse\u001b[0m\u001b[1;33m(\u001b[0m\u001b[1;33m)\u001b[0m\u001b[1;33m\u001b[0m\u001b[1;33m\u001b[0m\u001b[0m\n\u001b[0m\u001b[0;32m    441\u001b[0m                 \u001b[1;32mexcept\u001b[0m \u001b[0mBaseException\u001b[0m \u001b[1;32mas\u001b[0m \u001b[0me\u001b[0m\u001b[1;33m:\u001b[0m\u001b[1;33m\u001b[0m\u001b[1;33m\u001b[0m\u001b[0m\n",
      "\u001b[1;32m~\\anaconda3\\lib\\http\\client.py\u001b[0m in \u001b[0;36mgetresponse\u001b[1;34m(self)\u001b[0m\n\u001b[0;32m   1370\u001b[0m             \u001b[1;32mtry\u001b[0m\u001b[1;33m:\u001b[0m\u001b[1;33m\u001b[0m\u001b[1;33m\u001b[0m\u001b[0m\n\u001b[1;32m-> 1371\u001b[1;33m                 \u001b[0mresponse\u001b[0m\u001b[1;33m.\u001b[0m\u001b[0mbegin\u001b[0m\u001b[1;33m(\u001b[0m\u001b[1;33m)\u001b[0m\u001b[1;33m\u001b[0m\u001b[1;33m\u001b[0m\u001b[0m\n\u001b[0m\u001b[0;32m   1372\u001b[0m             \u001b[1;32mexcept\u001b[0m \u001b[0mConnectionError\u001b[0m\u001b[1;33m:\u001b[0m\u001b[1;33m\u001b[0m\u001b[1;33m\u001b[0m\u001b[0m\n",
      "\u001b[1;32m~\\anaconda3\\lib\\http\\client.py\u001b[0m in \u001b[0;36mbegin\u001b[1;34m(self)\u001b[0m\n\u001b[0;32m    318\u001b[0m         \u001b[1;32mwhile\u001b[0m \u001b[1;32mTrue\u001b[0m\u001b[1;33m:\u001b[0m\u001b[1;33m\u001b[0m\u001b[1;33m\u001b[0m\u001b[0m\n\u001b[1;32m--> 319\u001b[1;33m             \u001b[0mversion\u001b[0m\u001b[1;33m,\u001b[0m \u001b[0mstatus\u001b[0m\u001b[1;33m,\u001b[0m \u001b[0mreason\u001b[0m \u001b[1;33m=\u001b[0m \u001b[0mself\u001b[0m\u001b[1;33m.\u001b[0m\u001b[0m_read_status\u001b[0m\u001b[1;33m(\u001b[0m\u001b[1;33m)\u001b[0m\u001b[1;33m\u001b[0m\u001b[1;33m\u001b[0m\u001b[0m\n\u001b[0m\u001b[0;32m    320\u001b[0m             \u001b[1;32mif\u001b[0m \u001b[0mstatus\u001b[0m \u001b[1;33m!=\u001b[0m \u001b[0mCONTINUE\u001b[0m\u001b[1;33m:\u001b[0m\u001b[1;33m\u001b[0m\u001b[1;33m\u001b[0m\u001b[0m\n",
      "\u001b[1;32m~\\anaconda3\\lib\\http\\client.py\u001b[0m in \u001b[0;36m_read_status\u001b[1;34m(self)\u001b[0m\n\u001b[0;32m    279\u001b[0m     \u001b[1;32mdef\u001b[0m \u001b[0m_read_status\u001b[0m\u001b[1;33m(\u001b[0m\u001b[0mself\u001b[0m\u001b[1;33m)\u001b[0m\u001b[1;33m:\u001b[0m\u001b[1;33m\u001b[0m\u001b[1;33m\u001b[0m\u001b[0m\n\u001b[1;32m--> 280\u001b[1;33m         \u001b[0mline\u001b[0m \u001b[1;33m=\u001b[0m \u001b[0mstr\u001b[0m\u001b[1;33m(\u001b[0m\u001b[0mself\u001b[0m\u001b[1;33m.\u001b[0m\u001b[0mfp\u001b[0m\u001b[1;33m.\u001b[0m\u001b[0mreadline\u001b[0m\u001b[1;33m(\u001b[0m\u001b[0m_MAXLINE\u001b[0m \u001b[1;33m+\u001b[0m \u001b[1;36m1\u001b[0m\u001b[1;33m)\u001b[0m\u001b[1;33m,\u001b[0m \u001b[1;34m\"iso-8859-1\"\u001b[0m\u001b[1;33m)\u001b[0m\u001b[1;33m\u001b[0m\u001b[1;33m\u001b[0m\u001b[0m\n\u001b[0m\u001b[0;32m    281\u001b[0m         \u001b[1;32mif\u001b[0m \u001b[0mlen\u001b[0m\u001b[1;33m(\u001b[0m\u001b[0mline\u001b[0m\u001b[1;33m)\u001b[0m \u001b[1;33m>\u001b[0m \u001b[0m_MAXLINE\u001b[0m\u001b[1;33m:\u001b[0m\u001b[1;33m\u001b[0m\u001b[1;33m\u001b[0m\u001b[0m\n",
      "\u001b[1;32m~\\anaconda3\\lib\\socket.py\u001b[0m in \u001b[0;36mreadinto\u001b[1;34m(self, b)\u001b[0m\n\u001b[0;32m    703\u001b[0m             \u001b[1;32mtry\u001b[0m\u001b[1;33m:\u001b[0m\u001b[1;33m\u001b[0m\u001b[1;33m\u001b[0m\u001b[0m\n\u001b[1;32m--> 704\u001b[1;33m                 \u001b[1;32mreturn\u001b[0m \u001b[0mself\u001b[0m\u001b[1;33m.\u001b[0m\u001b[0m_sock\u001b[0m\u001b[1;33m.\u001b[0m\u001b[0mrecv_into\u001b[0m\u001b[1;33m(\u001b[0m\u001b[0mb\u001b[0m\u001b[1;33m)\u001b[0m\u001b[1;33m\u001b[0m\u001b[1;33m\u001b[0m\u001b[0m\n\u001b[0m\u001b[0;32m    705\u001b[0m             \u001b[1;32mexcept\u001b[0m \u001b[0mtimeout\u001b[0m\u001b[1;33m:\u001b[0m\u001b[1;33m\u001b[0m\u001b[1;33m\u001b[0m\u001b[0m\n",
      "\u001b[1;32m~\\anaconda3\\lib\\ssl.py\u001b[0m in \u001b[0;36mrecv_into\u001b[1;34m(self, buffer, nbytes, flags)\u001b[0m\n\u001b[0;32m   1240\u001b[0m                   self.__class__)\n\u001b[1;32m-> 1241\u001b[1;33m             \u001b[1;32mreturn\u001b[0m \u001b[0mself\u001b[0m\u001b[1;33m.\u001b[0m\u001b[0mread\u001b[0m\u001b[1;33m(\u001b[0m\u001b[0mnbytes\u001b[0m\u001b[1;33m,\u001b[0m \u001b[0mbuffer\u001b[0m\u001b[1;33m)\u001b[0m\u001b[1;33m\u001b[0m\u001b[1;33m\u001b[0m\u001b[0m\n\u001b[0m\u001b[0;32m   1242\u001b[0m         \u001b[1;32melse\u001b[0m\u001b[1;33m:\u001b[0m\u001b[1;33m\u001b[0m\u001b[1;33m\u001b[0m\u001b[0m\n",
      "\u001b[1;32m~\\anaconda3\\lib\\ssl.py\u001b[0m in \u001b[0;36mread\u001b[1;34m(self, len, buffer)\u001b[0m\n\u001b[0;32m   1098\u001b[0m             \u001b[1;32mif\u001b[0m \u001b[0mbuffer\u001b[0m \u001b[1;32mis\u001b[0m \u001b[1;32mnot\u001b[0m \u001b[1;32mNone\u001b[0m\u001b[1;33m:\u001b[0m\u001b[1;33m\u001b[0m\u001b[1;33m\u001b[0m\u001b[0m\n\u001b[1;32m-> 1099\u001b[1;33m                 \u001b[1;32mreturn\u001b[0m \u001b[0mself\u001b[0m\u001b[1;33m.\u001b[0m\u001b[0m_sslobj\u001b[0m\u001b[1;33m.\u001b[0m\u001b[0mread\u001b[0m\u001b[1;33m(\u001b[0m\u001b[0mlen\u001b[0m\u001b[1;33m,\u001b[0m \u001b[0mbuffer\u001b[0m\u001b[1;33m)\u001b[0m\u001b[1;33m\u001b[0m\u001b[1;33m\u001b[0m\u001b[0m\n\u001b[0m\u001b[0;32m   1100\u001b[0m             \u001b[1;32melse\u001b[0m\u001b[1;33m:\u001b[0m\u001b[1;33m\u001b[0m\u001b[1;33m\u001b[0m\u001b[0m\n",
      "\u001b[1;31mProtocolError\u001b[0m: ('Connection aborted.', TimeoutError(10060, 'A connection attempt failed because the connected party did not properly respond after a period of time, or established connection failed because connected host has failed to respond', None, 10060, None))",
      "\nDuring handling of the above exception, another exception occurred:\n",
      "\u001b[1;31mConnectionError\u001b[0m                           Traceback (most recent call last)",
      "\u001b[1;32m~\\AppData\\Local\\Temp/ipykernel_8632/3621095825.py\u001b[0m in \u001b[0;36m<module>\u001b[1;34m\u001b[0m\n\u001b[0;32m      1\u001b[0m \u001b[1;32mfrom\u001b[0m \u001b[0mpowerbiclient\u001b[0m\u001b[1;33m.\u001b[0m\u001b[0mauthentication\u001b[0m \u001b[1;32mimport\u001b[0m \u001b[0mDeviceCodeLoginAuthentication\u001b[0m\u001b[1;33m\u001b[0m\u001b[1;33m\u001b[0m\u001b[0m\n\u001b[1;32m----> 2\u001b[1;33m \u001b[0mauth_id\u001b[0m\u001b[1;33m=\u001b[0m\u001b[0mDeviceCodeLoginAuthentication\u001b[0m\u001b[1;33m(\u001b[0m\u001b[1;33m)\u001b[0m\u001b[1;33m\u001b[0m\u001b[1;33m\u001b[0m\u001b[0m\n\u001b[0m",
      "\u001b[1;32m~\\anaconda3\\lib\\site-packages\\powerbiclient\\authentication.py\u001b[0m in \u001b[0;36m__init__\u001b[1;34m(self, client_id, scopes, tenant)\u001b[0m\n\u001b[0;32m    109\u001b[0m             \u001b[0mscopes\u001b[0m \u001b[1;33m=\u001b[0m \u001b[0mDEFAULT_SCOPES\u001b[0m\u001b[1;33m\u001b[0m\u001b[1;33m\u001b[0m\u001b[0m\n\u001b[0;32m    110\u001b[0m         \u001b[0mself\u001b[0m\u001b[1;33m.\u001b[0m\u001b[0mscopes\u001b[0m \u001b[1;33m=\u001b[0m \u001b[0mscopes\u001b[0m\u001b[1;33m\u001b[0m\u001b[1;33m\u001b[0m\u001b[0m\n\u001b[1;32m--> 111\u001b[1;33m         \u001b[0mauth_result\u001b[0m \u001b[1;33m=\u001b[0m \u001b[0mself\u001b[0m\u001b[1;33m.\u001b[0m\u001b[0m_acquire_token_device_code\u001b[0m\u001b[1;33m(\u001b[0m\u001b[1;33m)\u001b[0m\u001b[1;33m\u001b[0m\u001b[1;33m\u001b[0m\u001b[0m\n\u001b[0m\u001b[0;32m    112\u001b[0m         \u001b[0msuper\u001b[0m\u001b[1;33m(\u001b[0m\u001b[1;33m)\u001b[0m\u001b[1;33m.\u001b[0m\u001b[0m__init__\u001b[0m\u001b[1;33m(\u001b[0m\u001b[0mclient_id\u001b[0m\u001b[1;33m,\u001b[0m \u001b[0mscopes\u001b[0m\u001b[1;33m,\u001b[0m \u001b[0mself\u001b[0m\u001b[1;33m.\u001b[0m\u001b[0mauthority_uri\u001b[0m\u001b[1;33m,\u001b[0m \u001b[0mauth_result\u001b[0m\u001b[1;33m)\u001b[0m\u001b[1;33m\u001b[0m\u001b[1;33m\u001b[0m\u001b[0m\n\u001b[0;32m    113\u001b[0m \u001b[1;33m\u001b[0m\u001b[0m\n",
      "\u001b[1;32m~\\anaconda3\\lib\\site-packages\\powerbiclient\\authentication.py\u001b[0m in \u001b[0;36m_acquire_token_device_code\u001b[1;34m(self)\u001b[0m\n\u001b[0;32m    128\u001b[0m \u001b[1;33m\u001b[0m\u001b[0m\n\u001b[0;32m    129\u001b[0m         \u001b[1;31m# Ideally you should wait here, in order to save some unnecessary polling\u001b[0m\u001b[1;33m\u001b[0m\u001b[1;33m\u001b[0m\u001b[0m\n\u001b[1;32m--> 130\u001b[1;33m         \u001b[0mresult\u001b[0m \u001b[1;33m=\u001b[0m \u001b[0mapp\u001b[0m\u001b[1;33m.\u001b[0m\u001b[0macquire_token_by_device_flow\u001b[0m\u001b[1;33m(\u001b[0m\u001b[0mflow\u001b[0m\u001b[1;33m)\u001b[0m\u001b[1;33m\u001b[0m\u001b[1;33m\u001b[0m\u001b[0m\n\u001b[0m\u001b[0;32m    131\u001b[0m         \u001b[1;31m# By default it will block\u001b[0m\u001b[1;33m\u001b[0m\u001b[1;33m\u001b[0m\u001b[0m\n\u001b[0;32m    132\u001b[0m         \u001b[1;31m# You can follow this instruction to shorten the block time\u001b[0m\u001b[1;33m\u001b[0m\u001b[1;33m\u001b[0m\u001b[0m\n",
      "\u001b[1;32m~\\anaconda3\\lib\\site-packages\\msal\\application.py\u001b[0m in \u001b[0;36macquire_token_by_device_flow\u001b[1;34m(self, flow, claims_challenge, **kwargs)\u001b[0m\n\u001b[0;32m   1668\u001b[0m             \u001b[0mself\u001b[0m\u001b[1;33m.\u001b[0m\u001b[0mACQUIRE_TOKEN_BY_DEVICE_FLOW_ID\u001b[0m\u001b[1;33m,\u001b[0m\u001b[1;33m\u001b[0m\u001b[1;33m\u001b[0m\u001b[0m\n\u001b[0;32m   1669\u001b[0m             correlation_id=flow.get(self.DEVICE_FLOW_CORRELATION_ID))\n\u001b[1;32m-> 1670\u001b[1;33m         response = _clean_up(self.client.obtain_token_by_device_flow(\n\u001b[0m\u001b[0;32m   1671\u001b[0m             \u001b[0mflow\u001b[0m\u001b[1;33m,\u001b[0m\u001b[1;33m\u001b[0m\u001b[1;33m\u001b[0m\u001b[0m\n\u001b[0;32m   1672\u001b[0m             data=dict(\n",
      "\u001b[1;32m~\\anaconda3\\lib\\site-packages\\msal\\oauth2cli\\oauth2.py\u001b[0m in \u001b[0;36mobtain_token_by_device_flow\u001b[1;34m(self, flow, exit_condition, **kwargs)\u001b[0m\n\u001b[0;32m    382\u001b[0m         \"\"\"\n\u001b[0;32m    383\u001b[0m         \u001b[1;32mwhile\u001b[0m \u001b[1;32mTrue\u001b[0m\u001b[1;33m:\u001b[0m\u001b[1;33m\u001b[0m\u001b[1;33m\u001b[0m\u001b[0m\n\u001b[1;32m--> 384\u001b[1;33m             \u001b[0mresult\u001b[0m \u001b[1;33m=\u001b[0m \u001b[0mself\u001b[0m\u001b[1;33m.\u001b[0m\u001b[0m_obtain_token_by_device_flow\u001b[0m\u001b[1;33m(\u001b[0m\u001b[0mflow\u001b[0m\u001b[1;33m,\u001b[0m \u001b[1;33m**\u001b[0m\u001b[0mkwargs\u001b[0m\u001b[1;33m)\u001b[0m\u001b[1;33m\u001b[0m\u001b[1;33m\u001b[0m\u001b[0m\n\u001b[0m\u001b[0;32m    385\u001b[0m             \u001b[1;32mif\u001b[0m \u001b[0mresult\u001b[0m\u001b[1;33m.\u001b[0m\u001b[0mget\u001b[0m\u001b[1;33m(\u001b[0m\u001b[1;34m\"error\"\u001b[0m\u001b[1;33m)\u001b[0m \u001b[1;32mnot\u001b[0m \u001b[1;32min\u001b[0m \u001b[0mself\u001b[0m\u001b[1;33m.\u001b[0m\u001b[0mDEVICE_FLOW_RETRIABLE_ERRORS\u001b[0m\u001b[1;33m:\u001b[0m\u001b[1;33m\u001b[0m\u001b[1;33m\u001b[0m\u001b[0m\n\u001b[0;32m    386\u001b[0m                 \u001b[1;32mreturn\u001b[0m \u001b[0mresult\u001b[0m\u001b[1;33m\u001b[0m\u001b[1;33m\u001b[0m\u001b[0m\n",
      "\u001b[1;32m~\\anaconda3\\lib\\site-packages\\msal\\oauth2cli\\oauth2.py\u001b[0m in \u001b[0;36m_obtain_token_by_device_flow\u001b[1;34m(self, flow, **kwargs)\u001b[0m\n\u001b[0;32m    344\u001b[0m             \u001b[0mself\u001b[0m\u001b[1;33m.\u001b[0m\u001b[0mDEVICE_FLOW\u001b[0m\u001b[1;33m[\u001b[0m\u001b[1;34m\"DEVICE_CODE\"\u001b[0m\u001b[1;33m]\u001b[0m\u001b[1;33m:\u001b[0m \u001b[0mflow\u001b[0m\u001b[1;33m[\u001b[0m\u001b[1;34m\"device_code\"\u001b[0m\u001b[1;33m]\u001b[0m\u001b[1;33m,\u001b[0m\u001b[1;33m\u001b[0m\u001b[1;33m\u001b[0m\u001b[0m\n\u001b[0;32m    345\u001b[0m             })\n\u001b[1;32m--> 346\u001b[1;33m         result = self._obtain_token(\n\u001b[0m\u001b[0;32m    347\u001b[0m             self.DEVICE_FLOW[\"GRANT_TYPE\"], data=data, **kwargs)\n\u001b[0;32m    348\u001b[0m         \u001b[1;32mif\u001b[0m \u001b[0mresult\u001b[0m\u001b[1;33m.\u001b[0m\u001b[0mget\u001b[0m\u001b[1;33m(\u001b[0m\u001b[1;34m\"error\"\u001b[0m\u001b[1;33m)\u001b[0m \u001b[1;33m==\u001b[0m \u001b[1;34m\"slow_down\"\u001b[0m\u001b[1;33m:\u001b[0m\u001b[1;33m\u001b[0m\u001b[1;33m\u001b[0m\u001b[0m\n",
      "\u001b[1;32m~\\anaconda3\\lib\\site-packages\\msal\\oauth2cli\\oidc.py\u001b[0m in \u001b[0;36m_obtain_token\u001b[1;34m(self, grant_type, *args, **kwargs)\u001b[0m\n\u001b[0;32m    114\u001b[0m         \u001b[0mwhose\u001b[0m \u001b[0mvalue\u001b[0m \u001b[0mwill\u001b[0m \u001b[0mbe\u001b[0m \u001b[0ma\u001b[0m \u001b[0mdictionary\u001b[0m \u001b[0mreturned\u001b[0m \u001b[0mby\u001b[0m \u001b[1;33m:\u001b[0m\u001b[0mfunc\u001b[0m\u001b[1;33m:\u001b[0m\u001b[0;31m`\u001b[0m\u001b[1;33m~\u001b[0m\u001b[0mdecode_id_token\u001b[0m\u001b[0;31m`\u001b[0m\u001b[1;33m.\u001b[0m\u001b[1;33m\u001b[0m\u001b[1;33m\u001b[0m\u001b[0m\n\u001b[0;32m    115\u001b[0m         \"\"\"\n\u001b[1;32m--> 116\u001b[1;33m         \u001b[0mret\u001b[0m \u001b[1;33m=\u001b[0m \u001b[0msuper\u001b[0m\u001b[1;33m(\u001b[0m\u001b[0mClient\u001b[0m\u001b[1;33m,\u001b[0m \u001b[0mself\u001b[0m\u001b[1;33m)\u001b[0m\u001b[1;33m.\u001b[0m\u001b[0m_obtain_token\u001b[0m\u001b[1;33m(\u001b[0m\u001b[0mgrant_type\u001b[0m\u001b[1;33m,\u001b[0m \u001b[1;33m*\u001b[0m\u001b[0margs\u001b[0m\u001b[1;33m,\u001b[0m \u001b[1;33m**\u001b[0m\u001b[0mkwargs\u001b[0m\u001b[1;33m)\u001b[0m\u001b[1;33m\u001b[0m\u001b[1;33m\u001b[0m\u001b[0m\n\u001b[0m\u001b[0;32m    117\u001b[0m         \u001b[1;32mif\u001b[0m \u001b[1;34m\"id_token\"\u001b[0m \u001b[1;32min\u001b[0m \u001b[0mret\u001b[0m\u001b[1;33m:\u001b[0m\u001b[1;33m\u001b[0m\u001b[1;33m\u001b[0m\u001b[0m\n\u001b[0;32m    118\u001b[0m             \u001b[0mret\u001b[0m\u001b[1;33m[\u001b[0m\u001b[1;34m\"id_token_claims\"\u001b[0m\u001b[1;33m]\u001b[0m \u001b[1;33m=\u001b[0m \u001b[0mself\u001b[0m\u001b[1;33m.\u001b[0m\u001b[0mdecode_id_token\u001b[0m\u001b[1;33m(\u001b[0m\u001b[0mret\u001b[0m\u001b[1;33m[\u001b[0m\u001b[1;34m\"id_token\"\u001b[0m\u001b[1;33m]\u001b[0m\u001b[1;33m)\u001b[0m\u001b[1;33m\u001b[0m\u001b[1;33m\u001b[0m\u001b[0m\n",
      "\u001b[1;32m~\\anaconda3\\lib\\site-packages\\msal\\oauth2cli\\oauth2.py\u001b[0m in \u001b[0;36m_obtain_token\u001b[1;34m(self, grant_type, params, data, also_save_rt, on_obtaining_tokens, *args, **kwargs)\u001b[0m\n\u001b[0;32m    770\u001b[0m             *args, **kwargs):\n\u001b[0;32m    771\u001b[0m         \u001b[0m_data\u001b[0m \u001b[1;33m=\u001b[0m \u001b[0mdata\u001b[0m\u001b[1;33m.\u001b[0m\u001b[0mcopy\u001b[0m\u001b[1;33m(\u001b[0m\u001b[1;33m)\u001b[0m  \u001b[1;31m# to prevent side effect\u001b[0m\u001b[1;33m\u001b[0m\u001b[1;33m\u001b[0m\u001b[0m\n\u001b[1;32m--> 772\u001b[1;33m         resp = super(Client, self)._obtain_token(\n\u001b[0m\u001b[0;32m    773\u001b[0m             grant_type, params, _data, *args, **kwargs)\n\u001b[0;32m    774\u001b[0m         \u001b[1;32mif\u001b[0m \u001b[1;34m\"error\"\u001b[0m \u001b[1;32mnot\u001b[0m \u001b[1;32min\u001b[0m \u001b[0mresp\u001b[0m\u001b[1;33m:\u001b[0m\u001b[1;33m\u001b[0m\u001b[1;33m\u001b[0m\u001b[0m\n",
      "\u001b[1;32m~\\anaconda3\\lib\\site-packages\\msal\\oauth2cli\\oauth2.py\u001b[0m in \u001b[0;36m_obtain_token\u001b[1;34m(self, grant_type, params, data, headers, post, **kwargs)\u001b[0m\n\u001b[0;32m    233\u001b[0m         \u001b[1;32mif\u001b[0m \u001b[1;34m\"token_endpoint\"\u001b[0m \u001b[1;32mnot\u001b[0m \u001b[1;32min\u001b[0m \u001b[0mself\u001b[0m\u001b[1;33m.\u001b[0m\u001b[0mconfiguration\u001b[0m\u001b[1;33m:\u001b[0m\u001b[1;33m\u001b[0m\u001b[1;33m\u001b[0m\u001b[0m\n\u001b[0;32m    234\u001b[0m             \u001b[1;32mraise\u001b[0m \u001b[0mValueError\u001b[0m\u001b[1;33m(\u001b[0m\u001b[1;34m\"token_endpoint not found in configuration\"\u001b[0m\u001b[1;33m)\u001b[0m\u001b[1;33m\u001b[0m\u001b[1;33m\u001b[0m\u001b[0m\n\u001b[1;32m--> 235\u001b[1;33m         resp = (post or self._http_client.post)(\n\u001b[0m\u001b[0;32m    236\u001b[0m             \u001b[0mself\u001b[0m\u001b[1;33m.\u001b[0m\u001b[0mconfiguration\u001b[0m\u001b[1;33m[\u001b[0m\u001b[1;34m\"token_endpoint\"\u001b[0m\u001b[1;33m]\u001b[0m\u001b[1;33m,\u001b[0m\u001b[1;33m\u001b[0m\u001b[1;33m\u001b[0m\u001b[0m\n\u001b[0;32m    237\u001b[0m             \u001b[0mheaders\u001b[0m\u001b[1;33m=\u001b[0m\u001b[0m_headers\u001b[0m\u001b[1;33m,\u001b[0m \u001b[0mparams\u001b[0m\u001b[1;33m=\u001b[0m\u001b[0mparams\u001b[0m\u001b[1;33m,\u001b[0m \u001b[0mdata\u001b[0m\u001b[1;33m=\u001b[0m\u001b[0m_data\u001b[0m\u001b[1;33m,\u001b[0m\u001b[1;33m\u001b[0m\u001b[1;33m\u001b[0m\u001b[0m\n",
      "\u001b[1;32m~\\anaconda3\\lib\\site-packages\\msal\\individual_cache.py\u001b[0m in \u001b[0;36mwrapper\u001b[1;34m(*args, **kwargs)\u001b[0m\n\u001b[0;32m    267\u001b[0m                 \u001b[1;31m# \"During handling of the above exception, another exception occurred\"\u001b[0m\u001b[1;33m\u001b[0m\u001b[1;33m\u001b[0m\u001b[0m\n\u001b[0;32m    268\u001b[0m                 \u001b[1;32mpass\u001b[0m\u001b[1;33m\u001b[0m\u001b[1;33m\u001b[0m\u001b[0m\n\u001b[1;32m--> 269\u001b[1;33m             \u001b[0mvalue\u001b[0m \u001b[1;33m=\u001b[0m \u001b[0mfunction\u001b[0m\u001b[1;33m(\u001b[0m\u001b[1;33m*\u001b[0m\u001b[0margs\u001b[0m\u001b[1;33m,\u001b[0m \u001b[1;33m**\u001b[0m\u001b[0mkwargs\u001b[0m\u001b[1;33m)\u001b[0m\u001b[1;33m\u001b[0m\u001b[1;33m\u001b[0m\u001b[0m\n\u001b[0m\u001b[0;32m    270\u001b[0m \u001b[1;33m\u001b[0m\u001b[0m\n\u001b[0;32m    271\u001b[0m             expires_in = self._expires_in(\n",
      "\u001b[1;32m~\\anaconda3\\lib\\site-packages\\msal\\individual_cache.py\u001b[0m in \u001b[0;36mwrapper\u001b[1;34m(*args, **kwargs)\u001b[0m\n\u001b[0;32m    267\u001b[0m                 \u001b[1;31m# \"During handling of the above exception, another exception occurred\"\u001b[0m\u001b[1;33m\u001b[0m\u001b[1;33m\u001b[0m\u001b[0m\n\u001b[0;32m    268\u001b[0m                 \u001b[1;32mpass\u001b[0m\u001b[1;33m\u001b[0m\u001b[1;33m\u001b[0m\u001b[0m\n\u001b[1;32m--> 269\u001b[1;33m             \u001b[0mvalue\u001b[0m \u001b[1;33m=\u001b[0m \u001b[0mfunction\u001b[0m\u001b[1;33m(\u001b[0m\u001b[1;33m*\u001b[0m\u001b[0margs\u001b[0m\u001b[1;33m,\u001b[0m \u001b[1;33m**\u001b[0m\u001b[0mkwargs\u001b[0m\u001b[1;33m)\u001b[0m\u001b[1;33m\u001b[0m\u001b[1;33m\u001b[0m\u001b[0m\n\u001b[0m\u001b[0;32m    270\u001b[0m \u001b[1;33m\u001b[0m\u001b[0m\n\u001b[0;32m    271\u001b[0m             expires_in = self._expires_in(\n",
      "\u001b[1;32m~\\anaconda3\\lib\\site-packages\\requests\\sessions.py\u001b[0m in \u001b[0;36mpost\u001b[1;34m(self, url, data, json, **kwargs)\u001b[0m\n\u001b[0;32m    588\u001b[0m         \"\"\"\n\u001b[0;32m    589\u001b[0m \u001b[1;33m\u001b[0m\u001b[0m\n\u001b[1;32m--> 590\u001b[1;33m         \u001b[1;32mreturn\u001b[0m \u001b[0mself\u001b[0m\u001b[1;33m.\u001b[0m\u001b[0mrequest\u001b[0m\u001b[1;33m(\u001b[0m\u001b[1;34m'POST'\u001b[0m\u001b[1;33m,\u001b[0m \u001b[0murl\u001b[0m\u001b[1;33m,\u001b[0m \u001b[0mdata\u001b[0m\u001b[1;33m=\u001b[0m\u001b[0mdata\u001b[0m\u001b[1;33m,\u001b[0m \u001b[0mjson\u001b[0m\u001b[1;33m=\u001b[0m\u001b[0mjson\u001b[0m\u001b[1;33m,\u001b[0m \u001b[1;33m**\u001b[0m\u001b[0mkwargs\u001b[0m\u001b[1;33m)\u001b[0m\u001b[1;33m\u001b[0m\u001b[1;33m\u001b[0m\u001b[0m\n\u001b[0m\u001b[0;32m    591\u001b[0m \u001b[1;33m\u001b[0m\u001b[0m\n\u001b[0;32m    592\u001b[0m     \u001b[1;32mdef\u001b[0m \u001b[0mput\u001b[0m\u001b[1;33m(\u001b[0m\u001b[0mself\u001b[0m\u001b[1;33m,\u001b[0m \u001b[0murl\u001b[0m\u001b[1;33m,\u001b[0m \u001b[0mdata\u001b[0m\u001b[1;33m=\u001b[0m\u001b[1;32mNone\u001b[0m\u001b[1;33m,\u001b[0m \u001b[1;33m**\u001b[0m\u001b[0mkwargs\u001b[0m\u001b[1;33m)\u001b[0m\u001b[1;33m:\u001b[0m\u001b[1;33m\u001b[0m\u001b[1;33m\u001b[0m\u001b[0m\n",
      "\u001b[1;32m~\\anaconda3\\lib\\site-packages\\requests\\sessions.py\u001b[0m in \u001b[0;36mrequest\u001b[1;34m(self, method, url, params, data, headers, cookies, files, auth, timeout, allow_redirects, proxies, hooks, stream, verify, cert, json)\u001b[0m\n\u001b[0;32m    540\u001b[0m         }\n\u001b[0;32m    541\u001b[0m         \u001b[0msend_kwargs\u001b[0m\u001b[1;33m.\u001b[0m\u001b[0mupdate\u001b[0m\u001b[1;33m(\u001b[0m\u001b[0msettings\u001b[0m\u001b[1;33m)\u001b[0m\u001b[1;33m\u001b[0m\u001b[1;33m\u001b[0m\u001b[0m\n\u001b[1;32m--> 542\u001b[1;33m         \u001b[0mresp\u001b[0m \u001b[1;33m=\u001b[0m \u001b[0mself\u001b[0m\u001b[1;33m.\u001b[0m\u001b[0msend\u001b[0m\u001b[1;33m(\u001b[0m\u001b[0mprep\u001b[0m\u001b[1;33m,\u001b[0m \u001b[1;33m**\u001b[0m\u001b[0msend_kwargs\u001b[0m\u001b[1;33m)\u001b[0m\u001b[1;33m\u001b[0m\u001b[1;33m\u001b[0m\u001b[0m\n\u001b[0m\u001b[0;32m    543\u001b[0m \u001b[1;33m\u001b[0m\u001b[0m\n\u001b[0;32m    544\u001b[0m         \u001b[1;32mreturn\u001b[0m \u001b[0mresp\u001b[0m\u001b[1;33m\u001b[0m\u001b[1;33m\u001b[0m\u001b[0m\n",
      "\u001b[1;32m~\\anaconda3\\lib\\site-packages\\requests\\sessions.py\u001b[0m in \u001b[0;36msend\u001b[1;34m(self, request, **kwargs)\u001b[0m\n\u001b[0;32m    653\u001b[0m \u001b[1;33m\u001b[0m\u001b[0m\n\u001b[0;32m    654\u001b[0m         \u001b[1;31m# Send the request\u001b[0m\u001b[1;33m\u001b[0m\u001b[1;33m\u001b[0m\u001b[0m\n\u001b[1;32m--> 655\u001b[1;33m         \u001b[0mr\u001b[0m \u001b[1;33m=\u001b[0m \u001b[0madapter\u001b[0m\u001b[1;33m.\u001b[0m\u001b[0msend\u001b[0m\u001b[1;33m(\u001b[0m\u001b[0mrequest\u001b[0m\u001b[1;33m,\u001b[0m \u001b[1;33m**\u001b[0m\u001b[0mkwargs\u001b[0m\u001b[1;33m)\u001b[0m\u001b[1;33m\u001b[0m\u001b[1;33m\u001b[0m\u001b[0m\n\u001b[0m\u001b[0;32m    656\u001b[0m \u001b[1;33m\u001b[0m\u001b[0m\n\u001b[0;32m    657\u001b[0m         \u001b[1;31m# Total elapsed time of the request (approximately)\u001b[0m\u001b[1;33m\u001b[0m\u001b[1;33m\u001b[0m\u001b[0m\n",
      "\u001b[1;32m~\\anaconda3\\lib\\site-packages\\requests\\adapters.py\u001b[0m in \u001b[0;36msend\u001b[1;34m(self, request, stream, timeout, verify, cert, proxies)\u001b[0m\n\u001b[0;32m    496\u001b[0m \u001b[1;33m\u001b[0m\u001b[0m\n\u001b[0;32m    497\u001b[0m         \u001b[1;32mexcept\u001b[0m \u001b[1;33m(\u001b[0m\u001b[0mProtocolError\u001b[0m\u001b[1;33m,\u001b[0m \u001b[0msocket\u001b[0m\u001b[1;33m.\u001b[0m\u001b[0merror\u001b[0m\u001b[1;33m)\u001b[0m \u001b[1;32mas\u001b[0m \u001b[0merr\u001b[0m\u001b[1;33m:\u001b[0m\u001b[1;33m\u001b[0m\u001b[1;33m\u001b[0m\u001b[0m\n\u001b[1;32m--> 498\u001b[1;33m             \u001b[1;32mraise\u001b[0m \u001b[0mConnectionError\u001b[0m\u001b[1;33m(\u001b[0m\u001b[0merr\u001b[0m\u001b[1;33m,\u001b[0m \u001b[0mrequest\u001b[0m\u001b[1;33m=\u001b[0m\u001b[0mrequest\u001b[0m\u001b[1;33m)\u001b[0m\u001b[1;33m\u001b[0m\u001b[1;33m\u001b[0m\u001b[0m\n\u001b[0m\u001b[0;32m    499\u001b[0m \u001b[1;33m\u001b[0m\u001b[0m\n\u001b[0;32m    500\u001b[0m         \u001b[1;32mexcept\u001b[0m \u001b[0mMaxRetryError\u001b[0m \u001b[1;32mas\u001b[0m \u001b[0me\u001b[0m\u001b[1;33m:\u001b[0m\u001b[1;33m\u001b[0m\u001b[1;33m\u001b[0m\u001b[0m\n",
      "\u001b[1;31mConnectionError\u001b[0m: ('Connection aborted.', TimeoutError(10060, 'A connection attempt failed because the connected party did not properly respond after a period of time, or established connection failed because connected host has failed to respond', None, 10060, None))"
     ]
    }
   ],
   "source": [
    "from powerbiclient.authentication import DeviceCodeLoginAuthentication\n",
    "auth_id=DeviceCodeLoginAuthentication()"
   ]
  },
  {
   "cell_type": "code",
   "execution_count": null,
   "id": "0b8ae129",
   "metadata": {},
   "outputs": [],
   "source": [
    "g_id=\"8c8b77a1-cdbd-48a9-8d6d-96df6c157851\"\n",
    "r_id=\"61dccf2c-c577-40b7-8f83-2a418cc28be0\""
   ]
  },
  {
   "cell_type": "code",
   "execution_count": null,
   "id": "d5a3e13c",
   "metadata": {},
   "outputs": [],
   "source": [
    "report=Report(group_id = g_id, report_id = r_id, auth = auth_id)\n",
    "report"
   ]
  }
 ],
 "metadata": {
  "kernelspec": {
   "display_name": "Python 3 (ipykernel)",
   "language": "python",
   "name": "python3"
  },
  "language_info": {
   "codemirror_mode": {
    "name": "ipython",
    "version": 3
   },
   "file_extension": ".py",
   "mimetype": "text/x-python",
   "name": "python",
   "nbconvert_exporter": "python",
   "pygments_lexer": "ipython3",
   "version": "3.9.7"
  }
 },
 "nbformat": 4,
 "nbformat_minor": 5
}
