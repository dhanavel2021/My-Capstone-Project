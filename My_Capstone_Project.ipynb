{
  "nbformat": 4,
  "nbformat_minor": 0,
  "metadata": {
    "colab": {
      "name": "My Capstone Project.ipynb",
      "provenance": [],
      "collapsed_sections": [],
      "authorship_tag": "ABX9TyO74qbmPiiKEPWVO6FMEatr",
      "include_colab_link": true
    },
    "kernelspec": {
      "name": "python3",
      "display_name": "Python 3"
    },
    "language_info": {
      "name": "python"
    }
  },
  "cells": [
    {
      "cell_type": "markdown",
      "metadata": {
        "id": "view-in-github",
        "colab_type": "text"
      },
      "source": [
        "<a href=\"https://colab.research.google.com/github/dhanavel2021/My-Capstone-Project/blob/main/My_Capstone_Project.ipynb\" target=\"_parent\"><img src=\"https://colab.research.google.com/assets/colab-badge.svg\" alt=\"Open In Colab\"/></a>"
      ]
    },
    {
      "cell_type": "markdown",
      "source": [
        "***PROBLEM DESCRIPTION :***\n",
        "\n",
        "\n",
        "---\n",
        "\n",
        "\n",
        "---\n",
        "\n",
        "\n",
        "\n",
        "\n",
        "Once if the students completed their high schoolings they are asked to \n",
        "complete their graduation, there are different branches and that would be varied according to the students wish and goal. Most of the institution will not encourage their students to participate in sports and other activities. \n",
        "Education means not only graduating but also making a student or a person fit for the society, apart from studies there is a major sector which plays a important role for the students is sports. This analysis is made to predict average accuracy of a sportsmen to get addmission in a college according to the centrification and marks he scored in his schoolings. \n",
        "\n",
        "---\n",
        "\n",
        "\n",
        "---\n",
        "\n",
        "\n",
        "\n"
      ],
      "metadata": {
        "id": "yrIDjSg4V1he"
      }
    },
    {
      "cell_type": "markdown",
      "source": [
        "***IMPORTING LIBRARIES***\n",
        "\n",
        "\n",
        "\n",
        "\n",
        "---\n",
        "\n",
        "\n",
        "\n",
        "\n",
        "\n",
        "---\n",
        "\n",
        "\n",
        "\n",
        "\n",
        "\n"
      ],
      "metadata": {
        "id": "9kBz7WJdZNTU"
      }
    },
    {
      "cell_type": "code",
      "execution_count": 131,
      "metadata": {
        "id": "gcVT8ojBt6Vz"
      },
      "outputs": [],
      "source": [
        "import pandas as pd\n",
        "import matplotlib.pyplot as plt\n",
        "from sklearn.model_selection import train_test_split as tts\n",
        "import seaborn as sns\n",
        "from sklearn.metrics import accuracy_score, classification_report, confusion_matrix"
      ]
    },
    {
      "cell_type": "markdown",
      "source": [
        "***READING THE DATASET***\n",
        "\n",
        "---\n",
        "\n",
        "\n",
        "\n",
        "\n",
        "---\n",
        "\n",
        "\n"
      ],
      "metadata": {
        "id": "czD80IuaZr8J"
      }
    },
    {
      "cell_type": "code",
      "source": [
        "df=pd.read_excel('/content/capstone dataset .xlsx')"
      ],
      "metadata": {
        "id": "RYETyktcZk23"
      },
      "execution_count": 132,
      "outputs": []
    },
    {
      "cell_type": "code",
      "source": [
        "df.head()"
      ],
      "metadata": {
        "colab": {
          "base_uri": "https://localhost:8080/",
          "height": 206
        },
        "id": "uiFf6DI7QatD",
        "outputId": "81033ac4-ee0e-4b68-964f-0c99dc027222"
      },
      "execution_count": 133,
      "outputs": [
        {
          "output_type": "execute_result",
          "data": {
            "text/plain": [
              "   AGE SPORT_PARTICIPANT  EDUCATIONAL_PERCENTAGE        FITNESS HANDICAP  \\\n",
              "0   19                NO                      69  BELOW AVERAGE       NO   \n",
              "1   19               YES                      87           GOOD       NO   \n",
              "2   21                NO                      76       MODERATE       NO   \n",
              "3   21                NO                      69  BELOW AVERAGE       NO   \n",
              "4   24               YES                      87           GOOD       NO   \n",
              "\n",
              "      SEX  POSSIBILITY_OF_ADMISSION  \n",
              "0  FEMALE                         0  \n",
              "1    MALE                         1  \n",
              "2    MALE                         0  \n",
              "3  FEMALE                         0  \n",
              "4  FEMALE                         1  "
            ],
            "text/html": [
              "\n",
              "  <div id=\"df-d855039f-d902-4f25-9aa6-930cab50ef5b\">\n",
              "    <div class=\"colab-df-container\">\n",
              "      <div>\n",
              "<style scoped>\n",
              "    .dataframe tbody tr th:only-of-type {\n",
              "        vertical-align: middle;\n",
              "    }\n",
              "\n",
              "    .dataframe tbody tr th {\n",
              "        vertical-align: top;\n",
              "    }\n",
              "\n",
              "    .dataframe thead th {\n",
              "        text-align: right;\n",
              "    }\n",
              "</style>\n",
              "<table border=\"1\" class=\"dataframe\">\n",
              "  <thead>\n",
              "    <tr style=\"text-align: right;\">\n",
              "      <th></th>\n",
              "      <th>AGE</th>\n",
              "      <th>SPORT_PARTICIPANT</th>\n",
              "      <th>EDUCATIONAL_PERCENTAGE</th>\n",
              "      <th>FITNESS</th>\n",
              "      <th>HANDICAP</th>\n",
              "      <th>SEX</th>\n",
              "      <th>POSSIBILITY_OF_ADMISSION</th>\n",
              "    </tr>\n",
              "  </thead>\n",
              "  <tbody>\n",
              "    <tr>\n",
              "      <th>0</th>\n",
              "      <td>19</td>\n",
              "      <td>NO</td>\n",
              "      <td>69</td>\n",
              "      <td>BELOW AVERAGE</td>\n",
              "      <td>NO</td>\n",
              "      <td>FEMALE</td>\n",
              "      <td>0</td>\n",
              "    </tr>\n",
              "    <tr>\n",
              "      <th>1</th>\n",
              "      <td>19</td>\n",
              "      <td>YES</td>\n",
              "      <td>87</td>\n",
              "      <td>GOOD</td>\n",
              "      <td>NO</td>\n",
              "      <td>MALE</td>\n",
              "      <td>1</td>\n",
              "    </tr>\n",
              "    <tr>\n",
              "      <th>2</th>\n",
              "      <td>21</td>\n",
              "      <td>NO</td>\n",
              "      <td>76</td>\n",
              "      <td>MODERATE</td>\n",
              "      <td>NO</td>\n",
              "      <td>MALE</td>\n",
              "      <td>0</td>\n",
              "    </tr>\n",
              "    <tr>\n",
              "      <th>3</th>\n",
              "      <td>21</td>\n",
              "      <td>NO</td>\n",
              "      <td>69</td>\n",
              "      <td>BELOW AVERAGE</td>\n",
              "      <td>NO</td>\n",
              "      <td>FEMALE</td>\n",
              "      <td>0</td>\n",
              "    </tr>\n",
              "    <tr>\n",
              "      <th>4</th>\n",
              "      <td>24</td>\n",
              "      <td>YES</td>\n",
              "      <td>87</td>\n",
              "      <td>GOOD</td>\n",
              "      <td>NO</td>\n",
              "      <td>FEMALE</td>\n",
              "      <td>1</td>\n",
              "    </tr>\n",
              "  </tbody>\n",
              "</table>\n",
              "</div>\n",
              "      <button class=\"colab-df-convert\" onclick=\"convertToInteractive('df-d855039f-d902-4f25-9aa6-930cab50ef5b')\"\n",
              "              title=\"Convert this dataframe to an interactive table.\"\n",
              "              style=\"display:none;\">\n",
              "        \n",
              "  <svg xmlns=\"http://www.w3.org/2000/svg\" height=\"24px\"viewBox=\"0 0 24 24\"\n",
              "       width=\"24px\">\n",
              "    <path d=\"M0 0h24v24H0V0z\" fill=\"none\"/>\n",
              "    <path d=\"M18.56 5.44l.94 2.06.94-2.06 2.06-.94-2.06-.94-.94-2.06-.94 2.06-2.06.94zm-11 1L8.5 8.5l.94-2.06 2.06-.94-2.06-.94L8.5 2.5l-.94 2.06-2.06.94zm10 10l.94 2.06.94-2.06 2.06-.94-2.06-.94-.94-2.06-.94 2.06-2.06.94z\"/><path d=\"M17.41 7.96l-1.37-1.37c-.4-.4-.92-.59-1.43-.59-.52 0-1.04.2-1.43.59L10.3 9.45l-7.72 7.72c-.78.78-.78 2.05 0 2.83L4 21.41c.39.39.9.59 1.41.59.51 0 1.02-.2 1.41-.59l7.78-7.78 2.81-2.81c.8-.78.8-2.07 0-2.86zM5.41 20L4 18.59l7.72-7.72 1.47 1.35L5.41 20z\"/>\n",
              "  </svg>\n",
              "      </button>\n",
              "      \n",
              "  <style>\n",
              "    .colab-df-container {\n",
              "      display:flex;\n",
              "      flex-wrap:wrap;\n",
              "      gap: 12px;\n",
              "    }\n",
              "\n",
              "    .colab-df-convert {\n",
              "      background-color: #E8F0FE;\n",
              "      border: none;\n",
              "      border-radius: 50%;\n",
              "      cursor: pointer;\n",
              "      display: none;\n",
              "      fill: #1967D2;\n",
              "      height: 32px;\n",
              "      padding: 0 0 0 0;\n",
              "      width: 32px;\n",
              "    }\n",
              "\n",
              "    .colab-df-convert:hover {\n",
              "      background-color: #E2EBFA;\n",
              "      box-shadow: 0px 1px 2px rgba(60, 64, 67, 0.3), 0px 1px 3px 1px rgba(60, 64, 67, 0.15);\n",
              "      fill: #174EA6;\n",
              "    }\n",
              "\n",
              "    [theme=dark] .colab-df-convert {\n",
              "      background-color: #3B4455;\n",
              "      fill: #D2E3FC;\n",
              "    }\n",
              "\n",
              "    [theme=dark] .colab-df-convert:hover {\n",
              "      background-color: #434B5C;\n",
              "      box-shadow: 0px 1px 3px 1px rgba(0, 0, 0, 0.15);\n",
              "      filter: drop-shadow(0px 1px 2px rgba(0, 0, 0, 0.3));\n",
              "      fill: #FFFFFF;\n",
              "    }\n",
              "  </style>\n",
              "\n",
              "      <script>\n",
              "        const buttonEl =\n",
              "          document.querySelector('#df-d855039f-d902-4f25-9aa6-930cab50ef5b button.colab-df-convert');\n",
              "        buttonEl.style.display =\n",
              "          google.colab.kernel.accessAllowed ? 'block' : 'none';\n",
              "\n",
              "        async function convertToInteractive(key) {\n",
              "          const element = document.querySelector('#df-d855039f-d902-4f25-9aa6-930cab50ef5b');\n",
              "          const dataTable =\n",
              "            await google.colab.kernel.invokeFunction('convertToInteractive',\n",
              "                                                     [key], {});\n",
              "          if (!dataTable) return;\n",
              "\n",
              "          const docLinkHtml = 'Like what you see? Visit the ' +\n",
              "            '<a target=\"_blank\" href=https://colab.research.google.com/notebooks/data_table.ipynb>data table notebook</a>'\n",
              "            + ' to learn more about interactive tables.';\n",
              "          element.innerHTML = '';\n",
              "          dataTable['output_type'] = 'display_data';\n",
              "          await google.colab.output.renderOutput(dataTable, element);\n",
              "          const docLink = document.createElement('div');\n",
              "          docLink.innerHTML = docLinkHtml;\n",
              "          element.appendChild(docLink);\n",
              "        }\n",
              "      </script>\n",
              "    </div>\n",
              "  </div>\n",
              "  "
            ]
          },
          "metadata": {},
          "execution_count": 133
        }
      ]
    },
    {
      "cell_type": "code",
      "source": [
        "df['POSSIBILITY_OF_ADMISSION'].value_counts().unique()"
      ],
      "metadata": {
        "colab": {
          "base_uri": "https://localhost:8080/"
        },
        "id": "37gPXlZcff-N",
        "outputId": "6c042bcf-8734-4c31-8204-805da09d7889"
      },
      "execution_count": 134,
      "outputs": [
        {
          "output_type": "execute_result",
          "data": {
            "text/plain": [
              "array([347, 194])"
            ]
          },
          "metadata": {},
          "execution_count": 134
        }
      ]
    },
    {
      "cell_type": "code",
      "source": [
        "df.shape"
      ],
      "metadata": {
        "colab": {
          "base_uri": "https://localhost:8080/"
        },
        "id": "t7y9yQ7kFkzq",
        "outputId": "0fbebef6-b7a8-4531-e850-a21b2ded2467"
      },
      "execution_count": 135,
      "outputs": [
        {
          "output_type": "execute_result",
          "data": {
            "text/plain": [
              "(541, 7)"
            ]
          },
          "metadata": {},
          "execution_count": 135
        }
      ]
    },
    {
      "cell_type": "code",
      "source": [
        "df.sum().isna()"
      ],
      "metadata": {
        "colab": {
          "base_uri": "https://localhost:8080/"
        },
        "id": "rtZLHI5NJMvb",
        "outputId": "5f273bcd-ac5d-4919-b2af-53e332279dc9"
      },
      "execution_count": 136,
      "outputs": [
        {
          "output_type": "execute_result",
          "data": {
            "text/plain": [
              "AGE                         False\n",
              "SPORT_PARTICIPANT           False\n",
              "EDUCATIONAL_PERCENTAGE      False\n",
              "FITNESS                     False\n",
              "HANDICAP                    False\n",
              "SEX                         False\n",
              "POSSIBILITY_OF_ADMISSION    False\n",
              "dtype: bool"
            ]
          },
          "metadata": {},
          "execution_count": 136
        }
      ]
    },
    {
      "cell_type": "markdown",
      "source": [
        "***DATA PREPROCESSING***\n",
        "\n",
        "---\n",
        "\n",
        "\n",
        "\n",
        "---\n",
        "\n"
      ],
      "metadata": {
        "id": "01bdx_AWZ0Dz"
      }
    },
    {
      "cell_type": "code",
      "source": [
        "df.info()"
      ],
      "metadata": {
        "colab": {
          "base_uri": "https://localhost:8080/"
        },
        "id": "kXp5aMKRZ5Ph",
        "outputId": "d72bdfdf-e0fa-4f58-b7f5-699e201eba5c"
      },
      "execution_count": 137,
      "outputs": [
        {
          "output_type": "stream",
          "name": "stdout",
          "text": [
            "<class 'pandas.core.frame.DataFrame'>\n",
            "RangeIndex: 541 entries, 0 to 540\n",
            "Data columns (total 7 columns):\n",
            " #   Column                    Non-Null Count  Dtype \n",
            "---  ------                    --------------  ----- \n",
            " 0   AGE                       541 non-null    int64 \n",
            " 1   SPORT_PARTICIPANT         541 non-null    object\n",
            " 2   EDUCATIONAL_PERCENTAGE    541 non-null    int64 \n",
            " 3   FITNESS                   541 non-null    object\n",
            " 4   HANDICAP                  541 non-null    object\n",
            " 5   SEX                       541 non-null    object\n",
            " 6   POSSIBILITY_OF_ADMISSION  541 non-null    int64 \n",
            "dtypes: int64(3), object(4)\n",
            "memory usage: 29.7+ KB\n"
          ]
        }
      ]
    },
    {
      "cell_type": "markdown",
      "source": [
        "*CHECKING FOR NULL VALUES*\n",
        "\n",
        "---\n",
        "\n",
        "\n",
        "\n",
        "---\n",
        "\n"
      ],
      "metadata": {
        "id": "u_7Um8uWaPI1"
      }
    },
    {
      "cell_type": "code",
      "source": [
        "df.shape"
      ],
      "metadata": {
        "colab": {
          "base_uri": "https://localhost:8080/"
        },
        "id": "JMlgBLVvb3JR",
        "outputId": "e8ae6ffc-6e86-4205-f769-5c6f0d3735bc"
      },
      "execution_count": 138,
      "outputs": [
        {
          "output_type": "execute_result",
          "data": {
            "text/plain": [
              "(541, 7)"
            ]
          },
          "metadata": {},
          "execution_count": 138
        }
      ]
    },
    {
      "cell_type": "code",
      "source": [
        "df.isna()"
      ],
      "metadata": {
        "colab": {
          "base_uri": "https://localhost:8080/",
          "height": 424
        },
        "id": "BPN2pXEjaCG0",
        "outputId": "379cbc8e-8bf3-4c0d-e1ae-3176c21e67f7"
      },
      "execution_count": 139,
      "outputs": [
        {
          "output_type": "execute_result",
          "data": {
            "text/plain": [
              "       AGE  SPORT_PARTICIPANT  EDUCATIONAL_PERCENTAGE  FITNESS  HANDICAP  \\\n",
              "0    False              False                   False    False     False   \n",
              "1    False              False                   False    False     False   \n",
              "2    False              False                   False    False     False   \n",
              "3    False              False                   False    False     False   \n",
              "4    False              False                   False    False     False   \n",
              "..     ...                ...                     ...      ...       ...   \n",
              "536  False              False                   False    False     False   \n",
              "537  False              False                   False    False     False   \n",
              "538  False              False                   False    False     False   \n",
              "539  False              False                   False    False     False   \n",
              "540  False              False                   False    False     False   \n",
              "\n",
              "       SEX  POSSIBILITY_OF_ADMISSION  \n",
              "0    False                     False  \n",
              "1    False                     False  \n",
              "2    False                     False  \n",
              "3    False                     False  \n",
              "4    False                     False  \n",
              "..     ...                       ...  \n",
              "536  False                     False  \n",
              "537  False                     False  \n",
              "538  False                     False  \n",
              "539  False                     False  \n",
              "540  False                     False  \n",
              "\n",
              "[541 rows x 7 columns]"
            ],
            "text/html": [
              "\n",
              "  <div id=\"df-b4f380ce-1e4d-44c2-8368-9c4dfd7a95f4\">\n",
              "    <div class=\"colab-df-container\">\n",
              "      <div>\n",
              "<style scoped>\n",
              "    .dataframe tbody tr th:only-of-type {\n",
              "        vertical-align: middle;\n",
              "    }\n",
              "\n",
              "    .dataframe tbody tr th {\n",
              "        vertical-align: top;\n",
              "    }\n",
              "\n",
              "    .dataframe thead th {\n",
              "        text-align: right;\n",
              "    }\n",
              "</style>\n",
              "<table border=\"1\" class=\"dataframe\">\n",
              "  <thead>\n",
              "    <tr style=\"text-align: right;\">\n",
              "      <th></th>\n",
              "      <th>AGE</th>\n",
              "      <th>SPORT_PARTICIPANT</th>\n",
              "      <th>EDUCATIONAL_PERCENTAGE</th>\n",
              "      <th>FITNESS</th>\n",
              "      <th>HANDICAP</th>\n",
              "      <th>SEX</th>\n",
              "      <th>POSSIBILITY_OF_ADMISSION</th>\n",
              "    </tr>\n",
              "  </thead>\n",
              "  <tbody>\n",
              "    <tr>\n",
              "      <th>0</th>\n",
              "      <td>False</td>\n",
              "      <td>False</td>\n",
              "      <td>False</td>\n",
              "      <td>False</td>\n",
              "      <td>False</td>\n",
              "      <td>False</td>\n",
              "      <td>False</td>\n",
              "    </tr>\n",
              "    <tr>\n",
              "      <th>1</th>\n",
              "      <td>False</td>\n",
              "      <td>False</td>\n",
              "      <td>False</td>\n",
              "      <td>False</td>\n",
              "      <td>False</td>\n",
              "      <td>False</td>\n",
              "      <td>False</td>\n",
              "    </tr>\n",
              "    <tr>\n",
              "      <th>2</th>\n",
              "      <td>False</td>\n",
              "      <td>False</td>\n",
              "      <td>False</td>\n",
              "      <td>False</td>\n",
              "      <td>False</td>\n",
              "      <td>False</td>\n",
              "      <td>False</td>\n",
              "    </tr>\n",
              "    <tr>\n",
              "      <th>3</th>\n",
              "      <td>False</td>\n",
              "      <td>False</td>\n",
              "      <td>False</td>\n",
              "      <td>False</td>\n",
              "      <td>False</td>\n",
              "      <td>False</td>\n",
              "      <td>False</td>\n",
              "    </tr>\n",
              "    <tr>\n",
              "      <th>4</th>\n",
              "      <td>False</td>\n",
              "      <td>False</td>\n",
              "      <td>False</td>\n",
              "      <td>False</td>\n",
              "      <td>False</td>\n",
              "      <td>False</td>\n",
              "      <td>False</td>\n",
              "    </tr>\n",
              "    <tr>\n",
              "      <th>...</th>\n",
              "      <td>...</td>\n",
              "      <td>...</td>\n",
              "      <td>...</td>\n",
              "      <td>...</td>\n",
              "      <td>...</td>\n",
              "      <td>...</td>\n",
              "      <td>...</td>\n",
              "    </tr>\n",
              "    <tr>\n",
              "      <th>536</th>\n",
              "      <td>False</td>\n",
              "      <td>False</td>\n",
              "      <td>False</td>\n",
              "      <td>False</td>\n",
              "      <td>False</td>\n",
              "      <td>False</td>\n",
              "      <td>False</td>\n",
              "    </tr>\n",
              "    <tr>\n",
              "      <th>537</th>\n",
              "      <td>False</td>\n",
              "      <td>False</td>\n",
              "      <td>False</td>\n",
              "      <td>False</td>\n",
              "      <td>False</td>\n",
              "      <td>False</td>\n",
              "      <td>False</td>\n",
              "    </tr>\n",
              "    <tr>\n",
              "      <th>538</th>\n",
              "      <td>False</td>\n",
              "      <td>False</td>\n",
              "      <td>False</td>\n",
              "      <td>False</td>\n",
              "      <td>False</td>\n",
              "      <td>False</td>\n",
              "      <td>False</td>\n",
              "    </tr>\n",
              "    <tr>\n",
              "      <th>539</th>\n",
              "      <td>False</td>\n",
              "      <td>False</td>\n",
              "      <td>False</td>\n",
              "      <td>False</td>\n",
              "      <td>False</td>\n",
              "      <td>False</td>\n",
              "      <td>False</td>\n",
              "    </tr>\n",
              "    <tr>\n",
              "      <th>540</th>\n",
              "      <td>False</td>\n",
              "      <td>False</td>\n",
              "      <td>False</td>\n",
              "      <td>False</td>\n",
              "      <td>False</td>\n",
              "      <td>False</td>\n",
              "      <td>False</td>\n",
              "    </tr>\n",
              "  </tbody>\n",
              "</table>\n",
              "<p>541 rows × 7 columns</p>\n",
              "</div>\n",
              "      <button class=\"colab-df-convert\" onclick=\"convertToInteractive('df-b4f380ce-1e4d-44c2-8368-9c4dfd7a95f4')\"\n",
              "              title=\"Convert this dataframe to an interactive table.\"\n",
              "              style=\"display:none;\">\n",
              "        \n",
              "  <svg xmlns=\"http://www.w3.org/2000/svg\" height=\"24px\"viewBox=\"0 0 24 24\"\n",
              "       width=\"24px\">\n",
              "    <path d=\"M0 0h24v24H0V0z\" fill=\"none\"/>\n",
              "    <path d=\"M18.56 5.44l.94 2.06.94-2.06 2.06-.94-2.06-.94-.94-2.06-.94 2.06-2.06.94zm-11 1L8.5 8.5l.94-2.06 2.06-.94-2.06-.94L8.5 2.5l-.94 2.06-2.06.94zm10 10l.94 2.06.94-2.06 2.06-.94-2.06-.94-.94-2.06-.94 2.06-2.06.94z\"/><path d=\"M17.41 7.96l-1.37-1.37c-.4-.4-.92-.59-1.43-.59-.52 0-1.04.2-1.43.59L10.3 9.45l-7.72 7.72c-.78.78-.78 2.05 0 2.83L4 21.41c.39.39.9.59 1.41.59.51 0 1.02-.2 1.41-.59l7.78-7.78 2.81-2.81c.8-.78.8-2.07 0-2.86zM5.41 20L4 18.59l7.72-7.72 1.47 1.35L5.41 20z\"/>\n",
              "  </svg>\n",
              "      </button>\n",
              "      \n",
              "  <style>\n",
              "    .colab-df-container {\n",
              "      display:flex;\n",
              "      flex-wrap:wrap;\n",
              "      gap: 12px;\n",
              "    }\n",
              "\n",
              "    .colab-df-convert {\n",
              "      background-color: #E8F0FE;\n",
              "      border: none;\n",
              "      border-radius: 50%;\n",
              "      cursor: pointer;\n",
              "      display: none;\n",
              "      fill: #1967D2;\n",
              "      height: 32px;\n",
              "      padding: 0 0 0 0;\n",
              "      width: 32px;\n",
              "    }\n",
              "\n",
              "    .colab-df-convert:hover {\n",
              "      background-color: #E2EBFA;\n",
              "      box-shadow: 0px 1px 2px rgba(60, 64, 67, 0.3), 0px 1px 3px 1px rgba(60, 64, 67, 0.15);\n",
              "      fill: #174EA6;\n",
              "    }\n",
              "\n",
              "    [theme=dark] .colab-df-convert {\n",
              "      background-color: #3B4455;\n",
              "      fill: #D2E3FC;\n",
              "    }\n",
              "\n",
              "    [theme=dark] .colab-df-convert:hover {\n",
              "      background-color: #434B5C;\n",
              "      box-shadow: 0px 1px 3px 1px rgba(0, 0, 0, 0.15);\n",
              "      filter: drop-shadow(0px 1px 2px rgba(0, 0, 0, 0.3));\n",
              "      fill: #FFFFFF;\n",
              "    }\n",
              "  </style>\n",
              "\n",
              "      <script>\n",
              "        const buttonEl =\n",
              "          document.querySelector('#df-b4f380ce-1e4d-44c2-8368-9c4dfd7a95f4 button.colab-df-convert');\n",
              "        buttonEl.style.display =\n",
              "          google.colab.kernel.accessAllowed ? 'block' : 'none';\n",
              "\n",
              "        async function convertToInteractive(key) {\n",
              "          const element = document.querySelector('#df-b4f380ce-1e4d-44c2-8368-9c4dfd7a95f4');\n",
              "          const dataTable =\n",
              "            await google.colab.kernel.invokeFunction('convertToInteractive',\n",
              "                                                     [key], {});\n",
              "          if (!dataTable) return;\n",
              "\n",
              "          const docLinkHtml = 'Like what you see? Visit the ' +\n",
              "            '<a target=\"_blank\" href=https://colab.research.google.com/notebooks/data_table.ipynb>data table notebook</a>'\n",
              "            + ' to learn more about interactive tables.';\n",
              "          element.innerHTML = '';\n",
              "          dataTable['output_type'] = 'display_data';\n",
              "          await google.colab.output.renderOutput(dataTable, element);\n",
              "          const docLink = document.createElement('div');\n",
              "          docLink.innerHTML = docLinkHtml;\n",
              "          element.appendChild(docLink);\n",
              "        }\n",
              "      </script>\n",
              "    </div>\n",
              "  </div>\n",
              "  "
            ]
          },
          "metadata": {},
          "execution_count": 139
        }
      ]
    },
    {
      "cell_type": "code",
      "source": [
        "df.count().isna()"
      ],
      "metadata": {
        "colab": {
          "base_uri": "https://localhost:8080/"
        },
        "id": "M2D-L-dzaJ9S",
        "outputId": "51d8fe97-0e0b-47cb-ddc5-5003fe9078a7"
      },
      "execution_count": 140,
      "outputs": [
        {
          "output_type": "execute_result",
          "data": {
            "text/plain": [
              "AGE                         False\n",
              "SPORT_PARTICIPANT           False\n",
              "EDUCATIONAL_PERCENTAGE      False\n",
              "FITNESS                     False\n",
              "HANDICAP                    False\n",
              "SEX                         False\n",
              "POSSIBILITY_OF_ADMISSION    False\n",
              "dtype: bool"
            ]
          },
          "metadata": {},
          "execution_count": 140
        }
      ]
    },
    {
      "cell_type": "code",
      "source": [
        "df['AGE'].value_counts()"
      ],
      "metadata": {
        "colab": {
          "base_uri": "https://localhost:8080/"
        },
        "id": "JsL7I8qfQcOX",
        "outputId": "1e235b5e-adaf-4aa8-e02c-7910d9a6ce6a"
      },
      "execution_count": 141,
      "outputs": [
        {
          "output_type": "execute_result",
          "data": {
            "text/plain": [
              "22    110\n",
              "24     98\n",
              "21     88\n",
              "23     86\n",
              "19     83\n",
              "20     76\n",
              "Name: AGE, dtype: int64"
            ]
          },
          "metadata": {},
          "execution_count": 141
        }
      ]
    },
    {
      "cell_type": "code",
      "source": [
        "df['SPORT_PARTICIPANT'].value_counts()"
      ],
      "metadata": {
        "colab": {
          "base_uri": "https://localhost:8080/"
        },
        "id": "lS73e1HkRC2K",
        "outputId": "74e28dd3-67ef-4076-a953-a73bfe493024"
      },
      "execution_count": 142,
      "outputs": [
        {
          "output_type": "execute_result",
          "data": {
            "text/plain": [
              "NO     326\n",
              "YES    215\n",
              "Name: SPORT_PARTICIPANT, dtype: int64"
            ]
          },
          "metadata": {},
          "execution_count": 142
        }
      ]
    },
    {
      "cell_type": "code",
      "source": [
        "df['EDUCATIONAL_PERCENTAGE'].value_counts()"
      ],
      "metadata": {
        "colab": {
          "base_uri": "https://localhost:8080/"
        },
        "id": "2Uc-nBb9RNFK",
        "outputId": "70dc9d9c-0d72-45e1-b8be-b18b36558a68"
      },
      "execution_count": 143,
      "outputs": [
        {
          "output_type": "execute_result",
          "data": {
            "text/plain": [
              "87    23\n",
              "85    22\n",
              "90    21\n",
              "94    20\n",
              "71    19\n",
              "95    18\n",
              "78    17\n",
              "73    17\n",
              "69    16\n",
              "59    16\n",
              "62    16\n",
              "77    15\n",
              "75    15\n",
              "93    15\n",
              "76    15\n",
              "61    14\n",
              "91    13\n",
              "92    12\n",
              "79    12\n",
              "64    12\n",
              "68    12\n",
              "70    12\n",
              "66    12\n",
              "56    12\n",
              "51    12\n",
              "65    11\n",
              "57    11\n",
              "50    11\n",
              "52    11\n",
              "58    11\n",
              "86    10\n",
              "89    10\n",
              "88     9\n",
              "54     9\n",
              "67     8\n",
              "55     8\n",
              "74     8\n",
              "80     8\n",
              "60     8\n",
              "72     8\n",
              "53     8\n",
              "63     4\n",
              "Name: EDUCATIONAL_PERCENTAGE, dtype: int64"
            ]
          },
          "metadata": {},
          "execution_count": 143
        }
      ]
    },
    {
      "cell_type": "code",
      "source": [
        "df['FITNESS'].value_counts()"
      ],
      "metadata": {
        "colab": {
          "base_uri": "https://localhost:8080/"
        },
        "id": "IwR1OjBKRVFI",
        "outputId": "7b30290a-f6d3-4587-f352-5d6e91ce9edf"
      },
      "execution_count": 144,
      "outputs": [
        {
          "output_type": "execute_result",
          "data": {
            "text/plain": [
              "GOOD             215\n",
              "BELOW AVERAGE    164\n",
              "MODERATE         162\n",
              "Name: FITNESS, dtype: int64"
            ]
          },
          "metadata": {},
          "execution_count": 144
        }
      ]
    },
    {
      "cell_type": "code",
      "source": [
        "df['HANDICAP'].value_counts()"
      ],
      "metadata": {
        "colab": {
          "base_uri": "https://localhost:8080/"
        },
        "id": "vbxaevNrRbUw",
        "outputId": "749a7ced-ae18-4819-f19c-b7a43f782c82"
      },
      "execution_count": 145,
      "outputs": [
        {
          "output_type": "execute_result",
          "data": {
            "text/plain": [
              "NO     492\n",
              "YES     49\n",
              "Name: HANDICAP, dtype: int64"
            ]
          },
          "metadata": {},
          "execution_count": 145
        }
      ]
    },
    {
      "cell_type": "code",
      "source": [
        "df['SEX'].value_counts()"
      ],
      "metadata": {
        "colab": {
          "base_uri": "https://localhost:8080/"
        },
        "id": "8enTWXw_RdN6",
        "outputId": "af4baa7d-2e55-4e25-f92d-37cf53dfa8e1"
      },
      "execution_count": 146,
      "outputs": [
        {
          "output_type": "execute_result",
          "data": {
            "text/plain": [
              "MALE      299\n",
              "FEMALE    242\n",
              "Name: SEX, dtype: int64"
            ]
          },
          "metadata": {},
          "execution_count": 146
        }
      ]
    },
    {
      "cell_type": "code",
      "source": [
        "df['POSSIBILITY_OF_ADMISSION'].value_counts()"
      ],
      "metadata": {
        "colab": {
          "base_uri": "https://localhost:8080/"
        },
        "id": "d7mIjbuSwUso",
        "outputId": "8317ba4c-62a9-47c7-e224-26630ef74732"
      },
      "execution_count": 147,
      "outputs": [
        {
          "output_type": "execute_result",
          "data": {
            "text/plain": [
              "0    347\n",
              "1    194\n",
              "Name: POSSIBILITY_OF_ADMISSION, dtype: int64"
            ]
          },
          "metadata": {},
          "execution_count": 147
        }
      ]
    },
    {
      "cell_type": "markdown",
      "source": [
        "*CONVERTING NON-NUMERICAL DATA INTO CATEGORICAL NUMBERIC DATA*\n",
        "\n",
        "---\n",
        "\n",
        "\n",
        "\n",
        "---\n",
        "\n",
        "\n",
        "\n",
        "---\n",
        "\n"
      ],
      "metadata": {
        "id": "mWZepH9XczRC"
      }
    },
    {
      "cell_type": "code",
      "source": [
        "df1=df"
      ],
      "metadata": {
        "id": "jdkCPH4ByGe9"
      },
      "execution_count": 148,
      "outputs": []
    },
    {
      "cell_type": "code",
      "source": [
        "df1['FITNESS']=df1['FITNESS'].astype('category')\n",
        "df1['FITNESS']=df1['FITNESS'].cat.reorder_categories(['GOOD','MODERATE','BELOW AVERAGE'])\n",
        "df1['FITNESS']=df1['FITNESS'].cat.codes\n",
        "df1['FITNESS'].value_counts()\n"
      ],
      "metadata": {
        "colab": {
          "base_uri": "https://localhost:8080/"
        },
        "id": "rSpXJKnVx9S-",
        "outputId": "8a179124-508b-4763-e63c-0b7697803f81"
      },
      "execution_count": 149,
      "outputs": [
        {
          "output_type": "execute_result",
          "data": {
            "text/plain": [
              "0    215\n",
              "2    164\n",
              "1    162\n",
              "Name: FITNESS, dtype: int64"
            ]
          },
          "metadata": {},
          "execution_count": 149
        }
      ]
    },
    {
      "cell_type": "code",
      "source": [
        "df1['HANDICAP']=df1['HANDICAP'].astype('category')\n",
        "df1['HANDICAP']=df1['HANDICAP'].cat.reorder_categories(['YES','NO'])\n",
        "df1['HANDICAP']=df1['HANDICAP'].cat.codes\n",
        "df1['HANDICAP'].value_counts()"
      ],
      "metadata": {
        "colab": {
          "base_uri": "https://localhost:8080/"
        },
        "id": "z-U3gPdQdD68",
        "outputId": "f93be523-2e2a-4a22-f015-ca3db99c99fc"
      },
      "execution_count": 150,
      "outputs": [
        {
          "output_type": "execute_result",
          "data": {
            "text/plain": [
              "1    492\n",
              "0     49\n",
              "Name: HANDICAP, dtype: int64"
            ]
          },
          "metadata": {},
          "execution_count": 150
        }
      ]
    },
    {
      "cell_type": "code",
      "source": [
        "df1['SEX']=df1['SEX'].astype('category')\n",
        "df1['SEX']=df1['SEX'].cat.reorder_categories(['MALE','FEMALE'])\n",
        "df1['SEX']=df1['SEX'].cat.codes\n",
        "df1['SEX'].value_counts()"
      ],
      "metadata": {
        "colab": {
          "base_uri": "https://localhost:8080/"
        },
        "id": "yAkAMDWmyZZ3",
        "outputId": "4c10ab77-e1e6-4fc2-98bc-853a260726a5"
      },
      "execution_count": 151,
      "outputs": [
        {
          "output_type": "execute_result",
          "data": {
            "text/plain": [
              "0    299\n",
              "1    242\n",
              "Name: SEX, dtype: int64"
            ]
          },
          "metadata": {},
          "execution_count": 151
        }
      ]
    },
    {
      "cell_type": "code",
      "source": [
        "df1['SPORT_PARTICIPANT']=df1['SPORT_PARTICIPANT'].astype('category')\n",
        "df1['SPORT_PARTICIPANT']=df1['SPORT_PARTICIPANT'].cat.reorder_categories(['YES','NO'])\n",
        "df1['SPORT_PARTICIPANT']=df1['SPORT_PARTICIPANT'].cat.codes\n",
        "df1['SPORT_PARTICIPANT'].value_counts()"
      ],
      "metadata": {
        "colab": {
          "base_uri": "https://localhost:8080/"
        },
        "id": "FAWaBD7OcaOA",
        "outputId": "128d625a-6727-4805-8a4f-d0799139b319"
      },
      "execution_count": 152,
      "outputs": [
        {
          "output_type": "execute_result",
          "data": {
            "text/plain": [
              "1    326\n",
              "0    215\n",
              "Name: SPORT_PARTICIPANT, dtype: int64"
            ]
          },
          "metadata": {},
          "execution_count": 152
        }
      ]
    },
    {
      "cell_type": "code",
      "source": [
        "df1"
      ],
      "metadata": {
        "colab": {
          "base_uri": "https://localhost:8080/",
          "height": 424
        },
        "id": "tKgg4M0mR2nu",
        "outputId": "a786e6b1-1e5d-4e1a-fc91-52c699cecaa0"
      },
      "execution_count": 153,
      "outputs": [
        {
          "output_type": "execute_result",
          "data": {
            "text/plain": [
              "     AGE  SPORT_PARTICIPANT  EDUCATIONAL_PERCENTAGE  FITNESS  HANDICAP  SEX  \\\n",
              "0     19                  1                      69        2         1    1   \n",
              "1     19                  0                      87        0         1    0   \n",
              "2     21                  1                      76        1         1    0   \n",
              "3     21                  1                      69        2         1    1   \n",
              "4     24                  0                      87        0         1    1   \n",
              "..   ...                ...                     ...      ...       ...  ...   \n",
              "536   23                  1                      52        1         0    1   \n",
              "537   24                  0                      69        0         0    0   \n",
              "538   24                  1                      68        2         1    0   \n",
              "539   22                  0                      75        0         0    0   \n",
              "540   23                  1                      80        1         0    0   \n",
              "\n",
              "     POSSIBILITY_OF_ADMISSION  \n",
              "0                           0  \n",
              "1                           1  \n",
              "2                           0  \n",
              "3                           0  \n",
              "4                           1  \n",
              "..                        ...  \n",
              "536                         0  \n",
              "537                         1  \n",
              "538                         0  \n",
              "539                         1  \n",
              "540                         0  \n",
              "\n",
              "[541 rows x 7 columns]"
            ],
            "text/html": [
              "\n",
              "  <div id=\"df-53b400c4-32a7-4afb-a568-25b7ad9a8329\">\n",
              "    <div class=\"colab-df-container\">\n",
              "      <div>\n",
              "<style scoped>\n",
              "    .dataframe tbody tr th:only-of-type {\n",
              "        vertical-align: middle;\n",
              "    }\n",
              "\n",
              "    .dataframe tbody tr th {\n",
              "        vertical-align: top;\n",
              "    }\n",
              "\n",
              "    .dataframe thead th {\n",
              "        text-align: right;\n",
              "    }\n",
              "</style>\n",
              "<table border=\"1\" class=\"dataframe\">\n",
              "  <thead>\n",
              "    <tr style=\"text-align: right;\">\n",
              "      <th></th>\n",
              "      <th>AGE</th>\n",
              "      <th>SPORT_PARTICIPANT</th>\n",
              "      <th>EDUCATIONAL_PERCENTAGE</th>\n",
              "      <th>FITNESS</th>\n",
              "      <th>HANDICAP</th>\n",
              "      <th>SEX</th>\n",
              "      <th>POSSIBILITY_OF_ADMISSION</th>\n",
              "    </tr>\n",
              "  </thead>\n",
              "  <tbody>\n",
              "    <tr>\n",
              "      <th>0</th>\n",
              "      <td>19</td>\n",
              "      <td>1</td>\n",
              "      <td>69</td>\n",
              "      <td>2</td>\n",
              "      <td>1</td>\n",
              "      <td>1</td>\n",
              "      <td>0</td>\n",
              "    </tr>\n",
              "    <tr>\n",
              "      <th>1</th>\n",
              "      <td>19</td>\n",
              "      <td>0</td>\n",
              "      <td>87</td>\n",
              "      <td>0</td>\n",
              "      <td>1</td>\n",
              "      <td>0</td>\n",
              "      <td>1</td>\n",
              "    </tr>\n",
              "    <tr>\n",
              "      <th>2</th>\n",
              "      <td>21</td>\n",
              "      <td>1</td>\n",
              "      <td>76</td>\n",
              "      <td>1</td>\n",
              "      <td>1</td>\n",
              "      <td>0</td>\n",
              "      <td>0</td>\n",
              "    </tr>\n",
              "    <tr>\n",
              "      <th>3</th>\n",
              "      <td>21</td>\n",
              "      <td>1</td>\n",
              "      <td>69</td>\n",
              "      <td>2</td>\n",
              "      <td>1</td>\n",
              "      <td>1</td>\n",
              "      <td>0</td>\n",
              "    </tr>\n",
              "    <tr>\n",
              "      <th>4</th>\n",
              "      <td>24</td>\n",
              "      <td>0</td>\n",
              "      <td>87</td>\n",
              "      <td>0</td>\n",
              "      <td>1</td>\n",
              "      <td>1</td>\n",
              "      <td>1</td>\n",
              "    </tr>\n",
              "    <tr>\n",
              "      <th>...</th>\n",
              "      <td>...</td>\n",
              "      <td>...</td>\n",
              "      <td>...</td>\n",
              "      <td>...</td>\n",
              "      <td>...</td>\n",
              "      <td>...</td>\n",
              "      <td>...</td>\n",
              "    </tr>\n",
              "    <tr>\n",
              "      <th>536</th>\n",
              "      <td>23</td>\n",
              "      <td>1</td>\n",
              "      <td>52</td>\n",
              "      <td>1</td>\n",
              "      <td>0</td>\n",
              "      <td>1</td>\n",
              "      <td>0</td>\n",
              "    </tr>\n",
              "    <tr>\n",
              "      <th>537</th>\n",
              "      <td>24</td>\n",
              "      <td>0</td>\n",
              "      <td>69</td>\n",
              "      <td>0</td>\n",
              "      <td>0</td>\n",
              "      <td>0</td>\n",
              "      <td>1</td>\n",
              "    </tr>\n",
              "    <tr>\n",
              "      <th>538</th>\n",
              "      <td>24</td>\n",
              "      <td>1</td>\n",
              "      <td>68</td>\n",
              "      <td>2</td>\n",
              "      <td>1</td>\n",
              "      <td>0</td>\n",
              "      <td>0</td>\n",
              "    </tr>\n",
              "    <tr>\n",
              "      <th>539</th>\n",
              "      <td>22</td>\n",
              "      <td>0</td>\n",
              "      <td>75</td>\n",
              "      <td>0</td>\n",
              "      <td>0</td>\n",
              "      <td>0</td>\n",
              "      <td>1</td>\n",
              "    </tr>\n",
              "    <tr>\n",
              "      <th>540</th>\n",
              "      <td>23</td>\n",
              "      <td>1</td>\n",
              "      <td>80</td>\n",
              "      <td>1</td>\n",
              "      <td>0</td>\n",
              "      <td>0</td>\n",
              "      <td>0</td>\n",
              "    </tr>\n",
              "  </tbody>\n",
              "</table>\n",
              "<p>541 rows × 7 columns</p>\n",
              "</div>\n",
              "      <button class=\"colab-df-convert\" onclick=\"convertToInteractive('df-53b400c4-32a7-4afb-a568-25b7ad9a8329')\"\n",
              "              title=\"Convert this dataframe to an interactive table.\"\n",
              "              style=\"display:none;\">\n",
              "        \n",
              "  <svg xmlns=\"http://www.w3.org/2000/svg\" height=\"24px\"viewBox=\"0 0 24 24\"\n",
              "       width=\"24px\">\n",
              "    <path d=\"M0 0h24v24H0V0z\" fill=\"none\"/>\n",
              "    <path d=\"M18.56 5.44l.94 2.06.94-2.06 2.06-.94-2.06-.94-.94-2.06-.94 2.06-2.06.94zm-11 1L8.5 8.5l.94-2.06 2.06-.94-2.06-.94L8.5 2.5l-.94 2.06-2.06.94zm10 10l.94 2.06.94-2.06 2.06-.94-2.06-.94-.94-2.06-.94 2.06-2.06.94z\"/><path d=\"M17.41 7.96l-1.37-1.37c-.4-.4-.92-.59-1.43-.59-.52 0-1.04.2-1.43.59L10.3 9.45l-7.72 7.72c-.78.78-.78 2.05 0 2.83L4 21.41c.39.39.9.59 1.41.59.51 0 1.02-.2 1.41-.59l7.78-7.78 2.81-2.81c.8-.78.8-2.07 0-2.86zM5.41 20L4 18.59l7.72-7.72 1.47 1.35L5.41 20z\"/>\n",
              "  </svg>\n",
              "      </button>\n",
              "      \n",
              "  <style>\n",
              "    .colab-df-container {\n",
              "      display:flex;\n",
              "      flex-wrap:wrap;\n",
              "      gap: 12px;\n",
              "    }\n",
              "\n",
              "    .colab-df-convert {\n",
              "      background-color: #E8F0FE;\n",
              "      border: none;\n",
              "      border-radius: 50%;\n",
              "      cursor: pointer;\n",
              "      display: none;\n",
              "      fill: #1967D2;\n",
              "      height: 32px;\n",
              "      padding: 0 0 0 0;\n",
              "      width: 32px;\n",
              "    }\n",
              "\n",
              "    .colab-df-convert:hover {\n",
              "      background-color: #E2EBFA;\n",
              "      box-shadow: 0px 1px 2px rgba(60, 64, 67, 0.3), 0px 1px 3px 1px rgba(60, 64, 67, 0.15);\n",
              "      fill: #174EA6;\n",
              "    }\n",
              "\n",
              "    [theme=dark] .colab-df-convert {\n",
              "      background-color: #3B4455;\n",
              "      fill: #D2E3FC;\n",
              "    }\n",
              "\n",
              "    [theme=dark] .colab-df-convert:hover {\n",
              "      background-color: #434B5C;\n",
              "      box-shadow: 0px 1px 3px 1px rgba(0, 0, 0, 0.15);\n",
              "      filter: drop-shadow(0px 1px 2px rgba(0, 0, 0, 0.3));\n",
              "      fill: #FFFFFF;\n",
              "    }\n",
              "  </style>\n",
              "\n",
              "      <script>\n",
              "        const buttonEl =\n",
              "          document.querySelector('#df-53b400c4-32a7-4afb-a568-25b7ad9a8329 button.colab-df-convert');\n",
              "        buttonEl.style.display =\n",
              "          google.colab.kernel.accessAllowed ? 'block' : 'none';\n",
              "\n",
              "        async function convertToInteractive(key) {\n",
              "          const element = document.querySelector('#df-53b400c4-32a7-4afb-a568-25b7ad9a8329');\n",
              "          const dataTable =\n",
              "            await google.colab.kernel.invokeFunction('convertToInteractive',\n",
              "                                                     [key], {});\n",
              "          if (!dataTable) return;\n",
              "\n",
              "          const docLinkHtml = 'Like what you see? Visit the ' +\n",
              "            '<a target=\"_blank\" href=https://colab.research.google.com/notebooks/data_table.ipynb>data table notebook</a>'\n",
              "            + ' to learn more about interactive tables.';\n",
              "          element.innerHTML = '';\n",
              "          dataTable['output_type'] = 'display_data';\n",
              "          await google.colab.output.renderOutput(dataTable, element);\n",
              "          const docLink = document.createElement('div');\n",
              "          docLink.innerHTML = docLinkHtml;\n",
              "          element.appendChild(docLink);\n",
              "        }\n",
              "      </script>\n",
              "    </div>\n",
              "  </div>\n",
              "  "
            ]
          },
          "metadata": {},
          "execution_count": 153
        }
      ]
    },
    {
      "cell_type": "code",
      "source": [
        "df1.describe()"
      ],
      "metadata": {
        "colab": {
          "base_uri": "https://localhost:8080/",
          "height": 300
        },
        "id": "q8ZD72ywt0yX",
        "outputId": "d97366d7-da7f-48a4-f78a-5d4e9f36615f"
      },
      "execution_count": 154,
      "outputs": [
        {
          "output_type": "execute_result",
          "data": {
            "text/plain": [
              "              AGE  SPORT_PARTICIPANT  EDUCATIONAL_PERCENTAGE     FITNESS  \\\n",
              "count  541.000000         541.000000              541.000000  541.000000   \n",
              "mean    21.617375           0.602588               73.532348    0.905730   \n",
              "std      1.687534           0.489815               13.611861    0.832435   \n",
              "min     19.000000           0.000000               50.000000    0.000000   \n",
              "25%     20.000000           0.000000               62.000000    0.000000   \n",
              "50%     22.000000           1.000000               73.000000    1.000000   \n",
              "75%     23.000000           1.000000               87.000000    2.000000   \n",
              "max     24.000000           1.000000               95.000000    2.000000   \n",
              "\n",
              "         HANDICAP         SEX  POSSIBILITY_OF_ADMISSION  \n",
              "count  541.000000  541.000000                541.000000  \n",
              "mean     0.909427    0.447320                  0.358595  \n",
              "std      0.287267    0.497677                  0.480032  \n",
              "min      0.000000    0.000000                  0.000000  \n",
              "25%      1.000000    0.000000                  0.000000  \n",
              "50%      1.000000    0.000000                  0.000000  \n",
              "75%      1.000000    1.000000                  1.000000  \n",
              "max      1.000000    1.000000                  1.000000  "
            ],
            "text/html": [
              "\n",
              "  <div id=\"df-e04ba01e-16af-42bf-836c-b69ff264482d\">\n",
              "    <div class=\"colab-df-container\">\n",
              "      <div>\n",
              "<style scoped>\n",
              "    .dataframe tbody tr th:only-of-type {\n",
              "        vertical-align: middle;\n",
              "    }\n",
              "\n",
              "    .dataframe tbody tr th {\n",
              "        vertical-align: top;\n",
              "    }\n",
              "\n",
              "    .dataframe thead th {\n",
              "        text-align: right;\n",
              "    }\n",
              "</style>\n",
              "<table border=\"1\" class=\"dataframe\">\n",
              "  <thead>\n",
              "    <tr style=\"text-align: right;\">\n",
              "      <th></th>\n",
              "      <th>AGE</th>\n",
              "      <th>SPORT_PARTICIPANT</th>\n",
              "      <th>EDUCATIONAL_PERCENTAGE</th>\n",
              "      <th>FITNESS</th>\n",
              "      <th>HANDICAP</th>\n",
              "      <th>SEX</th>\n",
              "      <th>POSSIBILITY_OF_ADMISSION</th>\n",
              "    </tr>\n",
              "  </thead>\n",
              "  <tbody>\n",
              "    <tr>\n",
              "      <th>count</th>\n",
              "      <td>541.000000</td>\n",
              "      <td>541.000000</td>\n",
              "      <td>541.000000</td>\n",
              "      <td>541.000000</td>\n",
              "      <td>541.000000</td>\n",
              "      <td>541.000000</td>\n",
              "      <td>541.000000</td>\n",
              "    </tr>\n",
              "    <tr>\n",
              "      <th>mean</th>\n",
              "      <td>21.617375</td>\n",
              "      <td>0.602588</td>\n",
              "      <td>73.532348</td>\n",
              "      <td>0.905730</td>\n",
              "      <td>0.909427</td>\n",
              "      <td>0.447320</td>\n",
              "      <td>0.358595</td>\n",
              "    </tr>\n",
              "    <tr>\n",
              "      <th>std</th>\n",
              "      <td>1.687534</td>\n",
              "      <td>0.489815</td>\n",
              "      <td>13.611861</td>\n",
              "      <td>0.832435</td>\n",
              "      <td>0.287267</td>\n",
              "      <td>0.497677</td>\n",
              "      <td>0.480032</td>\n",
              "    </tr>\n",
              "    <tr>\n",
              "      <th>min</th>\n",
              "      <td>19.000000</td>\n",
              "      <td>0.000000</td>\n",
              "      <td>50.000000</td>\n",
              "      <td>0.000000</td>\n",
              "      <td>0.000000</td>\n",
              "      <td>0.000000</td>\n",
              "      <td>0.000000</td>\n",
              "    </tr>\n",
              "    <tr>\n",
              "      <th>25%</th>\n",
              "      <td>20.000000</td>\n",
              "      <td>0.000000</td>\n",
              "      <td>62.000000</td>\n",
              "      <td>0.000000</td>\n",
              "      <td>1.000000</td>\n",
              "      <td>0.000000</td>\n",
              "      <td>0.000000</td>\n",
              "    </tr>\n",
              "    <tr>\n",
              "      <th>50%</th>\n",
              "      <td>22.000000</td>\n",
              "      <td>1.000000</td>\n",
              "      <td>73.000000</td>\n",
              "      <td>1.000000</td>\n",
              "      <td>1.000000</td>\n",
              "      <td>0.000000</td>\n",
              "      <td>0.000000</td>\n",
              "    </tr>\n",
              "    <tr>\n",
              "      <th>75%</th>\n",
              "      <td>23.000000</td>\n",
              "      <td>1.000000</td>\n",
              "      <td>87.000000</td>\n",
              "      <td>2.000000</td>\n",
              "      <td>1.000000</td>\n",
              "      <td>1.000000</td>\n",
              "      <td>1.000000</td>\n",
              "    </tr>\n",
              "    <tr>\n",
              "      <th>max</th>\n",
              "      <td>24.000000</td>\n",
              "      <td>1.000000</td>\n",
              "      <td>95.000000</td>\n",
              "      <td>2.000000</td>\n",
              "      <td>1.000000</td>\n",
              "      <td>1.000000</td>\n",
              "      <td>1.000000</td>\n",
              "    </tr>\n",
              "  </tbody>\n",
              "</table>\n",
              "</div>\n",
              "      <button class=\"colab-df-convert\" onclick=\"convertToInteractive('df-e04ba01e-16af-42bf-836c-b69ff264482d')\"\n",
              "              title=\"Convert this dataframe to an interactive table.\"\n",
              "              style=\"display:none;\">\n",
              "        \n",
              "  <svg xmlns=\"http://www.w3.org/2000/svg\" height=\"24px\"viewBox=\"0 0 24 24\"\n",
              "       width=\"24px\">\n",
              "    <path d=\"M0 0h24v24H0V0z\" fill=\"none\"/>\n",
              "    <path d=\"M18.56 5.44l.94 2.06.94-2.06 2.06-.94-2.06-.94-.94-2.06-.94 2.06-2.06.94zm-11 1L8.5 8.5l.94-2.06 2.06-.94-2.06-.94L8.5 2.5l-.94 2.06-2.06.94zm10 10l.94 2.06.94-2.06 2.06-.94-2.06-.94-.94-2.06-.94 2.06-2.06.94z\"/><path d=\"M17.41 7.96l-1.37-1.37c-.4-.4-.92-.59-1.43-.59-.52 0-1.04.2-1.43.59L10.3 9.45l-7.72 7.72c-.78.78-.78 2.05 0 2.83L4 21.41c.39.39.9.59 1.41.59.51 0 1.02-.2 1.41-.59l7.78-7.78 2.81-2.81c.8-.78.8-2.07 0-2.86zM5.41 20L4 18.59l7.72-7.72 1.47 1.35L5.41 20z\"/>\n",
              "  </svg>\n",
              "      </button>\n",
              "      \n",
              "  <style>\n",
              "    .colab-df-container {\n",
              "      display:flex;\n",
              "      flex-wrap:wrap;\n",
              "      gap: 12px;\n",
              "    }\n",
              "\n",
              "    .colab-df-convert {\n",
              "      background-color: #E8F0FE;\n",
              "      border: none;\n",
              "      border-radius: 50%;\n",
              "      cursor: pointer;\n",
              "      display: none;\n",
              "      fill: #1967D2;\n",
              "      height: 32px;\n",
              "      padding: 0 0 0 0;\n",
              "      width: 32px;\n",
              "    }\n",
              "\n",
              "    .colab-df-convert:hover {\n",
              "      background-color: #E2EBFA;\n",
              "      box-shadow: 0px 1px 2px rgba(60, 64, 67, 0.3), 0px 1px 3px 1px rgba(60, 64, 67, 0.15);\n",
              "      fill: #174EA6;\n",
              "    }\n",
              "\n",
              "    [theme=dark] .colab-df-convert {\n",
              "      background-color: #3B4455;\n",
              "      fill: #D2E3FC;\n",
              "    }\n",
              "\n",
              "    [theme=dark] .colab-df-convert:hover {\n",
              "      background-color: #434B5C;\n",
              "      box-shadow: 0px 1px 3px 1px rgba(0, 0, 0, 0.15);\n",
              "      filter: drop-shadow(0px 1px 2px rgba(0, 0, 0, 0.3));\n",
              "      fill: #FFFFFF;\n",
              "    }\n",
              "  </style>\n",
              "\n",
              "      <script>\n",
              "        const buttonEl =\n",
              "          document.querySelector('#df-e04ba01e-16af-42bf-836c-b69ff264482d button.colab-df-convert');\n",
              "        buttonEl.style.display =\n",
              "          google.colab.kernel.accessAllowed ? 'block' : 'none';\n",
              "\n",
              "        async function convertToInteractive(key) {\n",
              "          const element = document.querySelector('#df-e04ba01e-16af-42bf-836c-b69ff264482d');\n",
              "          const dataTable =\n",
              "            await google.colab.kernel.invokeFunction('convertToInteractive',\n",
              "                                                     [key], {});\n",
              "          if (!dataTable) return;\n",
              "\n",
              "          const docLinkHtml = 'Like what you see? Visit the ' +\n",
              "            '<a target=\"_blank\" href=https://colab.research.google.com/notebooks/data_table.ipynb>data table notebook</a>'\n",
              "            + ' to learn more about interactive tables.';\n",
              "          element.innerHTML = '';\n",
              "          dataTable['output_type'] = 'display_data';\n",
              "          await google.colab.output.renderOutput(dataTable, element);\n",
              "          const docLink = document.createElement('div');\n",
              "          docLink.innerHTML = docLinkHtml;\n",
              "          element.appendChild(docLink);\n",
              "        }\n",
              "      </script>\n",
              "    </div>\n",
              "  </div>\n",
              "  "
            ]
          },
          "metadata": {},
          "execution_count": 154
        }
      ]
    },
    {
      "cell_type": "code",
      "source": [
        "df1.corr()"
      ],
      "metadata": {
        "colab": {
          "base_uri": "https://localhost:8080/",
          "height": 269
        },
        "id": "FGNN2d1kuIsA",
        "outputId": "c029c0db-c9db-4857-dd56-de9a93a1938d"
      },
      "execution_count": 155,
      "outputs": [
        {
          "output_type": "execute_result",
          "data": {
            "text/plain": [
              "                               AGE  SPORT_PARTICIPANT  EDUCATIONAL_PERCENTAGE  \\\n",
              "AGE                       1.000000          -0.045400                0.024766   \n",
              "SPORT_PARTICIPANT        -0.045400           1.000000               -0.705640   \n",
              "EDUCATIONAL_PERCENTAGE    0.024766          -0.705640                1.000000   \n",
              "FITNESS                  -0.046817           0.884424               -0.619711   \n",
              "HANDICAP                 -0.006680           0.006933                0.022773   \n",
              "SEX                      -0.067042          -0.059454                0.088343   \n",
              "POSSIBILITY_OF_ADMISSION  0.048531          -0.920716                0.807080   \n",
              "\n",
              "                           FITNESS  HANDICAP       SEX  \\\n",
              "AGE                      -0.046817 -0.006680 -0.067042   \n",
              "SPORT_PARTICIPANT         0.884424  0.006933 -0.059454   \n",
              "EDUCATIONAL_PERCENTAGE   -0.619711  0.022773  0.088343   \n",
              "FITNESS                   1.000000  0.010693 -0.050005   \n",
              "HANDICAP                  0.010693  1.000000 -0.001053   \n",
              "SEX                      -0.050005 -0.001053  1.000000   \n",
              "POSSIBILITY_OF_ADMISSION -0.814303 -0.019188  0.063717   \n",
              "\n",
              "                          POSSIBILITY_OF_ADMISSION  \n",
              "AGE                                       0.048531  \n",
              "SPORT_PARTICIPANT                        -0.920716  \n",
              "EDUCATIONAL_PERCENTAGE                    0.807080  \n",
              "FITNESS                                  -0.814303  \n",
              "HANDICAP                                 -0.019188  \n",
              "SEX                                       0.063717  \n",
              "POSSIBILITY_OF_ADMISSION                  1.000000  "
            ],
            "text/html": [
              "\n",
              "  <div id=\"df-5b0dc7b4-e057-4053-bbf1-7fb65cf3e187\">\n",
              "    <div class=\"colab-df-container\">\n",
              "      <div>\n",
              "<style scoped>\n",
              "    .dataframe tbody tr th:only-of-type {\n",
              "        vertical-align: middle;\n",
              "    }\n",
              "\n",
              "    .dataframe tbody tr th {\n",
              "        vertical-align: top;\n",
              "    }\n",
              "\n",
              "    .dataframe thead th {\n",
              "        text-align: right;\n",
              "    }\n",
              "</style>\n",
              "<table border=\"1\" class=\"dataframe\">\n",
              "  <thead>\n",
              "    <tr style=\"text-align: right;\">\n",
              "      <th></th>\n",
              "      <th>AGE</th>\n",
              "      <th>SPORT_PARTICIPANT</th>\n",
              "      <th>EDUCATIONAL_PERCENTAGE</th>\n",
              "      <th>FITNESS</th>\n",
              "      <th>HANDICAP</th>\n",
              "      <th>SEX</th>\n",
              "      <th>POSSIBILITY_OF_ADMISSION</th>\n",
              "    </tr>\n",
              "  </thead>\n",
              "  <tbody>\n",
              "    <tr>\n",
              "      <th>AGE</th>\n",
              "      <td>1.000000</td>\n",
              "      <td>-0.045400</td>\n",
              "      <td>0.024766</td>\n",
              "      <td>-0.046817</td>\n",
              "      <td>-0.006680</td>\n",
              "      <td>-0.067042</td>\n",
              "      <td>0.048531</td>\n",
              "    </tr>\n",
              "    <tr>\n",
              "      <th>SPORT_PARTICIPANT</th>\n",
              "      <td>-0.045400</td>\n",
              "      <td>1.000000</td>\n",
              "      <td>-0.705640</td>\n",
              "      <td>0.884424</td>\n",
              "      <td>0.006933</td>\n",
              "      <td>-0.059454</td>\n",
              "      <td>-0.920716</td>\n",
              "    </tr>\n",
              "    <tr>\n",
              "      <th>EDUCATIONAL_PERCENTAGE</th>\n",
              "      <td>0.024766</td>\n",
              "      <td>-0.705640</td>\n",
              "      <td>1.000000</td>\n",
              "      <td>-0.619711</td>\n",
              "      <td>0.022773</td>\n",
              "      <td>0.088343</td>\n",
              "      <td>0.807080</td>\n",
              "    </tr>\n",
              "    <tr>\n",
              "      <th>FITNESS</th>\n",
              "      <td>-0.046817</td>\n",
              "      <td>0.884424</td>\n",
              "      <td>-0.619711</td>\n",
              "      <td>1.000000</td>\n",
              "      <td>0.010693</td>\n",
              "      <td>-0.050005</td>\n",
              "      <td>-0.814303</td>\n",
              "    </tr>\n",
              "    <tr>\n",
              "      <th>HANDICAP</th>\n",
              "      <td>-0.006680</td>\n",
              "      <td>0.006933</td>\n",
              "      <td>0.022773</td>\n",
              "      <td>0.010693</td>\n",
              "      <td>1.000000</td>\n",
              "      <td>-0.001053</td>\n",
              "      <td>-0.019188</td>\n",
              "    </tr>\n",
              "    <tr>\n",
              "      <th>SEX</th>\n",
              "      <td>-0.067042</td>\n",
              "      <td>-0.059454</td>\n",
              "      <td>0.088343</td>\n",
              "      <td>-0.050005</td>\n",
              "      <td>-0.001053</td>\n",
              "      <td>1.000000</td>\n",
              "      <td>0.063717</td>\n",
              "    </tr>\n",
              "    <tr>\n",
              "      <th>POSSIBILITY_OF_ADMISSION</th>\n",
              "      <td>0.048531</td>\n",
              "      <td>-0.920716</td>\n",
              "      <td>0.807080</td>\n",
              "      <td>-0.814303</td>\n",
              "      <td>-0.019188</td>\n",
              "      <td>0.063717</td>\n",
              "      <td>1.000000</td>\n",
              "    </tr>\n",
              "  </tbody>\n",
              "</table>\n",
              "</div>\n",
              "      <button class=\"colab-df-convert\" onclick=\"convertToInteractive('df-5b0dc7b4-e057-4053-bbf1-7fb65cf3e187')\"\n",
              "              title=\"Convert this dataframe to an interactive table.\"\n",
              "              style=\"display:none;\">\n",
              "        \n",
              "  <svg xmlns=\"http://www.w3.org/2000/svg\" height=\"24px\"viewBox=\"0 0 24 24\"\n",
              "       width=\"24px\">\n",
              "    <path d=\"M0 0h24v24H0V0z\" fill=\"none\"/>\n",
              "    <path d=\"M18.56 5.44l.94 2.06.94-2.06 2.06-.94-2.06-.94-.94-2.06-.94 2.06-2.06.94zm-11 1L8.5 8.5l.94-2.06 2.06-.94-2.06-.94L8.5 2.5l-.94 2.06-2.06.94zm10 10l.94 2.06.94-2.06 2.06-.94-2.06-.94-.94-2.06-.94 2.06-2.06.94z\"/><path d=\"M17.41 7.96l-1.37-1.37c-.4-.4-.92-.59-1.43-.59-.52 0-1.04.2-1.43.59L10.3 9.45l-7.72 7.72c-.78.78-.78 2.05 0 2.83L4 21.41c.39.39.9.59 1.41.59.51 0 1.02-.2 1.41-.59l7.78-7.78 2.81-2.81c.8-.78.8-2.07 0-2.86zM5.41 20L4 18.59l7.72-7.72 1.47 1.35L5.41 20z\"/>\n",
              "  </svg>\n",
              "      </button>\n",
              "      \n",
              "  <style>\n",
              "    .colab-df-container {\n",
              "      display:flex;\n",
              "      flex-wrap:wrap;\n",
              "      gap: 12px;\n",
              "    }\n",
              "\n",
              "    .colab-df-convert {\n",
              "      background-color: #E8F0FE;\n",
              "      border: none;\n",
              "      border-radius: 50%;\n",
              "      cursor: pointer;\n",
              "      display: none;\n",
              "      fill: #1967D2;\n",
              "      height: 32px;\n",
              "      padding: 0 0 0 0;\n",
              "      width: 32px;\n",
              "    }\n",
              "\n",
              "    .colab-df-convert:hover {\n",
              "      background-color: #E2EBFA;\n",
              "      box-shadow: 0px 1px 2px rgba(60, 64, 67, 0.3), 0px 1px 3px 1px rgba(60, 64, 67, 0.15);\n",
              "      fill: #174EA6;\n",
              "    }\n",
              "\n",
              "    [theme=dark] .colab-df-convert {\n",
              "      background-color: #3B4455;\n",
              "      fill: #D2E3FC;\n",
              "    }\n",
              "\n",
              "    [theme=dark] .colab-df-convert:hover {\n",
              "      background-color: #434B5C;\n",
              "      box-shadow: 0px 1px 3px 1px rgba(0, 0, 0, 0.15);\n",
              "      filter: drop-shadow(0px 1px 2px rgba(0, 0, 0, 0.3));\n",
              "      fill: #FFFFFF;\n",
              "    }\n",
              "  </style>\n",
              "\n",
              "      <script>\n",
              "        const buttonEl =\n",
              "          document.querySelector('#df-5b0dc7b4-e057-4053-bbf1-7fb65cf3e187 button.colab-df-convert');\n",
              "        buttonEl.style.display =\n",
              "          google.colab.kernel.accessAllowed ? 'block' : 'none';\n",
              "\n",
              "        async function convertToInteractive(key) {\n",
              "          const element = document.querySelector('#df-5b0dc7b4-e057-4053-bbf1-7fb65cf3e187');\n",
              "          const dataTable =\n",
              "            await google.colab.kernel.invokeFunction('convertToInteractive',\n",
              "                                                     [key], {});\n",
              "          if (!dataTable) return;\n",
              "\n",
              "          const docLinkHtml = 'Like what you see? Visit the ' +\n",
              "            '<a target=\"_blank\" href=https://colab.research.google.com/notebooks/data_table.ipynb>data table notebook</a>'\n",
              "            + ' to learn more about interactive tables.';\n",
              "          element.innerHTML = '';\n",
              "          dataTable['output_type'] = 'display_data';\n",
              "          await google.colab.output.renderOutput(dataTable, element);\n",
              "          const docLink = document.createElement('div');\n",
              "          docLink.innerHTML = docLinkHtml;\n",
              "          element.appendChild(docLink);\n",
              "        }\n",
              "      </script>\n",
              "    </div>\n",
              "  </div>\n",
              "  "
            ]
          },
          "metadata": {},
          "execution_count": 155
        }
      ]
    },
    {
      "cell_type": "markdown",
      "source": [
        "***EXPLORATORY DATA ANALYSIS***\n",
        "\n",
        "---\n",
        "\n",
        "\n",
        "\n",
        "---\n",
        "\n",
        "\n",
        "\n",
        "---\n",
        "\n"
      ],
      "metadata": {
        "id": "Ros1lEBpds3v"
      }
    },
    {
      "cell_type": "code",
      "source": [
        "df.columns"
      ],
      "metadata": {
        "colab": {
          "base_uri": "https://localhost:8080/"
        },
        "id": "mnTGP1VZVxd7",
        "outputId": "6d6356df-2b1f-49db-b906-ee714e310ac7"
      },
      "execution_count": 156,
      "outputs": [
        {
          "output_type": "execute_result",
          "data": {
            "text/plain": [
              "Index(['AGE', 'SPORT_PARTICIPANT', 'EDUCATIONAL_PERCENTAGE', 'FITNESS',\n",
              "       'HANDICAP', 'SEX', 'POSSIBILITY_OF_ADMISSION'],\n",
              "      dtype='object')"
            ]
          },
          "metadata": {},
          "execution_count": 156
        }
      ]
    },
    {
      "cell_type": "code",
      "source": [
        "df.hist(xrot=20,figsize=(20,10),color = \"cyan\")\n",
        "plt.show()"
      ],
      "metadata": {
        "colab": {
          "base_uri": "https://localhost:8080/",
          "height": 615
        },
        "id": "ZYJ7NB2feiD_",
        "outputId": "f25c7809-bda5-4275-860c-5c2fb6f66799"
      },
      "execution_count": 157,
      "outputs": [
        {
          "output_type": "display_data",
          "data": {
            "text/plain": [
              "<Figure size 1440x720 with 9 Axes>"
            ],
            "image/png": "[encoded data removed]"
          },
          "metadata": {}
        }
      ]
    },
    {
      "cell_type": "code",
      "source": [
        "sns.countplot(df['AGE'])\n",
        "fig = plt.gcf()\n",
        "fig.set_size_inches(6,6)\n",
        "plt.title('AGE COUNT')\n",
        "plt.show()"
      ],
      "metadata": {
        "colab": {
          "base_uri": "https://localhost:8080/",
          "height": 465
        },
        "id": "lwTY3y7veogg",
        "outputId": "3770eee0-879e-4c16-ce42-a437dc357b14"
      },
      "execution_count": 158,
      "outputs": [
        {
          "output_type": "stream",
          "name": "stderr",
          "text": [
            "/usr/local/lib/python3.7/dist-packages/seaborn/_decorators.py:43: FutureWarning: Pass the following variable as a keyword arg: x. From version 0.12, the only valid positional argument will be `data`, and passing other arguments without an explicit keyword will result in an error or misinterpretation.\n",
            "  FutureWarning\n"
          ]
        },
        {
          "output_type": "display_data",
          "data": {
            "text/plain": [
              "<Figure size 432x432 with 1 Axes>"
            ],
            "image/png": "[encoded data removed]"
          },
          "metadata": {}
        }
      ]
    },
    {
      "cell_type": "code",
      "source": [
        "sns.countplot(df['SPORT_PARTICIPANT'])\n",
        "fig = plt.gcf()\n",
        "fig.set_size_inches(6,6)\n",
        "plt.title('SPORT_PARTICIPANT')\n",
        "plt.show()"
      ],
      "metadata": {
        "colab": {
          "base_uri": "https://localhost:8080/",
          "height": 465
        },
        "id": "UXMOzLtjgQF-",
        "outputId": "16a6e081-93a4-4579-ccda-baf5e3ee65ce"
      },
      "execution_count": 159,
      "outputs": [
        {
          "output_type": "stream",
          "name": "stderr",
          "text": [
            "/usr/local/lib/python3.7/dist-packages/seaborn/_decorators.py:43: FutureWarning: Pass the following variable as a keyword arg: x. From version 0.12, the only valid positional argument will be `data`, and passing other arguments without an explicit keyword will result in an error or misinterpretation.\n",
            "  FutureWarning\n"
          ]
        },
        {
          "output_type": "display_data",
          "data": {
            "text/plain": [
              "<Figure size 432x432 with 1 Axes>"
            ],
            "image/png": "[encoded data removed]"
          },
          "metadata": {}
        }
      ]
    },
    {
      "cell_type": "code",
      "source": [
        "sns.countplot(df['HANDICAP'])\n",
        "fig = plt.gcf()\n",
        "fig.set_size_inches(6,6)\n",
        "plt.title('HANDICAP')\n",
        "plt.show()"
      ],
      "metadata": {
        "colab": {
          "base_uri": "https://localhost:8080/",
          "height": 465
        },
        "id": "si1cORF8gk74",
        "outputId": "e4c19783-bb20-40bc-be1c-dcb59ab60dba"
      },
      "execution_count": 160,
      "outputs": [
        {
          "output_type": "stream",
          "name": "stderr",
          "text": [
            "/usr/local/lib/python3.7/dist-packages/seaborn/_decorators.py:43: FutureWarning: Pass the following variable as a keyword arg: x. From version 0.12, the only valid positional argument will be `data`, and passing other arguments without an explicit keyword will result in an error or misinterpretation.\n",
            "  FutureWarning\n"
          ]
        },
        {
          "output_type": "display_data",
          "data": {
            "text/plain": [
              "<Figure size 432x432 with 1 Axes>"
            ],
            "image/png": "[encoded data removed]"
          },
          "metadata": {}
        }
      ]
    },
    {
      "cell_type": "code",
      "source": [
        "sns.countplot(df['FITNESS'])\n",
        "fig = plt.gcf()\n",
        "fig.set_size_inches(6,6)\n",
        "plt.title('FITNESS')\n",
        "plt.show()"
      ],
      "metadata": {
        "colab": {
          "base_uri": "https://localhost:8080/",
          "height": 465
        },
        "id": "IInE5x0rg8no",
        "outputId": "c2c36ab3-7efc-4e0c-c6e2-bcf3d2f97398"
      },
      "execution_count": 161,
      "outputs": [
        {
          "output_type": "stream",
          "name": "stderr",
          "text": [
            "/usr/local/lib/python3.7/dist-packages/seaborn/_decorators.py:43: FutureWarning: Pass the following variable as a keyword arg: x. From version 0.12, the only valid positional argument will be `data`, and passing other arguments without an explicit keyword will result in an error or misinterpretation.\n",
            "  FutureWarning\n"
          ]
        },
        {
          "output_type": "display_data",
          "data": {
            "text/plain": [
              "<Figure size 432x432 with 1 Axes>"
            ],
            "image/png": "[encoded data removed]"
          },
          "metadata": {}
        }
      ]
    },
    {
      "cell_type": "code",
      "source": [
        "sns.countplot(df['HANDICAP'])\n",
        "fig = plt.gcf()\n",
        "fig.set_size_inches(6,6)\n",
        "plt.title('HANDICAP')\n",
        "plt.show()"
      ],
      "metadata": {
        "colab": {
          "base_uri": "https://localhost:8080/",
          "height": 465
        },
        "id": "IsEqldn0hY23",
        "outputId": "7549a959-1016-4167-8ad6-b782d8d9560e"
      },
      "execution_count": 162,
      "outputs": [
        {
          "output_type": "stream",
          "name": "stderr",
          "text": [
            "/usr/local/lib/python3.7/dist-packages/seaborn/_decorators.py:43: FutureWarning: Pass the following variable as a keyword arg: x. From version 0.12, the only valid positional argument will be `data`, and passing other arguments without an explicit keyword will result in an error or misinterpretation.\n",
            "  FutureWarning\n"
          ]
        },
        {
          "output_type": "display_data",
          "data": {
            "text/plain": [
              "<Figure size 432x432 with 1 Axes>"
            ],
            "image/png": "[encoded data removed]"
          },
          "metadata": {}
        }
      ]
    },
    {
      "cell_type": "code",
      "source": [
        "plt.scatter(df['SPORT_PARTICIPANT'],df['EDUCATIONAL_PERCENTAGE'])"
      ],
      "metadata": {
        "colab": {
          "base_uri": "https://localhost:8080/",
          "height": 394
        },
        "id": "D7zc2FG3hqNV",
        "outputId": "ddc84521-92ba-40f1-fa45-86d11690e794"
      },
      "execution_count": 163,
      "outputs": [
        {
          "output_type": "execute_result",
          "data": {
            "text/plain": [
              "<matplotlib.collections.PathCollection at 0x7f8a7c7f6250>"
            ]
          },
          "metadata": {},
          "execution_count": 163
        },
        {
          "output_type": "display_data",
          "data": {
            "text/plain": [
              "<Figure size 432x432 with 1 Axes>"
            ],
            "image/png": "[encoded data removed]"
          },
          "metadata": {}
        }
      ]
    },
    {
      "cell_type": "code",
      "source": [
        "x=df.drop(['POSSIBILITY_OF_ADMISSION'],axis=1)\n",
        "y=df['POSSIBILITY_OF_ADMISSION']"
      ],
      "metadata": {
        "id": "ey3yQ3lgEh11"
      },
      "execution_count": 164,
      "outputs": []
    },
    {
      "cell_type": "markdown",
      "source": [
        "***MODEL SELECTION***"
      ],
      "metadata": {
        "id": "QIMNv5VyWG2B"
      }
    },
    {
      "cell_type": "markdown",
      "source": [
        "***1) Desision Tree Model***"
      ],
      "metadata": {
        "id": "giIxYwL07kMu"
      }
    },
    {
      "cell_type": "code",
      "source": [
        "from sklearn.tree import DecisionTreeClassifier"
      ],
      "metadata": {
        "id": "DuCLOLmA8JYs"
      },
      "execution_count": 165,
      "outputs": []
    },
    {
      "cell_type": "markdown",
      "source": [
        "***Training And Testing Data***"
      ],
      "metadata": {
        "id": "GDwrNcyW700D"
      }
    },
    {
      "cell_type": "code",
      "source": [
        "xtrain, xtest, ytrain, ytest=tts(x,y,test_size=.2,random_state=0)"
      ],
      "metadata": {
        "id": "0_uYQDAmWGg3"
      },
      "execution_count": 166,
      "outputs": []
    },
    {
      "cell_type": "code",
      "source": [
        "m=DecisionTreeClassifier()\n",
        "m.fit(xtrain, ytrain)"
      ],
      "metadata": {
        "id": "yvZ10GWVix7t",
        "colab": {
          "base_uri": "https://localhost:8080/"
        },
        "outputId": "05387089-fd01-4443-b5b5-f52b680f31c6"
      },
      "execution_count": 167,
      "outputs": [
        {
          "output_type": "execute_result",
          "data": {
            "text/plain": [
              "DecisionTreeClassifier()"
            ]
          },
          "metadata": {},
          "execution_count": 167
        }
      ]
    },
    {
      "cell_type": "code",
      "source": [
        "p=m.predict(xtest)"
      ],
      "metadata": {
        "id": "IQl9Zr1p4Kri"
      },
      "execution_count": 168,
      "outputs": []
    },
    {
      "cell_type": "code",
      "source": [
        "m.predict_proba(xtest)"
      ],
      "metadata": {
        "colab": {
          "base_uri": "https://localhost:8080/"
        },
        "id": "KrmZr9zo4Sop",
        "outputId": "64958a93-0cae-45db-d18d-63ab85a9ce6e"
      },
      "execution_count": 169,
      "outputs": [
        {
          "output_type": "execute_result",
          "data": {
            "text/plain": [
              "array([[0., 1.],\n",
              "       [1., 0.],\n",
              "       [1., 0.],\n",
              "       [1., 0.],\n",
              "       [1., 0.],\n",
              "       [1., 0.],\n",
              "       [1., 0.],\n",
              "       [1., 0.],\n",
              "       [1., 0.],\n",
              "       [0., 1.],\n",
              "       [0., 1.],\n",
              "       [1., 0.],\n",
              "       [1., 0.],\n",
              "       [1., 0.],\n",
              "       [1., 0.],\n",
              "       [0., 1.],\n",
              "       [0., 1.],\n",
              "       [0., 1.],\n",
              "       [0., 1.],\n",
              "       [1., 0.],\n",
              "       [1., 0.],\n",
              "       [1., 0.],\n",
              "       [1., 0.],\n",
              "       [1., 0.],\n",
              "       [1., 0.],\n",
              "       [1., 0.],\n",
              "       [1., 0.],\n",
              "       [1., 0.],\n",
              "       [1., 0.],\n",
              "       [0., 1.],\n",
              "       [1., 0.],\n",
              "       [0., 1.],\n",
              "       [0., 1.],\n",
              "       [0., 1.],\n",
              "       [0., 1.],\n",
              "       [1., 0.],\n",
              "       [1., 0.],\n",
              "       [1., 0.],\n",
              "       [1., 0.],\n",
              "       [1., 0.],\n",
              "       [1., 0.],\n",
              "       [0., 1.],\n",
              "       [1., 0.],\n",
              "       [1., 0.],\n",
              "       [1., 0.],\n",
              "       [1., 0.],\n",
              "       [0., 1.],\n",
              "       [1., 0.],\n",
              "       [0., 1.],\n",
              "       [1., 0.],\n",
              "       [1., 0.],\n",
              "       [0., 1.],\n",
              "       [0., 1.],\n",
              "       [1., 0.],\n",
              "       [1., 0.],\n",
              "       [1., 0.],\n",
              "       [0., 1.],\n",
              "       [1., 0.],\n",
              "       [0., 1.],\n",
              "       [0., 1.],\n",
              "       [0., 1.],\n",
              "       [0., 1.],\n",
              "       [1., 0.],\n",
              "       [1., 0.],\n",
              "       [0., 1.],\n",
              "       [0., 1.],\n",
              "       [1., 0.],\n",
              "       [1., 0.],\n",
              "       [1., 0.],\n",
              "       [1., 0.],\n",
              "       [1., 0.],\n",
              "       [0., 1.],\n",
              "       [1., 0.],\n",
              "       [1., 0.],\n",
              "       [1., 0.],\n",
              "       [0., 1.],\n",
              "       [1., 0.],\n",
              "       [1., 0.],\n",
              "       [1., 0.],\n",
              "       [1., 0.],\n",
              "       [1., 0.],\n",
              "       [1., 0.],\n",
              "       [1., 0.],\n",
              "       [1., 0.],\n",
              "       [0., 1.],\n",
              "       [1., 0.],\n",
              "       [1., 0.],\n",
              "       [0., 1.],\n",
              "       [1., 0.],\n",
              "       [1., 0.],\n",
              "       [1., 0.],\n",
              "       [1., 0.],\n",
              "       [1., 0.],\n",
              "       [1., 0.],\n",
              "       [0., 1.],\n",
              "       [1., 0.],\n",
              "       [1., 0.],\n",
              "       [0., 1.],\n",
              "       [1., 0.],\n",
              "       [1., 0.],\n",
              "       [1., 0.],\n",
              "       [1., 0.],\n",
              "       [0., 1.],\n",
              "       [0., 1.],\n",
              "       [1., 0.],\n",
              "       [0., 1.],\n",
              "       [0., 1.],\n",
              "       [1., 0.],\n",
              "       [1., 0.]])"
            ]
          },
          "metadata": {},
          "execution_count": 169
        }
      ]
    },
    {
      "cell_type": "markdown",
      "source": [
        "***Performance Prediction***"
      ],
      "metadata": {
        "id": "CA0hLVtm78F1"
      }
    },
    {
      "cell_type": "code",
      "source": [
        "accuracy_score(ytest,p)"
      ],
      "metadata": {
        "colab": {
          "base_uri": "https://localhost:8080/"
        },
        "id": "G5RAcjqm4Vwo",
        "outputId": "2f7bc0b5-1ddd-4a32-9309-f1c595547f7b"
      },
      "execution_count": 170,
      "outputs": [
        {
          "output_type": "execute_result",
          "data": {
            "text/plain": [
              "1.0"
            ]
          },
          "metadata": {},
          "execution_count": 170
        }
      ]
    },
    {
      "cell_type": "code",
      "source": [
        "m.score(xtrain, ytrain)"
      ],
      "metadata": {
        "colab": {
          "base_uri": "https://localhost:8080/"
        },
        "id": "kh2_Nvqc5GLn",
        "outputId": "655eee9b-9484-495a-ca12-dd24fa5ec885"
      },
      "execution_count": 171,
      "outputs": [
        {
          "output_type": "execute_result",
          "data": {
            "text/plain": [
              "1.0"
            ]
          },
          "metadata": {},
          "execution_count": 171
        }
      ]
    },
    {
      "cell_type": "code",
      "source": [
        "cm=confusion_matrix(ytest,p)\n",
        "sns.heatmap(pd.DataFrame(cm),annot=True,fmt='g')\n",
        "sns.set(rc={'figure.figsize':(3,3)})\n",
        "plt.tight_layout()\n",
        "plt.title('Confusion_Matrix',y=1.1)\n",
        "plt.ylabel('Actual Values')\n",
        "plt.xlabel('Predicted Value')"
      ],
      "metadata": {
        "colab": {
          "base_uri": "https://localhost:8080/",
          "height": 487
        },
        "id": "r92d70lU5UMB",
        "outputId": "ff3f2e57-30f0-4d1b-f377-43284d3e96cf"
      },
      "execution_count": 172,
      "outputs": [
        {
          "output_type": "execute_result",
          "data": {
            "text/plain": [
              "Text(0.5, 30.5, 'Predicted Value')"
            ]
          },
          "metadata": {},
          "execution_count": 172
        },
        {
          "output_type": "display_data",
          "data": {
            "text/plain": [
              "<Figure size 432x432 with 2 Axes>"
            ],
            "image/png": "[encoded data removed]"
          },
          "metadata": {}
        }
      ]
    },
    {
      "cell_type": "code",
      "source": [
        "z=classification_report(ytest,p)\n",
        "print(z)"
      ],
      "metadata": {
        "colab": {
          "base_uri": "https://localhost:8080/"
        },
        "id": "3zzJNM_m54v_",
        "outputId": "c7bdc4b3-e863-433e-f917-1bac2322eba0"
      },
      "execution_count": 173,
      "outputs": [
        {
          "output_type": "stream",
          "name": "stdout",
          "text": [
            "              precision    recall  f1-score   support\n",
            "\n",
            "           0       1.00      1.00      1.00        75\n",
            "           1       1.00      1.00      1.00        34\n",
            "\n",
            "    accuracy                           1.00       109\n",
            "   macro avg       1.00      1.00      1.00       109\n",
            "weighted avg       1.00      1.00      1.00       109\n",
            "\n"
          ]
        }
      ]
    },
    {
      "cell_type": "markdown",
      "source": [
        "***2) Random Forest Model***"
      ],
      "metadata": {
        "id": "yG8g0h-u7hIV"
      }
    },
    {
      "cell_type": "code",
      "source": [
        "from sklearn.ensemble import RandomForestClassifier"
      ],
      "metadata": {
        "id": "MmTSyXRG6D55"
      },
      "execution_count": 174,
      "outputs": []
    },
    {
      "cell_type": "code",
      "source": [
        "rm=RandomForestClassifier()\n",
        "rm.fit(xtrain, ytrain)"
      ],
      "metadata": {
        "colab": {
          "base_uri": "https://localhost:8080/"
        },
        "id": "3PxJUsSu8Q9h",
        "outputId": "1e0f1cf2-129c-4177-8425-13825a73bbf5"
      },
      "execution_count": 175,
      "outputs": [
        {
          "output_type": "execute_result",
          "data": {
            "text/plain": [
              "RandomForestClassifier()"
            ]
          },
          "metadata": {},
          "execution_count": 175
        }
      ]
    },
    {
      "cell_type": "code",
      "source": [
        "rp=rm.predict(xtest)"
      ],
      "metadata": {
        "id": "CdVR7lqX8aH0"
      },
      "execution_count": 176,
      "outputs": []
    },
    {
      "cell_type": "code",
      "source": [
        "rm.predict_proba(xtest)"
      ],
      "metadata": {
        "colab": {
          "base_uri": "https://localhost:8080/"
        },
        "id": "peEaY8gA8jLU",
        "outputId": "49ad782c-2b23-4a8d-f13e-2415245ffc6f"
      },
      "execution_count": 177,
      "outputs": [
        {
          "output_type": "execute_result",
          "data": {
            "text/plain": [
              "array([[0.  , 1.  ],\n",
              "       [1.  , 0.  ],\n",
              "       [1.  , 0.  ],\n",
              "       [1.  , 0.  ],\n",
              "       [1.  , 0.  ],\n",
              "       [1.  , 0.  ],\n",
              "       [0.95, 0.05],\n",
              "       [1.  , 0.  ],\n",
              "       [1.  , 0.  ],\n",
              "       [0.  , 1.  ],\n",
              "       [0.  , 1.  ],\n",
              "       [1.  , 0.  ],\n",
              "       [1.  , 0.  ],\n",
              "       [0.98, 0.02],\n",
              "       [0.55, 0.45],\n",
              "       [0.  , 1.  ],\n",
              "       [0.  , 1.  ],\n",
              "       [0.  , 1.  ],\n",
              "       [0.  , 1.  ],\n",
              "       [1.  , 0.  ],\n",
              "       [1.  , 0.  ],\n",
              "       [1.  , 0.  ],\n",
              "       [1.  , 0.  ],\n",
              "       [1.  , 0.  ],\n",
              "       [1.  , 0.  ],\n",
              "       [1.  , 0.  ],\n",
              "       [1.  , 0.  ],\n",
              "       [1.  , 0.  ],\n",
              "       [1.  , 0.  ],\n",
              "       [0.  , 1.  ],\n",
              "       [1.  , 0.  ],\n",
              "       [0.  , 1.  ],\n",
              "       [0.  , 1.  ],\n",
              "       [0.  , 1.  ],\n",
              "       [0.  , 1.  ],\n",
              "       [1.  , 0.  ],\n",
              "       [1.  , 0.  ],\n",
              "       [1.  , 0.  ],\n",
              "       [0.99, 0.01],\n",
              "       [1.  , 0.  ],\n",
              "       [1.  , 0.  ],\n",
              "       [0.  , 1.  ],\n",
              "       [0.83, 0.17],\n",
              "       [1.  , 0.  ],\n",
              "       [1.  , 0.  ],\n",
              "       [1.  , 0.  ],\n",
              "       [0.14, 0.86],\n",
              "       [1.  , 0.  ],\n",
              "       [0.  , 1.  ],\n",
              "       [0.88, 0.12],\n",
              "       [1.  , 0.  ],\n",
              "       [0.  , 1.  ],\n",
              "       [0.  , 1.  ],\n",
              "       [1.  , 0.  ],\n",
              "       [1.  , 0.  ],\n",
              "       [1.  , 0.  ],\n",
              "       [0.  , 1.  ],\n",
              "       [1.  , 0.  ],\n",
              "       [0.  , 1.  ],\n",
              "       [0.  , 1.  ],\n",
              "       [0.  , 1.  ],\n",
              "       [0.  , 1.  ],\n",
              "       [1.  , 0.  ],\n",
              "       [1.  , 0.  ],\n",
              "       [0.  , 1.  ],\n",
              "       [0.  , 1.  ],\n",
              "       [1.  , 0.  ],\n",
              "       [0.99, 0.01],\n",
              "       [1.  , 0.  ],\n",
              "       [1.  , 0.  ],\n",
              "       [1.  , 0.  ],\n",
              "       [0.  , 1.  ],\n",
              "       [0.99, 0.01],\n",
              "       [1.  , 0.  ],\n",
              "       [1.  , 0.  ],\n",
              "       [0.  , 1.  ],\n",
              "       [1.  , 0.  ],\n",
              "       [1.  , 0.  ],\n",
              "       [1.  , 0.  ],\n",
              "       [0.93, 0.07],\n",
              "       [1.  , 0.  ],\n",
              "       [1.  , 0.  ],\n",
              "       [1.  , 0.  ],\n",
              "       [0.99, 0.01],\n",
              "       [0.  , 1.  ],\n",
              "       [1.  , 0.  ],\n",
              "       [0.99, 0.01],\n",
              "       [0.  , 1.  ],\n",
              "       [1.  , 0.  ],\n",
              "       [1.  , 0.  ],\n",
              "       [1.  , 0.  ],\n",
              "       [1.  , 0.  ],\n",
              "       [1.  , 0.  ],\n",
              "       [1.  , 0.  ],\n",
              "       [0.  , 1.  ],\n",
              "       [1.  , 0.  ],\n",
              "       [1.  , 0.  ],\n",
              "       [0.  , 1.  ],\n",
              "       [1.  , 0.  ],\n",
              "       [1.  , 0.  ],\n",
              "       [1.  , 0.  ],\n",
              "       [1.  , 0.  ],\n",
              "       [0.  , 1.  ],\n",
              "       [0.  , 1.  ],\n",
              "       [1.  , 0.  ],\n",
              "       [0.  , 1.  ],\n",
              "       [0.02, 0.98],\n",
              "       [1.  , 0.  ],\n",
              "       [1.  , 0.  ]])"
            ]
          },
          "metadata": {},
          "execution_count": 177
        }
      ]
    },
    {
      "cell_type": "code",
      "source": [
        "accuracy_score(ytest,rp)"
      ],
      "metadata": {
        "colab": {
          "base_uri": "https://localhost:8080/"
        },
        "id": "vVOKQVCZ8qla",
        "outputId": "763bdc8c-1f56-4f34-ca02-283f6c125cdd"
      },
      "execution_count": 178,
      "outputs": [
        {
          "output_type": "execute_result",
          "data": {
            "text/plain": [
              "1.0"
            ]
          },
          "metadata": {},
          "execution_count": 178
        }
      ]
    },
    {
      "cell_type": "code",
      "source": [
        "rm.score(xtrain, ytrain)"
      ],
      "metadata": {
        "colab": {
          "base_uri": "https://localhost:8080/"
        },
        "id": "hzAm4Fc78pNn",
        "outputId": "ae5c8243-105e-4db3-cb2e-da11f0f227b4"
      },
      "execution_count": 179,
      "outputs": [
        {
          "output_type": "execute_result",
          "data": {
            "text/plain": [
              "1.0"
            ]
          },
          "metadata": {},
          "execution_count": 179
        }
      ]
    },
    {
      "cell_type": "code",
      "source": [
        "cr=confusion_matrix(ytest,rp)\n",
        "sns.heatmap(pd.DataFrame(cr),annot=True,fmt='g')\n",
        "sns.set(rc={'figure.figsize':(6,6)})\n",
        "plt.tight_layout()\n",
        "plt.title('Confusion_Matrix',y=1.1)\n",
        "plt.ylabel('Actual Values')\n",
        "plt.xlabel('Predicted Value')"
      ],
      "metadata": {
        "colab": {
          "base_uri": "https://localhost:8080/",
          "height": 271
        },
        "id": "8qdp1mOS88tU",
        "outputId": "7cbd1636-d6e1-46ab-c945-eb5aa6269bdb"
      },
      "execution_count": 180,
      "outputs": [
        {
          "output_type": "execute_result",
          "data": {
            "text/plain": [
              "Text(0.5, 3.5, 'Predicted Value')"
            ]
          },
          "metadata": {},
          "execution_count": 180
        },
        {
          "output_type": "display_data",
          "data": {
            "text/plain": [
              "<Figure size 216x216 with 2 Axes>"
            ],
            "image/png": "[encoded data removed]"
          },
          "metadata": {}
        }
      ]
    },
    {
      "cell_type": "code",
      "source": [
        "z1=classification_report(ytest,rp)\n",
        "print(z1)"
      ],
      "metadata": {
        "colab": {
          "base_uri": "https://localhost:8080/"
        },
        "id": "2NwADGqc-zWP",
        "outputId": "92631dbe-b77d-4961-b96e-4d4ef62b06df"
      },
      "execution_count": 181,
      "outputs": [
        {
          "output_type": "stream",
          "name": "stdout",
          "text": [
            "              precision    recall  f1-score   support\n",
            "\n",
            "           0       1.00      1.00      1.00        75\n",
            "           1       1.00      1.00      1.00        34\n",
            "\n",
            "    accuracy                           1.00       109\n",
            "   macro avg       1.00      1.00      1.00       109\n",
            "weighted avg       1.00      1.00      1.00       109\n",
            "\n"
          ]
        }
      ]
    },
    {
      "cell_type": "markdown",
      "source": [
        "***3)Gradient Boosting***"
      ],
      "metadata": {
        "id": "P7LrT7ZQ-sVM"
      }
    },
    {
      "cell_type": "code",
      "source": [
        "from sklearn.ensemble import GradientBoostingClassifier"
      ],
      "metadata": {
        "id": "V4ti66r7QuuW"
      },
      "execution_count": 182,
      "outputs": []
    },
    {
      "cell_type": "code",
      "source": [
        "gm=GradientBoostingClassifier()"
      ],
      "metadata": {
        "id": "gCGThXOoQ7wg"
      },
      "execution_count": 183,
      "outputs": []
    },
    {
      "cell_type": "code",
      "source": [
        "gm.fit(xtrain, ytrain)"
      ],
      "metadata": {
        "colab": {
          "base_uri": "https://localhost:8080/"
        },
        "id": "E7bOKRSwRFt7",
        "outputId": "2f44cb45-ee4a-431e-c114-ad157a3b75b9"
      },
      "execution_count": 184,
      "outputs": [
        {
          "output_type": "execute_result",
          "data": {
            "text/plain": [
              "GradientBoostingClassifier()"
            ]
          },
          "metadata": {},
          "execution_count": 184
        }
      ]
    },
    {
      "cell_type": "code",
      "source": [
        "gp=gm.predict(xtest)"
      ],
      "metadata": {
        "id": "wmBeuP0sRKsL"
      },
      "execution_count": 185,
      "outputs": []
    },
    {
      "cell_type": "code",
      "source": [
        "gm.predict_proba(xtest)"
      ],
      "metadata": {
        "colab": {
          "base_uri": "https://localhost:8080/"
        },
        "id": "qySrKZ94RNEt",
        "outputId": "f77bec85-7325-4cea-92a5-284184b1f600"
      },
      "execution_count": 186,
      "outputs": [
        {
          "output_type": "execute_result",
          "data": {
            "text/plain": [
              "array([[2.71412215e-05, 9.99972859e-01],\n",
              "       [9.99983580e-01, 1.64202735e-05],\n",
              "       [9.99983580e-01, 1.64202735e-05],\n",
              "       [9.99983580e-01, 1.64202735e-05],\n",
              "       [9.99983580e-01, 1.64202735e-05],\n",
              "       [9.99983580e-01, 1.64202735e-05],\n",
              "       [9.99983580e-01, 1.64202735e-05],\n",
              "       [9.99983580e-01, 1.64202735e-05],\n",
              "       [9.99983580e-01, 1.64202735e-05],\n",
              "       [2.71412215e-05, 9.99972859e-01],\n",
              "       [2.71412215e-05, 9.99972859e-01],\n",
              "       [9.99983580e-01, 1.64202735e-05],\n",
              "       [9.99983580e-01, 1.64202735e-05],\n",
              "       [9.99983580e-01, 1.64202735e-05],\n",
              "       [9.99983580e-01, 1.64202735e-05],\n",
              "       [2.71412215e-05, 9.99972859e-01],\n",
              "       [2.71412215e-05, 9.99972859e-01],\n",
              "       [2.71412215e-05, 9.99972859e-01],\n",
              "       [2.71412215e-05, 9.99972859e-01],\n",
              "       [9.99983580e-01, 1.64202735e-05],\n",
              "       [9.99983580e-01, 1.64202735e-05],\n",
              "       [9.99983580e-01, 1.64202735e-05],\n",
              "       [9.99983580e-01, 1.64202735e-05],\n",
              "       [9.99983580e-01, 1.64202735e-05],\n",
              "       [9.99983580e-01, 1.64202735e-05],\n",
              "       [9.99983580e-01, 1.64202735e-05],\n",
              "       [9.99983580e-01, 1.64202735e-05],\n",
              "       [9.99983580e-01, 1.64202735e-05],\n",
              "       [9.99983580e-01, 1.64202735e-05],\n",
              "       [2.71412215e-05, 9.99972859e-01],\n",
              "       [9.99983580e-01, 1.64202735e-05],\n",
              "       [2.71412215e-05, 9.99972859e-01],\n",
              "       [2.71412215e-05, 9.99972859e-01],\n",
              "       [2.71412215e-05, 9.99972859e-01],\n",
              "       [2.71412215e-05, 9.99972859e-01],\n",
              "       [9.99983580e-01, 1.64202735e-05],\n",
              "       [9.99983580e-01, 1.64202735e-05],\n",
              "       [9.99983580e-01, 1.64202735e-05],\n",
              "       [9.99983580e-01, 1.64202735e-05],\n",
              "       [9.99983580e-01, 1.64202735e-05],\n",
              "       [9.99983580e-01, 1.64202735e-05],\n",
              "       [2.71412215e-05, 9.99972859e-01],\n",
              "       [9.99983580e-01, 1.64202735e-05],\n",
              "       [9.99983580e-01, 1.64202735e-05],\n",
              "       [9.99983580e-01, 1.64202735e-05],\n",
              "       [9.99983580e-01, 1.64202735e-05],\n",
              "       [2.71412215e-05, 9.99972859e-01],\n",
              "       [9.99983580e-01, 1.64202735e-05],\n",
              "       [2.71412215e-05, 9.99972859e-01],\n",
              "       [9.99983580e-01, 1.64202735e-05],\n",
              "       [9.99983580e-01, 1.64202735e-05],\n",
              "       [2.71412215e-05, 9.99972859e-01],\n",
              "       [2.71412215e-05, 9.99972859e-01],\n",
              "       [9.99983580e-01, 1.64202735e-05],\n",
              "       [9.99983580e-01, 1.64202735e-05],\n",
              "       [9.99983580e-01, 1.64202735e-05],\n",
              "       [2.71412215e-05, 9.99972859e-01],\n",
              "       [9.99983580e-01, 1.64202735e-05],\n",
              "       [2.71412215e-05, 9.99972859e-01],\n",
              "       [2.71412215e-05, 9.99972859e-01],\n",
              "       [2.71412215e-05, 9.99972859e-01],\n",
              "       [2.71412215e-05, 9.99972859e-01],\n",
              "       [9.99983580e-01, 1.64202735e-05],\n",
              "       [9.99983580e-01, 1.64202735e-05],\n",
              "       [2.71412215e-05, 9.99972859e-01],\n",
              "       [2.71412215e-05, 9.99972859e-01],\n",
              "       [9.99983580e-01, 1.64202735e-05],\n",
              "       [9.99983580e-01, 1.64202735e-05],\n",
              "       [9.99983580e-01, 1.64202735e-05],\n",
              "       [9.99983580e-01, 1.64202735e-05],\n",
              "       [9.99983580e-01, 1.64202735e-05],\n",
              "       [2.71412215e-05, 9.99972859e-01],\n",
              "       [9.99983580e-01, 1.64202735e-05],\n",
              "       [9.99983580e-01, 1.64202735e-05],\n",
              "       [9.99983580e-01, 1.64202735e-05],\n",
              "       [2.71412215e-05, 9.99972859e-01],\n",
              "       [9.99983580e-01, 1.64202735e-05],\n",
              "       [9.99983580e-01, 1.64202735e-05],\n",
              "       [9.99983580e-01, 1.64202735e-05],\n",
              "       [9.99983580e-01, 1.64202735e-05],\n",
              "       [9.99983580e-01, 1.64202735e-05],\n",
              "       [9.99983580e-01, 1.64202735e-05],\n",
              "       [9.99983580e-01, 1.64202735e-05],\n",
              "       [9.99983580e-01, 1.64202735e-05],\n",
              "       [2.71412215e-05, 9.99972859e-01],\n",
              "       [9.99983580e-01, 1.64202735e-05],\n",
              "       [9.99983580e-01, 1.64202735e-05],\n",
              "       [2.71412215e-05, 9.99972859e-01],\n",
              "       [9.99983580e-01, 1.64202735e-05],\n",
              "       [9.99983580e-01, 1.64202735e-05],\n",
              "       [9.99983580e-01, 1.64202735e-05],\n",
              "       [9.99983580e-01, 1.64202735e-05],\n",
              "       [9.99983580e-01, 1.64202735e-05],\n",
              "       [9.99983580e-01, 1.64202735e-05],\n",
              "       [2.71412215e-05, 9.99972859e-01],\n",
              "       [9.99983580e-01, 1.64202735e-05],\n",
              "       [9.99983580e-01, 1.64202735e-05],\n",
              "       [2.71412215e-05, 9.99972859e-01],\n",
              "       [9.99983580e-01, 1.64202735e-05],\n",
              "       [9.99983580e-01, 1.64202735e-05],\n",
              "       [9.99983580e-01, 1.64202735e-05],\n",
              "       [9.99983580e-01, 1.64202735e-05],\n",
              "       [2.71412215e-05, 9.99972859e-01],\n",
              "       [2.71412215e-05, 9.99972859e-01],\n",
              "       [9.99983580e-01, 1.64202735e-05],\n",
              "       [2.71412215e-05, 9.99972859e-01],\n",
              "       [2.71412215e-05, 9.99972859e-01],\n",
              "       [9.99983580e-01, 1.64202735e-05],\n",
              "       [9.99983580e-01, 1.64202735e-05]])"
            ]
          },
          "metadata": {},
          "execution_count": 186
        }
      ]
    },
    {
      "cell_type": "code",
      "source": [
        "accuracy_score(ytest,gp)"
      ],
      "metadata": {
        "colab": {
          "base_uri": "https://localhost:8080/"
        },
        "id": "CY56nV0vRPZt",
        "outputId": "9618cf01-82f8-48bb-cff2-2843067aad56"
      },
      "execution_count": 187,
      "outputs": [
        {
          "output_type": "execute_result",
          "data": {
            "text/plain": [
              "1.0"
            ]
          },
          "metadata": {},
          "execution_count": 187
        }
      ]
    },
    {
      "cell_type": "code",
      "source": [
        "gm.score(xtrain, ytrain)"
      ],
      "metadata": {
        "colab": {
          "base_uri": "https://localhost:8080/"
        },
        "id": "tGI-ZKwbSmMA",
        "outputId": "ce1df343-fc03-4965-c093-6393924e1446"
      },
      "execution_count": 188,
      "outputs": [
        {
          "output_type": "execute_result",
          "data": {
            "text/plain": [
              "1.0"
            ]
          },
          "metadata": {},
          "execution_count": 188
        }
      ]
    },
    {
      "cell_type": "code",
      "source": [
        "cg=confusion_matrix(ytest,gp)\n",
        "sns.heatmap(pd.DataFrame(cg),annot=True,fmt='g')\n",
        "sns.set(rc={'figure.figsize':(3,3)})\n",
        "plt.tight_layout()\n",
        "plt.title('Confusion_Matrix',y=1.1)\n",
        "plt.ylabel('Actual Values')\n",
        "plt.xlabel('Predicted Value')"
      ],
      "metadata": {
        "colab": {
          "base_uri": "https://localhost:8080/",
          "height": 487
        },
        "id": "4GPJhdR3RVlu",
        "outputId": "4e71759a-5487-45eb-b405-f5baad821c1f"
      },
      "execution_count": 189,
      "outputs": [
        {
          "output_type": "execute_result",
          "data": {
            "text/plain": [
              "Text(0.5, 30.5, 'Predicted Value')"
            ]
          },
          "metadata": {},
          "execution_count": 189
        },
        {
          "output_type": "display_data",
          "data": {
            "text/plain": [
              "<Figure size 432x432 with 2 Axes>"
            ],
            "image/png": "[encoded data removed]"
          },
          "metadata": {}
        }
      ]
    },
    {
      "cell_type": "code",
      "source": [
        "zz=classification_report(ytest,gp)\n",
        "print(zz)"
      ],
      "metadata": {
        "colab": {
          "base_uri": "https://localhost:8080/"
        },
        "id": "_Tjdz5S6Rh7b",
        "outputId": "25aee906-b3fd-459e-83ba-cf85f3407e92"
      },
      "execution_count": 190,
      "outputs": [
        {
          "output_type": "stream",
          "name": "stdout",
          "text": [
            "              precision    recall  f1-score   support\n",
            "\n",
            "           0       1.00      1.00      1.00        75\n",
            "           1       1.00      1.00      1.00        34\n",
            "\n",
            "    accuracy                           1.00       109\n",
            "   macro avg       1.00      1.00      1.00       109\n",
            "weighted avg       1.00      1.00      1.00       109\n",
            "\n"
          ]
        }
      ]
    },
    {
      "cell_type": "markdown",
      "source": [
        "***4) Support Vector Machine***"
      ],
      "metadata": {
        "id": "H3oEqSAEJv8a"
      }
    },
    {
      "cell_type": "code",
      "source": [
        "from sklearn.neighbors import KNeighborsClassifier"
      ],
      "metadata": {
        "id": "zZV47SrEStzQ"
      },
      "execution_count": 191,
      "outputs": []
    },
    {
      "cell_type": "code",
      "source": [
        "sm=KNeighborsClassifier()"
      ],
      "metadata": {
        "id": "NHrWlBcuKLye"
      },
      "execution_count": 192,
      "outputs": []
    },
    {
      "cell_type": "code",
      "source": [
        "sm.fit(xtrain, ytrain)"
      ],
      "metadata": {
        "colab": {
          "base_uri": "https://localhost:8080/"
        },
        "id": "nS5NE9oELpPe",
        "outputId": "2298b677-6f39-4433-9e19-3afdde446e50"
      },
      "execution_count": 193,
      "outputs": [
        {
          "output_type": "execute_result",
          "data": {
            "text/plain": [
              "KNeighborsClassifier()"
            ]
          },
          "metadata": {},
          "execution_count": 193
        }
      ]
    },
    {
      "cell_type": "code",
      "source": [
        "sp=sm.predict(xtest)"
      ],
      "metadata": {
        "id": "jI9QaBGBLsBL"
      },
      "execution_count": 194,
      "outputs": []
    },
    {
      "cell_type": "code",
      "source": [
        "accuracy_score(ytest,sp)"
      ],
      "metadata": {
        "colab": {
          "base_uri": "https://localhost:8080/"
        },
        "id": "JYJ_H_IQLwNA",
        "outputId": "eed09a72-00d9-42c0-a205-a662c673c5b3"
      },
      "execution_count": 195,
      "outputs": [
        {
          "output_type": "execute_result",
          "data": {
            "text/plain": [
              "0.981651376146789"
            ]
          },
          "metadata": {},
          "execution_count": 195
        }
      ]
    },
    {
      "cell_type": "code",
      "source": [
        "sm.score(xtrain, ytrain)"
      ],
      "metadata": {
        "colab": {
          "base_uri": "https://localhost:8080/"
        },
        "id": "9zgWpV5L-EP7",
        "outputId": "fc504141-325e-4bc7-9db9-3fe1f4b7377a"
      },
      "execution_count": 196,
      "outputs": [
        {
          "output_type": "execute_result",
          "data": {
            "text/plain": [
              "0.9791666666666666"
            ]
          },
          "metadata": {},
          "execution_count": 196
        }
      ]
    },
    {
      "cell_type": "code",
      "source": [
        "sr=confusion_matrix(ytest,sp)\n",
        "sns.heatmap(pd.DataFrame(sr),annot=True,fmt='g')\n",
        "sns.set(rc={'figure.figsize':(3,3)})\n",
        "plt.tight_layout()\n",
        "plt.title('Confusion_Matrix',y=1.1)\n",
        "plt.ylabel('Actual Values')\n",
        "plt.xlabel('Predicted Value')"
      ],
      "metadata": {
        "colab": {
          "base_uri": "https://localhost:8080/",
          "height": 271
        },
        "id": "Xlzf3z9DxYeo",
        "outputId": "f9ee8441-ecbf-4fe9-b9e6-d6f9fc857e74"
      },
      "execution_count": 197,
      "outputs": [
        {
          "output_type": "execute_result",
          "data": {
            "text/plain": [
              "Text(0.5, 3.5, 'Predicted Value')"
            ]
          },
          "metadata": {},
          "execution_count": 197
        },
        {
          "output_type": "display_data",
          "data": {
            "text/plain": [
              "<Figure size 216x216 with 2 Axes>"
            ],
            "image/png": "[encoded data removed]"
          },
          "metadata": {}
        }
      ]
    },
    {
      "cell_type": "code",
      "source": [
        "z2=classification_report(ytest, sp)\n",
        "print(z2)"
      ],
      "metadata": {
        "colab": {
          "base_uri": "https://localhost:8080/"
        },
        "id": "pdrW4d0d_AQm",
        "outputId": "1a236e05-da16-40ff-cdee-158efcd721ba"
      },
      "execution_count": 198,
      "outputs": [
        {
          "output_type": "stream",
          "name": "stdout",
          "text": [
            "              precision    recall  f1-score   support\n",
            "\n",
            "           0       0.97      1.00      0.99        75\n",
            "           1       1.00      0.94      0.97        34\n",
            "\n",
            "    accuracy                           0.98       109\n",
            "   macro avg       0.99      0.97      0.98       109\n",
            "weighted avg       0.98      0.98      0.98       109\n",
            "\n"
          ]
        }
      ]
    },
    {
      "cell_type": "markdown",
      "source": [
        "***5)KNN***"
      ],
      "metadata": {
        "id": "xlEaPH9ywsV5"
      }
    },
    {
      "cell_type": "code",
      "source": [
        "from sklearn.neighbors import KNeighborsClassifier"
      ],
      "metadata": {
        "id": "VlkgxEh_wsBn"
      },
      "execution_count": 199,
      "outputs": []
    },
    {
      "cell_type": "code",
      "source": [
        "km=KNeighborsClassifier()\n",
        "km.fit(xtrain, ytrain)"
      ],
      "metadata": {
        "colab": {
          "base_uri": "https://localhost:8080/"
        },
        "id": "gIj4R9JoxD0u",
        "outputId": "be2325b7-64ed-48ae-bdac-22366091f085"
      },
      "execution_count": 200,
      "outputs": [
        {
          "output_type": "execute_result",
          "data": {
            "text/plain": [
              "KNeighborsClassifier()"
            ]
          },
          "metadata": {},
          "execution_count": 200
        }
      ]
    },
    {
      "cell_type": "code",
      "source": [
        "kp=km.predict(xtest)"
      ],
      "metadata": {
        "id": "nd2JGLhpxDqv"
      },
      "execution_count": 201,
      "outputs": []
    },
    {
      "cell_type": "code",
      "source": [
        "accuracy_score(ytest,kp)"
      ],
      "metadata": {
        "colab": {
          "base_uri": "https://localhost:8080/"
        },
        "id": "MumyeXldxOHG",
        "outputId": "5097b9e8-58c3-4c33-dafd-2d4ef80fe3a0"
      },
      "execution_count": 202,
      "outputs": [
        {
          "output_type": "execute_result",
          "data": {
            "text/plain": [
              "0.981651376146789"
            ]
          },
          "metadata": {},
          "execution_count": 202
        }
      ]
    },
    {
      "cell_type": "code",
      "source": [
        "km.score(xtrain, ytrain)"
      ],
      "metadata": {
        "colab": {
          "base_uri": "https://localhost:8080/"
        },
        "id": "xZJKQfUK9_ks",
        "outputId": "367ee8a5-b5b8-43a7-9850-d9d0e3396150"
      },
      "execution_count": 203,
      "outputs": [
        {
          "output_type": "execute_result",
          "data": {
            "text/plain": [
              "0.9791666666666666"
            ]
          },
          "metadata": {},
          "execution_count": 203
        }
      ]
    },
    {
      "cell_type": "code",
      "source": [
        "kr=confusion_matrix(ytest,kp)\n",
        "sns.heatmap(pd.DataFrame(kr),annot=True,fmt='g')\n",
        "sns.set(rc={'figure.figsize':(3,3)})\n",
        "plt.tight_layout()\n",
        "plt.title('Confusion_Matrix',y=1.1)\n",
        "plt.ylabel('Actual Values')\n",
        "plt.xlabel('Predicted Value')"
      ],
      "metadata": {
        "colab": {
          "base_uri": "https://localhost:8080/",
          "height": 271
        },
        "id": "sRZ5PzcKxN5M",
        "outputId": "3eac097a-dbd3-4155-f83f-ec731ca6dd47"
      },
      "execution_count": 204,
      "outputs": [
        {
          "output_type": "execute_result",
          "data": {
            "text/plain": [
              "Text(0.5, 3.5, 'Predicted Value')"
            ]
          },
          "metadata": {},
          "execution_count": 204
        },
        {
          "output_type": "display_data",
          "data": {
            "text/plain": [
              "<Figure size 216x216 with 2 Axes>"
            ],
            "image/png": "[encoded data removed]"
          },
          "metadata": {}
        }
      ]
    },
    {
      "cell_type": "code",
      "source": [
        "zzz=classification_report(ytest, kp)\n",
        "print(zzz)"
      ],
      "metadata": {
        "colab": {
          "base_uri": "https://localhost:8080/"
        },
        "id": "YG2acgv1xm1n",
        "outputId": "e8a37608-a6c2-46e7-aa9c-b779e7d7af48"
      },
      "execution_count": 205,
      "outputs": [
        {
          "output_type": "stream",
          "name": "stdout",
          "text": [
            "              precision    recall  f1-score   support\n",
            "\n",
            "           0       0.97      1.00      0.99        75\n",
            "           1       1.00      0.94      0.97        34\n",
            "\n",
            "    accuracy                           0.98       109\n",
            "   macro avg       0.99      0.97      0.98       109\n",
            "weighted avg       0.98      0.98      0.98       109\n",
            "\n"
          ]
        }
      ]
    },
    {
      "cell_type": "markdown",
      "source": [
        "***6)Naive Bayes***"
      ],
      "metadata": {
        "id": "x-jqhdaO9VgJ"
      }
    },
    {
      "cell_type": "code",
      "source": [
        "from sklearn.naive_bayes import GaussianNB"
      ],
      "metadata": {
        "id": "0sijN2pr9VAp"
      },
      "execution_count": 206,
      "outputs": []
    },
    {
      "cell_type": "code",
      "source": [
        "nm=GaussianNB()"
      ],
      "metadata": {
        "id": "JT_Wziz99pZx"
      },
      "execution_count": 207,
      "outputs": []
    },
    {
      "cell_type": "code",
      "source": [
        "nm.fit(xtrain, ytrain)"
      ],
      "metadata": {
        "colab": {
          "base_uri": "https://localhost:8080/"
        },
        "id": "lyW_vOPV9pW6",
        "outputId": "00b007c9-aa6e-4c39-db2c-c66fe31353ca"
      },
      "execution_count": 208,
      "outputs": [
        {
          "output_type": "execute_result",
          "data": {
            "text/plain": [
              "GaussianNB()"
            ]
          },
          "metadata": {},
          "execution_count": 208
        }
      ]
    },
    {
      "cell_type": "code",
      "source": [
        "np=gm.predict(xtest)"
      ],
      "metadata": {
        "id": "NUdQAC3Y9pUB"
      },
      "execution_count": 209,
      "outputs": []
    },
    {
      "cell_type": "code",
      "source": [
        "accuracy_score(ytest,np)"
      ],
      "metadata": {
        "colab": {
          "base_uri": "https://localhost:8080/"
        },
        "id": "Jer7Ro4w9pPZ",
        "outputId": "10ffe17b-9d79-4ba9-b543-4645a3025d63"
      },
      "execution_count": 210,
      "outputs": [
        {
          "output_type": "execute_result",
          "data": {
            "text/plain": [
              "1.0"
            ]
          },
          "metadata": {},
          "execution_count": 210
        }
      ]
    },
    {
      "cell_type": "code",
      "source": [
        "nm.score(xtrain, ytrain)"
      ],
      "metadata": {
        "colab": {
          "base_uri": "https://localhost:8080/"
        },
        "id": "9xtVOY4C9pG1",
        "outputId": "d2d7477f-8e4b-48eb-da41-13d48c7ef7f3"
      },
      "execution_count": 211,
      "outputs": [
        {
          "output_type": "execute_result",
          "data": {
            "text/plain": [
              "0.9629629629629629"
            ]
          },
          "metadata": {},
          "execution_count": 211
        }
      ]
    },
    {
      "cell_type": "code",
      "source": [
        "nr=confusion_matrix(ytest,np)\n",
        "sns.heatmap(pd.DataFrame(nr),annot=True,fmt='g')\n",
        "sns.set(rc={'figure.figsize':(3,3)})\n",
        "plt.tight_layout()\n",
        "plt.title('Confusion_Matrix',y=1.1)\n",
        "plt.ylabel('Actual Values')\n",
        "plt.xlabel('Predicted Value')"
      ],
      "metadata": {
        "colab": {
          "base_uri": "https://localhost:8080/",
          "height": 271
        },
        "id": "Zog5b5G-9o-g",
        "outputId": "1938642e-a65d-4b47-8ad9-2f9d82ca76d5"
      },
      "execution_count": 212,
      "outputs": [
        {
          "output_type": "execute_result",
          "data": {
            "text/plain": [
              "Text(0.5, 3.5, 'Predicted Value')"
            ]
          },
          "metadata": {},
          "execution_count": 212
        },
        {
          "output_type": "display_data",
          "data": {
            "text/plain": [
              "<Figure size 216x216 with 2 Axes>"
            ],
            "image/png": "[encoded data removed]"
          },
          "metadata": {}
        }
      ]
    },
    {
      "cell_type": "code",
      "source": [
        "z3=classification_report(ytest,np)\n",
        "print(z3)"
      ],
      "metadata": {
        "colab": {
          "base_uri": "https://localhost:8080/"
        },
        "id": "5uyAp4JK_Kyq",
        "outputId": "24efd468-d80d-4e95-9dc9-047113300aaa"
      },
      "execution_count": 213,
      "outputs": [
        {
          "output_type": "stream",
          "name": "stdout",
          "text": [
            "              precision    recall  f1-score   support\n",
            "\n",
            "           0       1.00      1.00      1.00        75\n",
            "           1       1.00      1.00      1.00        34\n",
            "\n",
            "    accuracy                           1.00       109\n",
            "   macro avg       1.00      1.00      1.00       109\n",
            "weighted avg       1.00      1.00      1.00       109\n",
            "\n"
          ]
        }
      ]
    },
    {
      "cell_type": "markdown",
      "source": [
        "***7)Logistic Regression***"
      ],
      "metadata": {
        "id": "SrW3njik_WLe"
      }
    },
    {
      "cell_type": "code",
      "source": [
        "from sklearn.linear_model import LogisticRegression"
      ],
      "metadata": {
        "id": "LAl2_kP1_alH"
      },
      "execution_count": 214,
      "outputs": []
    },
    {
      "cell_type": "code",
      "source": [
        "lm=LogisticRegression()\n",
        "lm.fit(xtrain, ytrain)"
      ],
      "metadata": {
        "colab": {
          "base_uri": "https://localhost:8080/"
        },
        "id": "oO3DRWjF_ajU",
        "outputId": "f3d36a85-a5db-48da-ab55-f3eb71cd726c"
      },
      "execution_count": 215,
      "outputs": [
        {
          "output_type": "execute_result",
          "data": {
            "text/plain": [
              "LogisticRegression()"
            ]
          },
          "metadata": {},
          "execution_count": 215
        }
      ]
    },
    {
      "cell_type": "code",
      "source": [
        "lp=lm.predict(xtest)"
      ],
      "metadata": {
        "id": "Xy5njTHT_agt"
      },
      "execution_count": 216,
      "outputs": []
    },
    {
      "cell_type": "code",
      "source": [
        "accuracy_score(ytest, lp)"
      ],
      "metadata": {
        "colab": {
          "base_uri": "https://localhost:8080/"
        },
        "id": "MjhS160N_acv",
        "outputId": "0d317ba2-552f-43fc-d317-5df6a160f624"
      },
      "execution_count": 217,
      "outputs": [
        {
          "output_type": "execute_result",
          "data": {
            "text/plain": [
              "1.0"
            ]
          },
          "metadata": {},
          "execution_count": 217
        }
      ]
    },
    {
      "cell_type": "code",
      "source": [
        "lm.score(xtrain, ytrain)"
      ],
      "metadata": {
        "colab": {
          "base_uri": "https://localhost:8080/"
        },
        "id": "6zc7yzzP_aY0",
        "outputId": "918eb4b3-e022-438d-c20e-db55fac6cedf"
      },
      "execution_count": 218,
      "outputs": [
        {
          "output_type": "execute_result",
          "data": {
            "text/plain": [
              "0.9953703703703703"
            ]
          },
          "metadata": {},
          "execution_count": 218
        }
      ]
    },
    {
      "cell_type": "code",
      "source": [
        "lr=confusion_matrix(ytest,lp)\n",
        "sns.heatmap(pd.DataFrame(lr),annot=True,fmt='g')\n",
        "sns.set(rc={'figure.figsize':(3,3)})\n",
        "plt.tight_layout()\n",
        "plt.title('Confusion_Matrix',y=1.1)\n",
        "plt.ylabel('Actual Values')\n",
        "plt.xlabel('Predicted Value')"
      ],
      "metadata": {
        "colab": {
          "base_uri": "https://localhost:8080/",
          "height": 271
        },
        "id": "yBi2lamT_aVS",
        "outputId": "328d1c70-6097-4135-e139-f6f375eaff97"
      },
      "execution_count": 219,
      "outputs": [
        {
          "output_type": "execute_result",
          "data": {
            "text/plain": [
              "Text(0.5, 3.5, 'Predicted Value')"
            ]
          },
          "metadata": {},
          "execution_count": 219
        },
        {
          "output_type": "display_data",
          "data": {
            "text/plain": [
              "<Figure size 216x216 with 2 Axes>"
            ],
            "image/png": "[encoded data removed]"
          },
          "metadata": {}
        }
      ]
    },
    {
      "cell_type": "code",
      "source": [
        "z4=classification_report(ytest, lp)\n",
        "print(z4)"
      ],
      "metadata": {
        "colab": {
          "base_uri": "https://localhost:8080/"
        },
        "id": "hrxF8qX8_aR3",
        "outputId": "20593764-5880-4c59-fe29-6568e04bf3b6"
      },
      "execution_count": 220,
      "outputs": [
        {
          "output_type": "stream",
          "name": "stdout",
          "text": [
            "              precision    recall  f1-score   support\n",
            "\n",
            "           0       1.00      1.00      1.00        75\n",
            "           1       1.00      1.00      1.00        34\n",
            "\n",
            "    accuracy                           1.00       109\n",
            "   macro avg       1.00      1.00      1.00       109\n",
            "weighted avg       1.00      1.00      1.00       109\n",
            "\n"
          ]
        }
      ]
    },
    {
      "cell_type": "markdown",
      "source": [
        "***Accuracy Scores of Different Models***"
      ],
      "metadata": {
        "id": "uePFTixc_-_O"
      }
    },
    {
      "cell_type": "code",
      "source": [
        "print('Accuracy Score Of Decision Tree Classifier',accuracy_score(ytest,p))\n",
        "print()\n",
        "print('Accuracy Score Of Random Forest Classifier',accuracy_score(ytest,rp))\n",
        "print()\n",
        "print('Accuracy Score Of Gradient Boosting Classifier',accuracy_score(ytest,gp))\n",
        "print()\n",
        "print('Accuracy Score Of Support Vector Machine',accuracy_score(ytest,sp))\n",
        "print()\n",
        "print('Accuracy Score Of KNeighbors Classifier',accuracy_score(ytest,kp))\n",
        "print()\n",
        "print('Accuracy Score Of Naive Bayes',accuracy_score(ytest,np))\n",
        "print()\n",
        "print('Accuracy Score Of Logistic Regression',accuracy_score(ytest,lp))"
      ],
      "metadata": {
        "colab": {
          "base_uri": "https://localhost:8080/"
        },
        "id": "BtkKckl9wlkS",
        "outputId": "6094fbc2-cb23-4b82-f31f-82950da9f9f7"
      },
      "execution_count": 221,
      "outputs": [
        {
          "output_type": "stream",
          "name": "stdout",
          "text": [
            "Accuracy Score Of Decision Tree Classifier 1.0\n",
            "\n",
            "Accuracy Score Of Random Forest Classifier 1.0\n",
            "\n",
            "Accuracy Score Of Gradient Boosting Classifier 1.0\n",
            "\n",
            "Accuracy Score Of Support Vector Machine 0.981651376146789\n",
            "\n",
            "Accuracy Score Of KNeighbors Classifier 0.981651376146789\n",
            "\n",
            "Accuracy Score Of Naive Bayes 1.0\n",
            "\n",
            "Accuracy Score Of Logistic Regression 1.0\n"
          ]
        }
      ]
    }
  ]
}